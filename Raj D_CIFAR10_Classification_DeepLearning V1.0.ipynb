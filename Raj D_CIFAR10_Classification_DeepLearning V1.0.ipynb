{
 "cells": [
  {
   "cell_type": "code",
   "execution_count": 2,
   "metadata": {},
   "outputs": [
    {
     "data": {
      "text/plain": [
       "'\\nObjective:\\n\\t\\t CIFAR10 image classification with deep-learning CNN\\n'"
      ]
     },
     "execution_count": 2,
     "metadata": {},
     "output_type": "execute_result"
    }
   ],
   "source": [
    "\"\"\"\n",
    "Objective:\n",
    "\t\t CIFAR10 image classification with deep-learning CNN\n",
    "\"\"\"\n"
   ]
  },
  {
   "cell_type": "code",
   "execution_count": 1,
   "metadata": {},
   "outputs": [],
   "source": [
    "# 1.0 Reset memory\n",
    "% reset -f"
   ]
  },
  {
   "cell_type": "code",
   "execution_count": 2,
   "metadata": {},
   "outputs": [],
   "source": [
    "import numpy as np\n",
    "import os, time\n",
    "import matplotlib.pyplot as plt\n",
    "%matplotlib inline"
   ]
  },
  {
   "cell_type": "code",
   "execution_count": 3,
   "metadata": {},
   "outputs": [
    {
     "name": "stderr",
     "output_type": "stream",
     "text": [
      "/home/ashok/anaconda3/envs/tensorflow/lib/python3.5/site-packages/h5py/__init__.py:36: FutureWarning: Conversion of the second argument of issubdtype from `float` to `np.floating` is deprecated. In future, it will be treated as `np.float64 == np.dtype(float).type`.\n",
      "  from ._conv import register_converters as _register_converters\n",
      "Using TensorFlow backend.\n"
     ]
    }
   ],
   "source": [
    "from keras.datasets import cifar10\n",
    "from keras.models import Sequential\n",
    "from keras.utils import np_utils"
   ]
  },
  {
   "cell_type": "code",
   "execution_count": 4,
   "metadata": {},
   "outputs": [],
   "source": [
    "# 1.3.1 Import layers that will be used in modeling\n",
    "from keras.layers import Convolution2D, MaxPooling2D, Dropout, Flatten, Dense, Activation"
   ]
  },
  {
   "cell_type": "code",
   "execution_count": 6,
   "metadata": {},
   "outputs": [],
   "source": [
    "(X_train, y_train), (X_test, y_test) = cifar10.load_data()"
   ]
  },
  {
   "cell_type": "code",
   "execution_count": 7,
   "metadata": {},
   "outputs": [
    {
     "data": {
      "text/plain": [
       "((50000, 32, 32, 3), (50000, 1))"
      ]
     },
     "execution_count": 7,
     "metadata": {},
     "output_type": "execute_result"
    }
   ],
   "source": [
    "X_train.shape,y_train.shape"
   ]
  },
  {
   "cell_type": "code",
   "execution_count": 8,
   "metadata": {},
   "outputs": [
    {
     "data": {
      "text/plain": [
       "10000"
      ]
     },
     "execution_count": 8,
     "metadata": {},
     "output_type": "execute_result"
    }
   ],
   "source": [
    "# 4. There are 50000 training examples in CIFAR-10\n",
    "num_train, height, width, depth = X_train.shape\n",
    "num_train, height, width, depth\n",
    "# 4.1 There are 10000 test examples in CIFAR-10\n",
    "num_test = X_test.shape[0]\n",
    "num_test"
   ]
  },
  {
   "cell_type": "code",
   "execution_count": 9,
   "metadata": {},
   "outputs": [
    {
     "data": {
      "text/plain": [
       "10"
      ]
     },
     "execution_count": 9,
     "metadata": {},
     "output_type": "execute_result"
    }
   ],
   "source": [
    "# 4.2 There are 10 image classes\n",
    "num_classes = np.unique(y_train).shape[0]\n",
    "num_classes"
   ]
  },
  {
   "cell_type": "code",
   "execution_count": 10,
   "metadata": {},
   "outputs": [
    {
     "data": {
      "text/plain": [
       "['airplane',\n",
       " 'automobile',\n",
       " 'bird',\n",
       " 'cat',\n",
       " 'deer',\n",
       " 'dog',\n",
       " 'frog',\n",
       " 'horse',\n",
       " 'ship',\n",
       " 'truck']"
      ]
     },
     "execution_count": 10,
     "metadata": {},
     "output_type": "execute_result"
    }
   ],
   "source": [
    "# 4.2.1 Class names are in alphabetical sequence\n",
    "class_names = [\"airplane\",\"automobile\",\"bird\",\"cat\",\"deer\",\"dog\",\"frog\",\"horse\",\"ship\",\"truck\"]\n",
    "\n",
    "class_names"
   ]
  },
  {
   "cell_type": "code",
   "execution_count": 12,
   "metadata": {},
   "outputs": [
    {
     "name": "stdout",
     "output_type": "stream",
     "text": [
      "[9]\n",
      "truck\n"
     ]
    },
    {
     "data": {
      "image/png": "[encoded data removed]",
      "text/plain": [
       "<matplotlib.figure.Figure at 0x7fb93804c2e8>"
      ]
     },
     "metadata": {},
     "output_type": "display_data"
    }
   ],
   "source": [
    "# 5. See an image\n",
    "i = 1\n",
    "im1 = X_train[i]    # Get an image array\n",
    "# 5.1 To which class does it belong\n",
    "print(y_train[i])\n",
    "k = class_names[y_train[i][0]]           # Result of y_train[1] is [9], an array.\n",
    "\n",
    "print(k)\n",
    "# 5.2 Plot the image\n",
    "fig = plt.figure(figsize=(4,2))\n",
    "plt.imshow(im1)                         # imshow() is a matplotlib method\n",
    "plt.show()"
   ]
  },
  {
   "cell_type": "code",
   "execution_count": 11,
   "metadata": {},
   "outputs": [
    {
     "data": {
      "text/plain": [
       "(50000, 32, 32, 3)"
      ]
     },
     "execution_count": 11,
     "metadata": {},
     "output_type": "execute_result"
    }
   ],
   "source": [
    "# 5. Change array types and normalise\n",
    "X_train = X_train.astype('float32')\n",
    "X_test = X_test.astype('float32')\n",
    "X_train /= np.max(X_train)              # Normalise data to [0, 1] range\n",
    "X_test /= np.max(X_test)                # Normalise data to [0, 1] range\n",
    "X_train.shape\n"
   ]
  },
  {
   "cell_type": "code",
   "execution_count": 12,
   "metadata": {},
   "outputs": [],
   "source": [
    "# 6. One-hot encode the labels\n",
    "Y_train = np_utils.to_categorical(y_train, num_classes)\n",
    "Y_train[:5, :]\n",
    "y_train[:5]\n",
    "Y_test = np_utils.to_categorical(y_test, num_classes)\n"
   ]
  },
  {
   "cell_type": "code",
   "execution_count": 24,
   "metadata": {},
   "outputs": [],
   "source": [
    "##                             B. Define needed constants\n",
    "\n",
    "# 2.0 Set some hyperparameters\n",
    "\n",
    "# 2.1\n",
    "batch_size = 32   # in each iteration, we consider 32 training examples at once\n",
    "# 2.1\n",
    "num_epochs = 5    # we iterate 5 times over the entire training set\n",
    "# 2.3\n",
    "kernel_size = 3   # we will use 3x3 kernels throughout\n",
    "# 2.4\n",
    "pool_size = 2     # we will use 2x2 pooling throughout\n",
    "# 2.5\n",
    "conv_depth_1 = 32 # we will initially have 32 filters per conv. layer...\n",
    "                  # Remember each filter filters out some structure from image data\n",
    "# 2.6\n",
    "conv_depth_2 = 64 # ...switching to 64 filters  the first pooling layer\n",
    "# 2.7\n",
    "drop_prob_1 = 0.25 # dropout after pooling with probability 0.25\n",
    "# 2.8\n",
    "drop_prob_2 = 0.5  # dropout in the FC layer with probability 0.5\n",
    "# 2.9\n",
    "hidden_size = 512  # the FC layer will have 512 neurons\n"
   ]
  },
  {
   "cell_type": "markdown",
   "metadata": {},
   "source": [
    "# Model Building - Option 1"
   ]
  },
  {
   "cell_type": "code",
   "execution_count": 25,
   "metadata": {},
   "outputs": [],
   "source": [
    "model = Sequential()\n",
    "model.add(Convolution2D(conv_depth_1,                            # 32 filters\n",
    "                       (kernel_size, kernel_size),               # 3 X 3\n",
    "                       padding='same',\n",
    "                       activation='relu',\n",
    "                       input_shape=(height, width, depth)        # 32 X 32 X 3\n",
    "                       )\n",
    "           )\n"
   ]
  },
  {
   "cell_type": "code",
   "execution_count": 26,
   "metadata": {},
   "outputs": [],
   "source": [
    "model.add(Convolution2D(conv_depth_1, (kernel_size, kernel_size), padding='same', activation='relu'))"
   ]
  },
  {
   "cell_type": "code",
   "execution_count": 27,
   "metadata": {},
   "outputs": [],
   "source": [
    "model.add(MaxPooling2D(pool_size=(pool_size, pool_size)))         # 2 X 2\n",
    "        "
   ]
  },
  {
   "cell_type": "code",
   "execution_count": 28,
   "metadata": {},
   "outputs": [],
   "source": [
    "model.add(Dropout(drop_prob_1 )) # 0.25"
   ]
  },
  {
   "cell_type": "code",
   "execution_count": 29,
   "metadata": {},
   "outputs": [],
   "source": [
    "# 7.2 Now flatten to 1D, apply FC -> ReLU (with dropout) -> softmax\n",
    "#     Fully connected layer\n",
    "#    https://keras.io/layers/core/#flatten\n",
    "model.add(Flatten())"
   ]
  },
  {
   "cell_type": "code",
   "execution_count": 30,
   "metadata": {},
   "outputs": [],
   "source": [
    "\"\"\"\n",
    "Dense implements the operation:\n",
    "   output = activation(dot(input, kernel) + bias)\n",
    "   where activation is the element-wise activation function\n",
    "   passed as the activation argument, kernel is a weights matrix\n",
    "   created by the layer, and bias is a bias vector created by the\n",
    "   layer (only applicable if use_bias is True).\n",
    "   Size of output has to be specified\n",
    "\"\"\"\n",
    "model.add(Dense(hidden_size, activation='relu'))   # output size = hidden_size"
   ]
  },
  {
   "cell_type": "code",
   "execution_count": 31,
   "metadata": {},
   "outputs": [],
   "source": [
    "model.add(Dropout(drop_prob_2 )) # 0.2"
   ]
  },
  {
   "cell_type": "code",
   "execution_count": 32,
   "metadata": {},
   "outputs": [],
   "source": [
    "# 7.2.2 Final output layer; softmax\n",
    "#       About softmax: https://en.wikipedia.org/wiki/Softmax_function\n",
    "#       exp(xi)/Sigma(exp(xk))\n",
    "model.add( Dense(num_classes, activation='softmax'))"
   ]
  },
  {
   "cell_type": "code",
   "execution_count": 33,
   "metadata": {},
   "outputs": [],
   "source": [
    "model.compile(loss='categorical_crossentropy',            # using the cross-entropy loss function\n",
    "              optimizer='adam',                           # using the Adam optimiser\n",
    "              metrics=['accuracy'])                       # reporting the accuracy"
   ]
  },
  {
   "cell_type": "code",
   "execution_count": 34,
   "metadata": {},
   "outputs": [
    {
     "name": "stdout",
     "output_type": "stream",
     "text": [
      "Train on 18000 samples, validate on 2000 samples\n",
      "Epoch 1/5\n",
      "18000/18000 [==============================] - 184s 10ms/step - loss: 1.9437 - acc: 0.2791 - val_loss: 1.6073 - val_acc: 0.3895\n",
      "Epoch 2/5\n",
      "18000/18000 [==============================] - 203s 11ms/step - loss: 1.6448 - acc: 0.3907 - val_loss: 1.4554 - val_acc: 0.4695\n",
      "Epoch 3/5\n",
      "18000/18000 [==============================] - 206s 11ms/step - loss: 1.5285 - acc: 0.4395 - val_loss: 1.3472 - val_acc: 0.5105\n",
      "Epoch 4/5\n",
      "18000/18000 [==============================] - 202s 11ms/step - loss: 1.4216 - acc: 0.4779 - val_loss: 1.2895 - val_acc: 0.5355\n",
      "Epoch 5/5\n",
      "18000/18000 [==============================] - 191s 11ms/step - loss: 1.3510 - acc: 0.5050 - val_loss: 1.2192 - val_acc: 0.5660\n",
      "16.42730631828308\n"
     ]
    }
   ],
   "source": [
    "start = time.time()\n",
    "history = model.fit(X_train[:20000], Y_train[:20000],         # Train the model using the training set...\n",
    "                    batch_size=batch_size, epochs=num_epochs,\n",
    "                    verbose=1, validation_split=0.1)\n",
    "end = time.time()\n",
    "\n",
    "print ((end - start)/60)"
   ]
  },
  {
   "cell_type": "code",
   "execution_count": 35,
   "metadata": {},
   "outputs": [
    {
     "data": {
      "text/plain": [
       "([0, 1, 2, 3, 4],\n",
       " {'batch_size': 32,\n",
       "  'do_validation': True,\n",
       "  'epochs': 5,\n",
       "  'metrics': ['loss', 'acc', 'val_loss', 'val_acc'],\n",
       "  'samples': 18000,\n",
       "  'steps': None,\n",
       "  'verbose': 1})"
      ]
     },
     "execution_count": 35,
     "metadata": {},
     "output_type": "execute_result"
    }
   ],
   "source": [
    "history.epoch,history.params"
   ]
  },
  {
   "cell_type": "code",
   "execution_count": 36,
   "metadata": {},
   "outputs": [
    {
     "name": "stdout",
     "output_type": "stream",
     "text": [
      "_________________________________________________________________\n",
      "Layer (type)                 Output Shape              Param #   \n",
      "=================================================================\n",
      "conv2d_5 (Conv2D)            (None, 32, 32, 32)        896       \n",
      "_________________________________________________________________\n",
      "conv2d_6 (Conv2D)            (None, 32, 32, 32)        9248      \n",
      "_________________________________________________________________\n",
      "max_pooling2d_2 (MaxPooling2 (None, 16, 16, 32)        0         \n",
      "_________________________________________________________________\n",
      "dropout_3 (Dropout)          (None, 16, 16, 32)        0         \n",
      "_________________________________________________________________\n",
      "flatten_2 (Flatten)          (None, 8192)              0         \n",
      "_________________________________________________________________\n",
      "dense_2 (Dense)              (None, 512)               4194816   \n",
      "_________________________________________________________________\n",
      "dropout_4 (Dropout)          (None, 512)               0         \n",
      "_________________________________________________________________\n",
      "dense_3 (Dense)              (None, 10)                5130      \n",
      "=================================================================\n",
      "Total params: 4,210,090\n",
      "Trainable params: 4,210,090\n",
      "Non-trainable params: 0\n",
      "_________________________________________________________________\n"
     ]
    }
   ],
   "source": [
    "model.summary()"
   ]
  },
  {
   "cell_type": "code",
   "execution_count": 39,
   "metadata": {},
   "outputs": [
    {
     "name": "stderr",
     "output_type": "stream",
     "text": [
      "No handles with labels found to put in legend.\n"
     ]
    },
    {
     "data": {
      "image/png": "[encoded data removed]",
      "text/plain": [
       "<matplotlib.figure.Figure at 0x7fe6853db470>"
      ]
     },
     "metadata": {},
     "output_type": "display_data"
    }
   ],
   "source": [
    "# 8.4 How accuracy changes as epochs increase\n",
    "val_acc = history.history['val_acc']\n",
    "tr_acc=history.history['acc']\n",
    "plt.plot(val_acc,label='val_acc')\n",
    "plt.plot(tr_acc, label=\"Tra_acc\")\n",
    "plt.legend()\n",
    "plt.show()"
   ]
  },
  {
   "cell_type": "code",
   "execution_count": 45,
   "metadata": {},
   "outputs": [
    {
     "name": "stdout",
     "output_type": "stream",
     "text": [
      "10000/10000 [==============================] - 49s 5ms/step\n"
     ]
    },
    {
     "data": {
      "text/plain": [
       "[14.506285668945312, 0.1]"
      ]
     },
     "execution_count": 45,
     "metadata": {},
     "output_type": "execute_result"
    }
   ],
   "source": [
    "# 9. Evaluate the trained model on the test set!\n",
    "model.evaluate(X_test, Y_test, verbose=1)"
   ]
  },
  {
   "cell_type": "markdown",
   "metadata": {},
   "source": [
    "# 2 Model Building - Option 2"
   ]
  },
  {
   "cell_type": "code",
   "execution_count": 67,
   "metadata": {},
   "outputs": [],
   "source": [
    "##                             B. Define needed constants\n",
    "\n",
    "# 2.0 Set some hyperparameters\n",
    "\n",
    "# 2.1\n",
    "batch_size = 32   # in each iteration, we consider 32 training examples at once\n",
    "# 2.1\n",
    "num_epochs = 3    # we iterate 5 times over the entire training set\n",
    "# 2.3\n",
    "kernel_size = 3   # we will use 3x3 kernels throughout\n",
    "# 2.4\n",
    "pool_size = 2     # we will use 2x2 pooling throughout\n",
    "# 2.5\n",
    "conv_depth_1 = 32 # we will initially have 32 filters per conv. layer...\n",
    "                  # Remember each filter filters out some structure from image data\n",
    "# 2.6\n",
    "conv_depth_2 = 64 # ...switching to 64 filters  the first pooling layer\n",
    "# 2.7\n",
    "drop_prob_1 = 0.25 # dropout after pooling with probability 0.25\n",
    "# 2.8\n",
    "drop_prob_2 = 0.5  # dropout in the FC layer with probability 0.5\n",
    "# 2.9\n",
    "hidden_size = 256  # the FC layer will have 512 neurons"
   ]
  },
  {
   "cell_type": "code",
   "execution_count": 69,
   "metadata": {},
   "outputs": [],
   "source": [
    "model1 = Sequential()\n",
    "model1.add(Convolution2D(conv_depth_1, (kernel_size, kernel_size),\n",
    "                        padding='same',\n",
    "                        input_shape=(height, width, depth)\n",
    "                       )\n",
    "         )          \n",
    "model1.add(Activation('relu'))\n",
    "model1.add(Convolution2D(conv_depth_2, (kernel_size, kernel_size),\n",
    "                        padding='same',\n",
    "                        input_shape=(height, width, depth)\n",
    "                       )\n",
    "         )\n",
    "model1.add(Activation('relu'))\n",
    "model1.add(MaxPooling2D(pool_size=(pool_size, pool_size)))\n",
    "model1.add(Dropout(0.25))\n",
    "\n",
    "model1.add(Flatten())\n",
    "model1.add(Dense(512))\n",
    "model1.add(Activation('relu'))\n",
    "model1.add(Dropout(0.5))\n",
    "model1.add(Dense(num_classes))\n",
    "model1.add(Activation('softmax'))\n",
    "\n",
    "model1.compile(loss='categorical_crossentropy', optimizer='adam', metrics=['accuracy'])\n"
   ]
  },
  {
   "cell_type": "code",
   "execution_count": 70,
   "metadata": {},
   "outputs": [
    {
     "name": "stdout",
     "output_type": "stream",
     "text": [
      "_________________________________________________________________\n",
      "Layer (type)                 Output Shape              Param #   \n",
      "=================================================================\n",
      "conv2d_23 (Conv2D)           (None, 32, 32, 32)        896       \n",
      "_________________________________________________________________\n",
      "activation_33 (Activation)   (None, 32, 32, 32)        0         \n",
      "_________________________________________________________________\n",
      "conv2d_24 (Conv2D)           (None, 32, 32, 64)        18496     \n",
      "_________________________________________________________________\n",
      "activation_34 (Activation)   (None, 32, 32, 64)        0         \n",
      "_________________________________________________________________\n",
      "max_pooling2d_16 (MaxPooling (None, 16, 16, 64)        0         \n",
      "_________________________________________________________________\n",
      "dropout_21 (Dropout)         (None, 16, 16, 64)        0         \n",
      "_________________________________________________________________\n",
      "flatten_11 (Flatten)         (None, 16384)             0         \n",
      "_________________________________________________________________\n",
      "dense_20 (Dense)             (None, 512)               8389120   \n",
      "_________________________________________________________________\n",
      "activation_35 (Activation)   (None, 512)               0         \n",
      "_________________________________________________________________\n",
      "dropout_22 (Dropout)         (None, 512)               0         \n",
      "_________________________________________________________________\n",
      "dense_21 (Dense)             (None, 10)                5130      \n",
      "_________________________________________________________________\n",
      "activation_36 (Activation)   (None, 10)                0         \n",
      "=================================================================\n",
      "Total params: 8,413,642\n",
      "Trainable params: 8,413,642\n",
      "Non-trainable params: 0\n",
      "_________________________________________________________________\n"
     ]
    }
   ],
   "source": [
    "model1.summary()"
   ]
  },
  {
   "cell_type": "code",
   "execution_count": 71,
   "metadata": {},
   "outputs": [
    {
     "name": "stdout",
     "output_type": "stream",
     "text": [
      "Train on 18000 samples, validate on 2000 samples\n",
      "Epoch 1/3\n",
      "18000/18000 [==============================] - 383s 21ms/step - loss: 1.6522 - acc: 0.4004 - val_loss: 1.3738 - val_acc: 0.5030\n",
      "Epoch 2/3\n",
      "18000/18000 [==============================] - 450s 25ms/step - loss: 1.2898 - acc: 0.5341 - val_loss: 1.2334 - val_acc: 0.5655\n",
      "Epoch 3/3\n",
      "18000/18000 [==============================] - 446s 25ms/step - loss: 1.0982 - acc: 0.6062 - val_loss: 1.0934 - val_acc: 0.6160\n",
      "21.334429248174033\n"
     ]
    }
   ],
   "source": [
    "start = time.time()\n",
    "history = model1.fit(X_train[:20000], Y_train[:20000],         # Train the model using the training set...\n",
    "                    batch_size=batch_size, epochs=num_epochs,\n",
    "                    verbose=1, validation_split=0.1)\n",
    "end = time.time()\n",
    "\n",
    "print ((end - start)/60)"
   ]
  },
  {
   "cell_type": "code",
   "execution_count": 72,
   "metadata": {},
   "outputs": [
    {
     "data": {
      "image/png": "[encoded data removed]",
      "text/plain": [
       "<matplotlib.figure.Figure at 0x7fe632d37390>"
      ]
     },
     "metadata": {},
     "output_type": "display_data"
    }
   ],
   "source": [
    "# 8.4 How accuracy changes as epochs increase\n",
    "val_acc = history.history['val_acc']\n",
    "tr_acc=history.history['acc']\n",
    "plt.plot(val_acc,label='val_acc')\n",
    "plt.plot(tr_acc, label=\"Tra_acc\")\n",
    "plt.legend()\n",
    "plt.show()"
   ]
  },
  {
   "cell_type": "code",
   "execution_count": 46,
   "metadata": {},
   "outputs": [
    {
     "name": "stdout",
     "output_type": "stream",
     "text": [
      "10000/10000 [==============================] - 44s 4ms/step\n"
     ]
    },
    {
     "data": {
      "text/plain": [
       "[14.506285668945312, 0.1]"
      ]
     },
     "execution_count": 46,
     "metadata": {},
     "output_type": "execute_result"
    }
   ],
   "source": [
    "# 9. Evaluate the trained model on the test set!\n",
    "model1.evaluate(X_test, Y_test, verbose=1)"
   ]
  },
  {
   "cell_type": "markdown",
   "metadata": {},
   "source": [
    "# 3 Model Building - Option 3"
   ]
  },
  {
   "cell_type": "code",
   "execution_count": 51,
   "metadata": {},
   "outputs": [],
   "source": [
    "##                             B. Define needed constants\n",
    "\n",
    "# 2.0 Set some hyperparameters\n",
    "\n",
    "# 2.1\n",
    "batch_size = 32   # in each iteration, we consider 32 training examples at once\n",
    "# 2.1\n",
    "num_epochs = 10    # we iterate 5 times over the entire training set\n",
    "# 2.3\n",
    "kernel_size = 3   # we will use 3x3 kernels throughout\n",
    "# 2.4\n",
    "pool_size = 2     # we will use 2x2 pooling throughout\n",
    "# 2.5\n",
    "conv_depth_1 = 32 # we will initially have 32 filters per conv. layer...\n",
    "                  # Remember each filter filters out some structure from image data\n",
    "# 2.6\n",
    "conv_depth_2 = 64 # ...switching to 64 filters  the first pooling layer\n",
    "# 2.7\n",
    "drop_prob_1 = 0.25 # dropout after pooling with probability 0.25\n",
    "# 2.8\n",
    "drop_prob_2 = 0.5  # dropout in the FC layer with probability 0.5\n",
    "# 2.9\n",
    "hidden_size = 256  # the FC layer will have 512 neurons"
   ]
  },
  {
   "cell_type": "code",
   "execution_count": 52,
   "metadata": {},
   "outputs": [],
   "source": [
    "model2 = Sequential()\n",
    "model2.add(Convolution2D(conv_depth_1, (kernel_size, kernel_size),\n",
    "                        padding='same',\n",
    "                        input_shape=(height, width, depth)\n",
    "                       )\n",
    "         )          \n",
    "model2.add(Activation('relu'))\n",
    "model2.add(MaxPooling2D(pool_size=(pool_size, pool_size)))\n",
    "model2.add(Convolution2D(conv_depth_2, (kernel_size, kernel_size),\n",
    "                        padding='same',\n",
    "                        input_shape=(height, width, depth)\n",
    "                       )\n",
    "         )\n",
    "model2.add(Activation('relu'))\n",
    "model2.add(MaxPooling2D(pool_size=(pool_size, pool_size)))\n",
    "model2.add(Dropout(0.25))\n",
    "\n",
    "model2.add(Flatten())\n",
    "model2.add(Dense(256))\n",
    "model2.add(Activation('relu'))\n",
    "model2.add(Dropout(0.5))\n",
    "model2.add(Dense(num_classes))\n",
    "model2.add(Activation('softmax'))\n",
    "\n",
    "model2.compile(loss='categorical_crossentropy', optimizer='adam', metrics=['accuracy'])"
   ]
  },
  {
   "cell_type": "code",
   "execution_count": 53,
   "metadata": {},
   "outputs": [
    {
     "name": "stdout",
     "output_type": "stream",
     "text": [
      "_________________________________________________________________\n",
      "Layer (type)                 Output Shape              Param #   \n",
      "=================================================================\n",
      "conv2d_13 (Conv2D)           (None, 32, 32, 32)        896       \n",
      "_________________________________________________________________\n",
      "activation_13 (Activation)   (None, 32, 32, 32)        0         \n",
      "_________________________________________________________________\n",
      "max_pooling2d_7 (MaxPooling2 (None, 16, 16, 32)        0         \n",
      "_________________________________________________________________\n",
      "conv2d_14 (Conv2D)           (None, 16, 16, 64)        18496     \n",
      "_________________________________________________________________\n",
      "activation_14 (Activation)   (None, 16, 16, 64)        0         \n",
      "_________________________________________________________________\n",
      "max_pooling2d_8 (MaxPooling2 (None, 8, 8, 64)          0         \n",
      "_________________________________________________________________\n",
      "dropout_11 (Dropout)         (None, 8, 8, 64)          0         \n",
      "_________________________________________________________________\n",
      "flatten_6 (Flatten)          (None, 4096)              0         \n",
      "_________________________________________________________________\n",
      "dense_10 (Dense)             (None, 256)               1048832   \n",
      "_________________________________________________________________\n",
      "activation_15 (Activation)   (None, 256)               0         \n",
      "_________________________________________________________________\n",
      "dropout_12 (Dropout)         (None, 256)               0         \n",
      "_________________________________________________________________\n",
      "dense_11 (Dense)             (None, 10)                2570      \n",
      "_________________________________________________________________\n",
      "activation_16 (Activation)   (None, 10)                0         \n",
      "=================================================================\n",
      "Total params: 1,070,794\n",
      "Trainable params: 1,070,794\n",
      "Non-trainable params: 0\n",
      "_________________________________________________________________\n"
     ]
    }
   ],
   "source": [
    "model2.summary()"
   ]
  },
  {
   "cell_type": "code",
   "execution_count": 54,
   "metadata": {},
   "outputs": [
    {
     "name": "stdout",
     "output_type": "stream",
     "text": [
      "Train on 18000 samples, validate on 2000 samples\n",
      "Epoch 1/10\n",
      "18000/18000 [==============================] - 98s 5ms/step - loss: 1.9078 - acc: 0.2989 - val_loss: 1.6562 - val_acc: 0.4080\n",
      "Epoch 2/10\n",
      "18000/18000 [==============================] - 91s 5ms/step - loss: 1.5970 - acc: 0.4171 - val_loss: 1.4143 - val_acc: 0.4870\n",
      "Epoch 3/10\n",
      "18000/18000 [==============================] - 101s 6ms/step - loss: 1.5004 - acc: 0.4541 - val_loss: 1.3868 - val_acc: 0.5025\n",
      "Epoch 4/10\n",
      "18000/18000 [==============================] - 96s 5ms/step - loss: 1.3970 - acc: 0.4897 - val_loss: 1.2610 - val_acc: 0.5490\n",
      "Epoch 5/10\n",
      "18000/18000 [==============================] - 97s 5ms/step - loss: 1.3321 - acc: 0.5183 - val_loss: 1.2045 - val_acc: 0.5820\n",
      "Epoch 6/10\n",
      "18000/18000 [==============================] - 91s 5ms/step - loss: 1.2768 - acc: 0.5447 - val_loss: 1.1738 - val_acc: 0.5915\n",
      "Epoch 7/10\n",
      "18000/18000 [==============================] - 103s 6ms/step - loss: 1.2245 - acc: 0.5569 - val_loss: 1.1034 - val_acc: 0.6270\n",
      "Epoch 8/10\n",
      "18000/18000 [==============================] - 88s 5ms/step - loss: 1.1740 - acc: 0.5773 - val_loss: 1.1660 - val_acc: 0.5965\n",
      "Epoch 9/10\n",
      "18000/18000 [==============================] - 120s 7ms/step - loss: 1.1411 - acc: 0.5826 - val_loss: 1.1062 - val_acc: 0.6210\n",
      "Epoch 10/10\n",
      "18000/18000 [==============================] - 104s 6ms/step - loss: 1.1004 - acc: 0.6022 - val_loss: 1.0759 - val_acc: 0.6275\n",
      "16.494190510114034\n"
     ]
    }
   ],
   "source": [
    "start = time.time()\n",
    "history = model2.fit(X_train[:20000], Y_train[:20000],         # Train the model using the training set...\n",
    "                    batch_size=batch_size, epochs=num_epochs,\n",
    "                    verbose=1, validation_split=0.1)\n",
    "end = time.time()\n",
    "\n",
    "print ((end - start)/60)"
   ]
  },
  {
   "cell_type": "code",
   "execution_count": 55,
   "metadata": {},
   "outputs": [
    {
     "name": "stderr",
     "output_type": "stream",
     "text": [
      "No handles with labels found to put in legend.\n"
     ]
    },
    {
     "data": {
      "image/png": "[encoded data removed]",
      "text/plain": [
       "<matplotlib.figure.Figure at 0x7fe633a1ea90>"
      ]
     },
     "metadata": {},
     "output_type": "display_data"
    }
   ],
   "source": [
    "# 8.4 How accuracy changes as epochs increase\n",
    "val_acc = history.history['val_acc']\n",
    "tr_acc=history.history['acc']\n",
    "plt.plot(val_acc,label='val_acc')\n",
    "plt.plot(tr_acc, label=\"Tra_acc\")\n",
    "plt.legend()\n",
    "plt.show()"
   ]
  },
  {
   "cell_type": "code",
   "execution_count": 65,
   "metadata": {},
   "outputs": [
    {
     "name": "stdout",
     "output_type": "stream",
     "text": [
      "10000/10000 [==============================] - 26s 3ms/step\n"
     ]
    },
    {
     "data": {
      "text/plain": [
       "[2.3085036407470705, 0.0955]"
      ]
     },
     "execution_count": 65,
     "metadata": {},
     "output_type": "execute_result"
    }
   ],
   "source": [
    "# 9. Evaluate the trained model on the test set!\n",
    "model2.evaluate(X_test, Y_test, verbose=1)"
   ]
  },
  {
   "cell_type": "markdown",
   "metadata": {},
   "source": [
    "# 4 Model Building - Option 4"
   ]
  },
  {
   "cell_type": "code",
   "execution_count": 60,
   "metadata": {},
   "outputs": [],
   "source": [
    "##                             B. Define needed constants\n",
    "\n",
    "# 2.0 Set some hyperparameters\n",
    "\n",
    "# 2.1\n",
    "batch_size = 32   # in each iteration, we consider 32 training examples at once\n",
    "# 2.1\n",
    "num_epochs = 10    # we iterate 5 times over the entire training set\n",
    "# 2.3\n",
    "kernel_size = 4   # we will use 4x4 kernels throughout\n",
    "# 2.4\n",
    "pool_size = 3    # we will use 2x2 pooling throughout\n",
    "# 2.5\n",
    "conv_depth_1 = 32 # we will initially have 32 filters per conv. layer...\n",
    "                  # Remember each filter filters out some structure from image data\n",
    "# 2.6\n",
    "conv_depth_2 = 64 # ...switching to 64 filters  the first pooling layer\n",
    "# 2.7\n",
    "drop_prob_1 = 0.25 # dropout after pooling with probability 0.25\n",
    "# 2.8\n",
    "drop_prob_2 = 0.5  # dropout in the FC layer with probability 0.5\n",
    "# 2.9\n",
    "hidden_size = 256  # the FC layer will have 512 neurons"
   ]
  },
  {
   "cell_type": "code",
   "execution_count": 61,
   "metadata": {},
   "outputs": [],
   "source": [
    "model3 = Sequential()\n",
    "model3.add(Convolution2D(conv_depth_1, (kernel_size, kernel_size),\n",
    "                        padding='same',\n",
    "                        input_shape=(height, width, depth)\n",
    "                       )\n",
    "         )          \n",
    "model3.add(Activation('relu'))\n",
    "model3.add(MaxPooling2D(pool_size=(pool_size, pool_size)))\n",
    "model3.add(Convolution2D(conv_depth_2, (kernel_size, kernel_size),\n",
    "                        padding='same',\n",
    "                        input_shape=(height, width, depth)\n",
    "                       )\n",
    "         )\n",
    "model3.add(Activation('relu'))\n",
    "model3.add(MaxPooling2D(pool_size=(pool_size, pool_size)))\n",
    "model3.add(Dropout(0.25))\n",
    "\n",
    "model3.add(Flatten())\n",
    "model3.add(Dense(256))\n",
    "model3.add(Activation('relu'))\n",
    "model3.add(Dropout(0.5))\n",
    "model3.add(Dense(num_classes))\n",
    "model3.add(Activation('softmax'))\n",
    "\n",
    "model3.compile(loss='categorical_crossentropy', optimizer='adam', metrics=['accuracy'])"
   ]
  },
  {
   "cell_type": "code",
   "execution_count": 62,
   "metadata": {},
   "outputs": [
    {
     "name": "stdout",
     "output_type": "stream",
     "text": [
      "_________________________________________________________________\n",
      "Layer (type)                 Output Shape              Param #   \n",
      "=================================================================\n",
      "conv2d_19 (Conv2D)           (None, 32, 32, 32)        1568      \n",
      "_________________________________________________________________\n",
      "activation_25 (Activation)   (None, 32, 32, 32)        0         \n",
      "_________________________________________________________________\n",
      "max_pooling2d_13 (MaxPooling (None, 10, 10, 32)        0         \n",
      "_________________________________________________________________\n",
      "conv2d_20 (Conv2D)           (None, 10, 10, 64)        32832     \n",
      "_________________________________________________________________\n",
      "activation_26 (Activation)   (None, 10, 10, 64)        0         \n",
      "_________________________________________________________________\n",
      "max_pooling2d_14 (MaxPooling (None, 3, 3, 64)          0         \n",
      "_________________________________________________________________\n",
      "dropout_17 (Dropout)         (None, 3, 3, 64)          0         \n",
      "_________________________________________________________________\n",
      "flatten_9 (Flatten)          (None, 576)               0         \n",
      "_________________________________________________________________\n",
      "dense_16 (Dense)             (None, 256)               147712    \n",
      "_________________________________________________________________\n",
      "activation_27 (Activation)   (None, 256)               0         \n",
      "_________________________________________________________________\n",
      "dropout_18 (Dropout)         (None, 256)               0         \n",
      "_________________________________________________________________\n",
      "dense_17 (Dense)             (None, 10)                2570      \n",
      "_________________________________________________________________\n",
      "activation_28 (Activation)   (None, 10)                0         \n",
      "=================================================================\n",
      "Total params: 184,682\n",
      "Trainable params: 184,682\n",
      "Non-trainable params: 0\n",
      "_________________________________________________________________\n"
     ]
    }
   ],
   "source": [
    "model3.summary()"
   ]
  },
  {
   "cell_type": "code",
   "execution_count": 63,
   "metadata": {},
   "outputs": [
    {
     "name": "stdout",
     "output_type": "stream",
     "text": [
      "Train on 18000 samples, validate on 2000 samples\n",
      "Epoch 1/10\n",
      "18000/18000 [==============================] - 90s 5ms/step - loss: 1.8432 - acc: 0.3141 - val_loss: 1.5042 - val_acc: 0.4545\n",
      "Epoch 2/10\n",
      "18000/18000 [==============================] - 87s 5ms/step - loss: 1.5164 - acc: 0.4466 - val_loss: 1.3491 - val_acc: 0.5020\n",
      "Epoch 3/10\n",
      "18000/18000 [==============================] - 87s 5ms/step - loss: 1.3852 - acc: 0.5005 - val_loss: 1.3077 - val_acc: 0.5280\n",
      "Epoch 4/10\n",
      "18000/18000 [==============================] - 100s 6ms/step - loss: 1.2912 - acc: 0.5383 - val_loss: 1.2005 - val_acc: 0.5790\n",
      "Epoch 5/10\n",
      "18000/18000 [==============================] - 100s 6ms/step - loss: 1.2171 - acc: 0.5645 - val_loss: 1.1577 - val_acc: 0.5985\n",
      "Epoch 6/10\n",
      "18000/18000 [==============================] - 93s 5ms/step - loss: 1.1549 - acc: 0.5913 - val_loss: 1.1038 - val_acc: 0.6155\n",
      "Epoch 7/10\n",
      "18000/18000 [==============================] - 97s 5ms/step - loss: 1.1051 - acc: 0.6087 - val_loss: 1.0853 - val_acc: 0.6250\n",
      "Epoch 8/10\n",
      "18000/18000 [==============================] - 77s 4ms/step - loss: 1.0597 - acc: 0.6196 - val_loss: 1.0768 - val_acc: 0.6210\n",
      "Epoch 9/10\n",
      "18000/18000 [==============================] - 109s 6ms/step - loss: 1.0240 - acc: 0.6375 - val_loss: 1.0057 - val_acc: 0.6500\n",
      "Epoch 10/10\n",
      "18000/18000 [==============================] - 85s 5ms/step - loss: 0.9827 - acc: 0.6509 - val_loss: 1.0260 - val_acc: 0.6380\n",
      "15.450124776363372\n"
     ]
    }
   ],
   "source": [
    "start = time.time()\n",
    "history = model3.fit(X_train[:20000], Y_train[:20000],         # Train the model using the training set...\n",
    "                    batch_size=batch_size, epochs=num_epochs,\n",
    "                    verbose=1, validation_split=0.1)\n",
    "end = time.time()\n",
    "\n",
    "print ((end - start)/60)"
   ]
  },
  {
   "cell_type": "code",
   "execution_count": 64,
   "metadata": {},
   "outputs": [
    {
     "name": "stderr",
     "output_type": "stream",
     "text": [
      "No handles with labels found to put in legend.\n"
     ]
    },
    {
     "data": {
      "image/png": "[encoded data removed]",
      "text/plain": [
       "<matplotlib.figure.Figure at 0x7fe633573a90>"
      ]
     },
     "metadata": {},
     "output_type": "display_data"
    }
   ],
   "source": [
    "# 8.4 How accuracy changes as epochs increase\n",
    "val_acc = history.history['val_acc']\n",
    "tr_acc=history.history['acc']\n",
    "plt.plot(val_acc,label='val_acc')\n",
    "plt.plot(tr_acc, label=\"Tra_acc\")\n",
    "plt.legend()\n",
    "plt.show()"
   ]
  },
  {
   "cell_type": "code",
   "execution_count": 66,
   "metadata": {},
   "outputs": [
    {
     "name": "stdout",
     "output_type": "stream",
     "text": [
      "10000/10000 [==============================] - 15s 2ms/step\n"
     ]
    },
    {
     "data": {
      "text/plain": [
       "[1.0091965453147889, 0.6459]"
      ]
     },
     "execution_count": 66,
     "metadata": {},
     "output_type": "execute_result"
    }
   ],
   "source": [
    "# 9. Evaluate the trained model on the test set!\n",
    "model3.evaluate(X_test, Y_test, verbose=1)"
   ]
  },
  {
   "cell_type": "code",
   "execution_count": null,
   "metadata": {},
   "outputs": [],
   "source": []
  }
 ],
 "metadata": {
  "kernelspec": {
   "display_name": "Python 3",
   "language": "python",
   "name": "python3"
  },
  "language_info": {
   "codemirror_mode": {
    "name": "ipython",
    "version": 3
   },
   "file_extension": ".py",
   "mimetype": "text/x-python",
   "name": "python",
   "nbconvert_exporter": "python",
   "pygments_lexer": "ipython3",
   "version": "3.5.4"
  }
 },
 "nbformat": 4,
 "nbformat_minor": 2
}
