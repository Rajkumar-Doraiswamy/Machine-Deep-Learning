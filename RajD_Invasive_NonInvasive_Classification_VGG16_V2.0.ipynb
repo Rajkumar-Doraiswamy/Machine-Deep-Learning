{
 "cells": [
  {
   "cell_type": "code",
   "execution_count": 32,
   "metadata": {},
   "outputs": [],
   "source": [
    "%reset -f"
   ]
  },
  {
   "cell_type": "code",
   "execution_count": 33,
   "metadata": {},
   "outputs": [],
   "source": [
    "# 1. Call libraries\n",
    "import numpy as np\n",
    "\n",
    "# 1.1 Classes for creating models\n",
    "from keras.models import Sequential\n",
    "from keras.layers import Dropout, Flatten, Dense\n",
    "\n",
    "# 1.2 Class for accessing pre-built models\n",
    "from keras import applications\n",
    "\n",
    "# 1.3 Class for generating infinite images\n",
    "from keras.preprocessing.image import ImageDataGenerator\n",
    "\n",
    "# 1.4 Miscelleneous\n",
    "import matplotlib.pyplot as plt\n",
    "import time, os\n"
   ]
  },
  {
   "cell_type": "code",
   "execution_count": 34,
   "metadata": {},
   "outputs": [],
   "source": [
    "train_data_dir      =  '/home/ashok/Images/kaggle_invasive/data'\n",
    "validation_data_dir =  '/home/ashok/Images/kaggle_invasive/valid'"
   ]
  },
  {
   "cell_type": "code",
   "execution_count": 35,
   "metadata": {},
   "outputs": [],
   "source": [
    "img_width, img_height = 150, 150\n",
    "#nb_train_samples, nb_validation_samples = 2000, 800"
   ]
  },
  {
   "cell_type": "code",
   "execution_count": 36,
   "metadata": {},
   "outputs": [],
   "source": [
    "num_classes = 2\n",
    "train_samples = 2000\n",
    "validation_samples = 295\n",
    "batch_size_train = 16\n",
    "batch_size_valid = 5 \n",
    "#image_height = 224        # ResNet input image shape\n",
    "#image_width = 224\n",
    "#esnet_weights_path = '/home/ashok/.keras/models/resnet50_weights_tf_dim_ordering_tf_kernels_notop.h5'\n",
    "\n",
    "\n",
    "traindata_filename = '/home/ashok/.keras/models/BottleNeck_Features_InvNonInv_traindata.npy'\n",
    "\n",
    "# 2.6 File to which transformed bottleneck features for validation data wil be stored\n",
    "val_filename = '/home/ashok/.keras/models/BottleNeck_Features_InvNonInv_validationdata.npy'"
   ]
  },
  {
   "cell_type": "code",
   "execution_count": 37,
   "metadata": {},
   "outputs": [
    {
     "data": {
      "text/plain": [
       "(125, 59)"
      ]
     },
     "execution_count": 37,
     "metadata": {},
     "output_type": "execute_result"
    }
   ],
   "source": [
    "train_samples   //batch_size_train, validation_samples//batch_size_valid"
   ]
  },
  {
   "cell_type": "markdown",
   "metadata": {},
   "source": [
    "# Instantiating a small ConvNet "
   ]
  },
  {
   "cell_type": "code",
   "execution_count": 38,
   "metadata": {},
   "outputs": [],
   "source": [
    "from keras import layers\n",
    "from keras import models\n",
    "model = models.Sequential()\n",
    "model.add(layers.Conv2D(32, (3, 3), activation='relu',\n",
    "input_shape=(150, 150, 3)))\n",
    "model.add(layers.MaxPooling2D((2, 2)))\n",
    "model.add(layers.Conv2D(64, (3, 3), activation='relu'))\n",
    "model.add(layers.MaxPooling2D((2, 2)))\n",
    "model.add(layers.Conv2D(128, (3, 3), activation='relu'))\n",
    "model.add(layers.MaxPooling2D((2, 2)))\n",
    "model.add(layers.Conv2D(128, (3, 3), activation='relu'))\n",
    "model.add(layers.MaxPooling2D((2, 2)))\n",
    "model.add(layers.Flatten())\n",
    "model.add(layers.Dense(512, activation='relu'))\n",
    "model.add(layers.Dense(1, activation='sigmoid'))"
   ]
  },
  {
   "cell_type": "code",
   "execution_count": 39,
   "metadata": {},
   "outputs": [
    {
     "name": "stdout",
     "output_type": "stream",
     "text": [
      "_________________________________________________________________\n",
      "Layer (type)                 Output Shape              Param #   \n",
      "=================================================================\n",
      "conv2d_9 (Conv2D)            (None, 148, 148, 32)      896       \n",
      "_________________________________________________________________\n",
      "max_pooling2d_9 (MaxPooling2 (None, 74, 74, 32)        0         \n",
      "_________________________________________________________________\n",
      "conv2d_10 (Conv2D)           (None, 72, 72, 64)        18496     \n",
      "_________________________________________________________________\n",
      "max_pooling2d_10 (MaxPooling (None, 36, 36, 64)        0         \n",
      "_________________________________________________________________\n",
      "conv2d_11 (Conv2D)           (None, 34, 34, 128)       73856     \n",
      "_________________________________________________________________\n",
      "max_pooling2d_11 (MaxPooling (None, 17, 17, 128)       0         \n",
      "_________________________________________________________________\n",
      "conv2d_12 (Conv2D)           (None, 15, 15, 128)       147584    \n",
      "_________________________________________________________________\n",
      "max_pooling2d_12 (MaxPooling (None, 7, 7, 128)         0         \n",
      "_________________________________________________________________\n",
      "flatten_3 (Flatten)          (None, 6272)              0         \n",
      "_________________________________________________________________\n",
      "dense_5 (Dense)              (None, 512)               3211776   \n",
      "_________________________________________________________________\n",
      "dense_6 (Dense)              (None, 1)                 513       \n",
      "=================================================================\n",
      "Total params: 3,453,121\n",
      "Trainable params: 3,453,121\n",
      "Non-trainable params: 0\n",
      "_________________________________________________________________\n"
     ]
    }
   ],
   "source": [
    "model.summary()"
   ]
  },
  {
   "cell_type": "code",
   "execution_count": 40,
   "metadata": {},
   "outputs": [],
   "source": [
    "from keras import optimizers\n",
    "\n",
    "model.compile(loss='binary_crossentropy',\n",
    "              optimizer=optimizers.RMSprop(lr=1e-4),\n",
    "              metrics=['acc']\n",
    "             )"
   ]
  },
  {
   "cell_type": "markdown",
   "metadata": {},
   "source": [
    "# Data Preprocessing from ImageGenerators"
   ]
  },
  {
   "cell_type": "code",
   "execution_count": 41,
   "metadata": {},
   "outputs": [],
   "source": [
    "datagen_train = ImageDataGenerator(rescale=1. / 255)\n",
    "datagen_val = ImageDataGenerator(rescale=1. / 255)"
   ]
  },
  {
   "cell_type": "code",
   "execution_count": 42,
   "metadata": {},
   "outputs": [
    {
     "name": "stdout",
     "output_type": "stream",
     "text": [
      "Found 2000 images belonging to 2 classes.\n"
     ]
    }
   ],
   "source": [
    "generator_tr = datagen_train.flow_from_directory(\n",
    "                                                  directory = train_data_dir,             \n",
    "                                                  target_size=(150,150),    \n",
    "                                                  batch_size=train_samples//batch_size_train,                 \n",
    "                                                  class_mode='binary' \n",
    "                                                )\n",
    "\n",
    "                                                    "
   ]
  },
  {
   "cell_type": "code",
   "execution_count": 43,
   "metadata": {},
   "outputs": [
    {
     "name": "stdout",
     "output_type": "stream",
     "text": [
      "Found 295 images belonging to 2 classes.\n"
     ]
    }
   ],
   "source": [
    "generator_val = datagen_val.flow_from_directory(\n",
    "                                                  directory = validation_data_dir,             \n",
    "                                                  target_size=(150,150),    \n",
    "                                                  batch_size=validation_samples//batch_size_valid,                 \n",
    "                                                  class_mode='binary' \n",
    "                                                )"
   ]
  },
  {
   "cell_type": "code",
   "execution_count": 44,
   "metadata": {},
   "outputs": [
    {
     "name": "stdout",
     "output_type": "stream",
     "text": [
      "data batch shape: (125, 150, 150, 3)\n",
      "labels batch shape: (125,)\n",
      "data batch shape: (59, 150, 150, 3)\n",
      "labels batch shape: (59,)\n"
     ]
    }
   ],
   "source": [
    "for data_batch, labels_batch in generator_tr:\n",
    "    print('data batch shape:', data_batch.shape)\n",
    "    print('labels batch shape:', labels_batch.shape)\n",
    "    break\n",
    "for data_batch, labels_batch in generator_val:\n",
    "    print('data batch shape:', data_batch.shape)\n",
    "    print('labels batch shape:', labels_batch.shape)\n",
    "    break"
   ]
  },
  {
   "cell_type": "markdown",
   "metadata": {},
   "source": [
    "# Fitting the model using a batch generator"
   ]
  },
  {
   "cell_type": "code",
   "execution_count": 45,
   "metadata": {},
   "outputs": [
    {
     "name": "stdout",
     "output_type": "stream",
     "text": [
      "Epoch 1/10\n",
      "125/125 [==============================] - 5923s 47s/step - loss: 3.4466 - acc: 0.5940 - val_loss: 9.9978 - val_acc: 0.3729\n",
      "Epoch 2/10\n",
      "125/125 [==============================] - 30005s 240s/step - loss: 9.9485 - acc: 0.3748 - val_loss: 9.9978 - val_acc: 0.3729\n",
      "Epoch 3/10\n",
      "125/125 [==============================] - 3329s 27s/step - loss: 10.0511 - acc: 0.3695 - val_loss: 9.9978 - val_acc: 0.3729\n",
      "Epoch 4/10\n",
      " 11/125 [=>............................] - ETA: 44:45 - loss: 10.2147 - acc: 0.3593"
     ]
    },
    {
     "ename": "KeyboardInterrupt",
     "evalue": "",
     "output_type": "error",
     "traceback": [
      "\u001b[0;31m---------------------------------------------------------------------------\u001b[0m",
      "\u001b[0;31mKeyboardInterrupt\u001b[0m                         Traceback (most recent call last)",
      "\u001b[0;32m<ipython-input-45-96f96cc0ebb2>\u001b[0m in \u001b[0;36m<module>\u001b[0;34m()\u001b[0m\n\u001b[1;32m      4\u001b[0m                                 \u001b[0mepochs\u001b[0m\u001b[0;34m=\u001b[0m\u001b[0;36m10\u001b[0m\u001b[0;34m,\u001b[0m\u001b[0;34m\u001b[0m\u001b[0m\n\u001b[1;32m      5\u001b[0m                                 \u001b[0mvalidation_data\u001b[0m\u001b[0;34m=\u001b[0m\u001b[0mgenerator_val\u001b[0m\u001b[0;34m,\u001b[0m\u001b[0;34m\u001b[0m\u001b[0m\n\u001b[0;32m----> 6\u001b[0;31m                                 \u001b[0mvalidation_steps\u001b[0m\u001b[0;34m=\u001b[0m\u001b[0;36m50\u001b[0m\u001b[0;34m\u001b[0m\u001b[0m\n\u001b[0m\u001b[1;32m      7\u001b[0m                              )\n",
      "\u001b[0;32m~/anaconda3/envs/tensorflow/lib/python3.5/site-packages/keras/legacy/interfaces.py\u001b[0m in \u001b[0;36mwrapper\u001b[0;34m(*args, **kwargs)\u001b[0m\n\u001b[1;32m     89\u001b[0m                 warnings.warn('Update your `' + object_name +\n\u001b[1;32m     90\u001b[0m                               '` call to the Keras 2 API: ' + signature, stacklevel=2)\n\u001b[0;32m---> 91\u001b[0;31m             \u001b[0;32mreturn\u001b[0m \u001b[0mfunc\u001b[0m\u001b[0;34m(\u001b[0m\u001b[0;34m*\u001b[0m\u001b[0margs\u001b[0m\u001b[0;34m,\u001b[0m \u001b[0;34m**\u001b[0m\u001b[0mkwargs\u001b[0m\u001b[0;34m)\u001b[0m\u001b[0;34m\u001b[0m\u001b[0m\n\u001b[0m\u001b[1;32m     92\u001b[0m         \u001b[0mwrapper\u001b[0m\u001b[0;34m.\u001b[0m\u001b[0m_original_function\u001b[0m \u001b[0;34m=\u001b[0m \u001b[0mfunc\u001b[0m\u001b[0;34m\u001b[0m\u001b[0m\n\u001b[1;32m     93\u001b[0m         \u001b[0;32mreturn\u001b[0m \u001b[0mwrapper\u001b[0m\u001b[0;34m\u001b[0m\u001b[0m\n",
      "\u001b[0;32m~/anaconda3/envs/tensorflow/lib/python3.5/site-packages/keras/models.py\u001b[0m in \u001b[0;36mfit_generator\u001b[0;34m(self, generator, steps_per_epoch, epochs, verbose, callbacks, validation_data, validation_steps, class_weight, max_queue_size, workers, use_multiprocessing, shuffle, initial_epoch)\u001b[0m\n\u001b[1;32m   1254\u001b[0m                                         \u001b[0muse_multiprocessing\u001b[0m\u001b[0;34m=\u001b[0m\u001b[0muse_multiprocessing\u001b[0m\u001b[0;34m,\u001b[0m\u001b[0;34m\u001b[0m\u001b[0m\n\u001b[1;32m   1255\u001b[0m                                         \u001b[0mshuffle\u001b[0m\u001b[0;34m=\u001b[0m\u001b[0mshuffle\u001b[0m\u001b[0;34m,\u001b[0m\u001b[0;34m\u001b[0m\u001b[0m\n\u001b[0;32m-> 1256\u001b[0;31m                                         initial_epoch=initial_epoch)\n\u001b[0m\u001b[1;32m   1257\u001b[0m \u001b[0;34m\u001b[0m\u001b[0m\n\u001b[1;32m   1258\u001b[0m     \u001b[0;34m@\u001b[0m\u001b[0minterfaces\u001b[0m\u001b[0;34m.\u001b[0m\u001b[0mlegacy_generator_methods_support\u001b[0m\u001b[0;34m\u001b[0m\u001b[0m\n",
      "\u001b[0;32m~/anaconda3/envs/tensorflow/lib/python3.5/site-packages/keras/legacy/interfaces.py\u001b[0m in \u001b[0;36mwrapper\u001b[0;34m(*args, **kwargs)\u001b[0m\n\u001b[1;32m     89\u001b[0m                 warnings.warn('Update your `' + object_name +\n\u001b[1;32m     90\u001b[0m                               '` call to the Keras 2 API: ' + signature, stacklevel=2)\n\u001b[0;32m---> 91\u001b[0;31m             \u001b[0;32mreturn\u001b[0m \u001b[0mfunc\u001b[0m\u001b[0;34m(\u001b[0m\u001b[0;34m*\u001b[0m\u001b[0margs\u001b[0m\u001b[0;34m,\u001b[0m \u001b[0;34m**\u001b[0m\u001b[0mkwargs\u001b[0m\u001b[0;34m)\u001b[0m\u001b[0;34m\u001b[0m\u001b[0m\n\u001b[0m\u001b[1;32m     92\u001b[0m         \u001b[0mwrapper\u001b[0m\u001b[0;34m.\u001b[0m\u001b[0m_original_function\u001b[0m \u001b[0;34m=\u001b[0m \u001b[0mfunc\u001b[0m\u001b[0;34m\u001b[0m\u001b[0m\n\u001b[1;32m     93\u001b[0m         \u001b[0;32mreturn\u001b[0m \u001b[0mwrapper\u001b[0m\u001b[0;34m\u001b[0m\u001b[0m\n",
      "\u001b[0;32m~/anaconda3/envs/tensorflow/lib/python3.5/site-packages/keras/engine/training.py\u001b[0m in \u001b[0;36mfit_generator\u001b[0;34m(self, generator, steps_per_epoch, epochs, verbose, callbacks, validation_data, validation_steps, class_weight, max_queue_size, workers, use_multiprocessing, shuffle, initial_epoch)\u001b[0m\n\u001b[1;32m   2175\u001b[0m                     outs = self.train_on_batch(x, y,\n\u001b[1;32m   2176\u001b[0m                                                \u001b[0msample_weight\u001b[0m\u001b[0;34m=\u001b[0m\u001b[0msample_weight\u001b[0m\u001b[0;34m,\u001b[0m\u001b[0;34m\u001b[0m\u001b[0m\n\u001b[0;32m-> 2177\u001b[0;31m                                                class_weight=class_weight)\n\u001b[0m\u001b[1;32m   2178\u001b[0m \u001b[0;34m\u001b[0m\u001b[0m\n\u001b[1;32m   2179\u001b[0m                     \u001b[0;32mif\u001b[0m \u001b[0;32mnot\u001b[0m \u001b[0misinstance\u001b[0m\u001b[0;34m(\u001b[0m\u001b[0mouts\u001b[0m\u001b[0;34m,\u001b[0m \u001b[0mlist\u001b[0m\u001b[0;34m)\u001b[0m\u001b[0;34m:\u001b[0m\u001b[0;34m\u001b[0m\u001b[0m\n",
      "\u001b[0;32m~/anaconda3/envs/tensorflow/lib/python3.5/site-packages/keras/engine/training.py\u001b[0m in \u001b[0;36mtrain_on_batch\u001b[0;34m(self, x, y, sample_weight, class_weight)\u001b[0m\n\u001b[1;32m   1847\u001b[0m             \u001b[0mins\u001b[0m \u001b[0;34m=\u001b[0m \u001b[0mx\u001b[0m \u001b[0;34m+\u001b[0m \u001b[0my\u001b[0m \u001b[0;34m+\u001b[0m \u001b[0msample_weights\u001b[0m\u001b[0;34m\u001b[0m\u001b[0m\n\u001b[1;32m   1848\u001b[0m         \u001b[0mself\u001b[0m\u001b[0;34m.\u001b[0m\u001b[0m_make_train_function\u001b[0m\u001b[0;34m(\u001b[0m\u001b[0;34m)\u001b[0m\u001b[0;34m\u001b[0m\u001b[0m\n\u001b[0;32m-> 1849\u001b[0;31m         \u001b[0moutputs\u001b[0m \u001b[0;34m=\u001b[0m \u001b[0mself\u001b[0m\u001b[0;34m.\u001b[0m\u001b[0mtrain_function\u001b[0m\u001b[0;34m(\u001b[0m\u001b[0mins\u001b[0m\u001b[0;34m)\u001b[0m\u001b[0;34m\u001b[0m\u001b[0m\n\u001b[0m\u001b[1;32m   1850\u001b[0m         \u001b[0;32mif\u001b[0m \u001b[0mlen\u001b[0m\u001b[0;34m(\u001b[0m\u001b[0moutputs\u001b[0m\u001b[0;34m)\u001b[0m \u001b[0;34m==\u001b[0m \u001b[0;36m1\u001b[0m\u001b[0;34m:\u001b[0m\u001b[0;34m\u001b[0m\u001b[0m\n\u001b[1;32m   1851\u001b[0m             \u001b[0;32mreturn\u001b[0m \u001b[0moutputs\u001b[0m\u001b[0;34m[\u001b[0m\u001b[0;36m0\u001b[0m\u001b[0;34m]\u001b[0m\u001b[0;34m\u001b[0m\u001b[0m\n",
      "\u001b[0;32m~/anaconda3/envs/tensorflow/lib/python3.5/site-packages/keras/backend/tensorflow_backend.py\u001b[0m in \u001b[0;36m__call__\u001b[0;34m(self, inputs)\u001b[0m\n\u001b[1;32m   2473\u001b[0m         \u001b[0msession\u001b[0m \u001b[0;34m=\u001b[0m \u001b[0mget_session\u001b[0m\u001b[0;34m(\u001b[0m\u001b[0;34m)\u001b[0m\u001b[0;34m\u001b[0m\u001b[0m\n\u001b[1;32m   2474\u001b[0m         updated = session.run(fetches=fetches, feed_dict=feed_dict,\n\u001b[0;32m-> 2475\u001b[0;31m                               **self.session_kwargs)\n\u001b[0m\u001b[1;32m   2476\u001b[0m         \u001b[0;32mreturn\u001b[0m \u001b[0mupdated\u001b[0m\u001b[0;34m[\u001b[0m\u001b[0;34m:\u001b[0m\u001b[0mlen\u001b[0m\u001b[0;34m(\u001b[0m\u001b[0mself\u001b[0m\u001b[0;34m.\u001b[0m\u001b[0moutputs\u001b[0m\u001b[0;34m)\u001b[0m\u001b[0;34m]\u001b[0m\u001b[0;34m\u001b[0m\u001b[0m\n\u001b[1;32m   2477\u001b[0m \u001b[0;34m\u001b[0m\u001b[0m\n",
      "\u001b[0;32m~/anaconda3/envs/tensorflow/lib/python3.5/site-packages/tensorflow/python/client/session.py\u001b[0m in \u001b[0;36mrun\u001b[0;34m(self, fetches, feed_dict, options, run_metadata)\u001b[0m\n\u001b[1;32m    893\u001b[0m     \u001b[0;32mtry\u001b[0m\u001b[0;34m:\u001b[0m\u001b[0;34m\u001b[0m\u001b[0m\n\u001b[1;32m    894\u001b[0m       result = self._run(None, fetches, feed_dict, options_ptr,\n\u001b[0;32m--> 895\u001b[0;31m                          run_metadata_ptr)\n\u001b[0m\u001b[1;32m    896\u001b[0m       \u001b[0;32mif\u001b[0m \u001b[0mrun_metadata\u001b[0m\u001b[0;34m:\u001b[0m\u001b[0;34m\u001b[0m\u001b[0m\n\u001b[1;32m    897\u001b[0m         \u001b[0mproto_data\u001b[0m \u001b[0;34m=\u001b[0m \u001b[0mtf_session\u001b[0m\u001b[0;34m.\u001b[0m\u001b[0mTF_GetBuffer\u001b[0m\u001b[0;34m(\u001b[0m\u001b[0mrun_metadata_ptr\u001b[0m\u001b[0;34m)\u001b[0m\u001b[0;34m\u001b[0m\u001b[0m\n",
      "\u001b[0;32m~/anaconda3/envs/tensorflow/lib/python3.5/site-packages/tensorflow/python/client/session.py\u001b[0m in \u001b[0;36m_run\u001b[0;34m(self, handle, fetches, feed_dict, options, run_metadata)\u001b[0m\n\u001b[1;32m   1126\u001b[0m     \u001b[0;32mif\u001b[0m \u001b[0mfinal_fetches\u001b[0m \u001b[0;32mor\u001b[0m \u001b[0mfinal_targets\u001b[0m \u001b[0;32mor\u001b[0m \u001b[0;34m(\u001b[0m\u001b[0mhandle\u001b[0m \u001b[0;32mand\u001b[0m \u001b[0mfeed_dict_tensor\u001b[0m\u001b[0;34m)\u001b[0m\u001b[0;34m:\u001b[0m\u001b[0;34m\u001b[0m\u001b[0m\n\u001b[1;32m   1127\u001b[0m       results = self._do_run(handle, final_targets, final_fetches,\n\u001b[0;32m-> 1128\u001b[0;31m                              feed_dict_tensor, options, run_metadata)\n\u001b[0m\u001b[1;32m   1129\u001b[0m     \u001b[0;32melse\u001b[0m\u001b[0;34m:\u001b[0m\u001b[0;34m\u001b[0m\u001b[0m\n\u001b[1;32m   1130\u001b[0m       \u001b[0mresults\u001b[0m \u001b[0;34m=\u001b[0m \u001b[0;34m[\u001b[0m\u001b[0;34m]\u001b[0m\u001b[0;34m\u001b[0m\u001b[0m\n",
      "\u001b[0;32m~/anaconda3/envs/tensorflow/lib/python3.5/site-packages/tensorflow/python/client/session.py\u001b[0m in \u001b[0;36m_do_run\u001b[0;34m(self, handle, target_list, fetch_list, feed_dict, options, run_metadata)\u001b[0m\n\u001b[1;32m   1342\u001b[0m     \u001b[0;32mif\u001b[0m \u001b[0mhandle\u001b[0m \u001b[0;32mis\u001b[0m \u001b[0;32mNone\u001b[0m\u001b[0;34m:\u001b[0m\u001b[0;34m\u001b[0m\u001b[0m\n\u001b[1;32m   1343\u001b[0m       return self._do_call(_run_fn, self._session, feeds, fetches, targets,\n\u001b[0;32m-> 1344\u001b[0;31m                            options, run_metadata)\n\u001b[0m\u001b[1;32m   1345\u001b[0m     \u001b[0;32melse\u001b[0m\u001b[0;34m:\u001b[0m\u001b[0;34m\u001b[0m\u001b[0m\n\u001b[1;32m   1346\u001b[0m       \u001b[0;32mreturn\u001b[0m \u001b[0mself\u001b[0m\u001b[0;34m.\u001b[0m\u001b[0m_do_call\u001b[0m\u001b[0;34m(\u001b[0m\u001b[0m_prun_fn\u001b[0m\u001b[0;34m,\u001b[0m \u001b[0mself\u001b[0m\u001b[0;34m.\u001b[0m\u001b[0m_session\u001b[0m\u001b[0;34m,\u001b[0m \u001b[0mhandle\u001b[0m\u001b[0;34m,\u001b[0m \u001b[0mfeeds\u001b[0m\u001b[0;34m,\u001b[0m \u001b[0mfetches\u001b[0m\u001b[0;34m)\u001b[0m\u001b[0;34m\u001b[0m\u001b[0m\n",
      "\u001b[0;32m~/anaconda3/envs/tensorflow/lib/python3.5/site-packages/tensorflow/python/client/session.py\u001b[0m in \u001b[0;36m_do_call\u001b[0;34m(self, fn, *args)\u001b[0m\n\u001b[1;32m   1348\u001b[0m   \u001b[0;32mdef\u001b[0m \u001b[0m_do_call\u001b[0m\u001b[0;34m(\u001b[0m\u001b[0mself\u001b[0m\u001b[0;34m,\u001b[0m \u001b[0mfn\u001b[0m\u001b[0;34m,\u001b[0m \u001b[0;34m*\u001b[0m\u001b[0margs\u001b[0m\u001b[0;34m)\u001b[0m\u001b[0;34m:\u001b[0m\u001b[0;34m\u001b[0m\u001b[0m\n\u001b[1;32m   1349\u001b[0m     \u001b[0;32mtry\u001b[0m\u001b[0;34m:\u001b[0m\u001b[0;34m\u001b[0m\u001b[0m\n\u001b[0;32m-> 1350\u001b[0;31m       \u001b[0;32mreturn\u001b[0m \u001b[0mfn\u001b[0m\u001b[0;34m(\u001b[0m\u001b[0;34m*\u001b[0m\u001b[0margs\u001b[0m\u001b[0;34m)\u001b[0m\u001b[0;34m\u001b[0m\u001b[0m\n\u001b[0m\u001b[1;32m   1351\u001b[0m     \u001b[0;32mexcept\u001b[0m \u001b[0merrors\u001b[0m\u001b[0;34m.\u001b[0m\u001b[0mOpError\u001b[0m \u001b[0;32mas\u001b[0m \u001b[0me\u001b[0m\u001b[0;34m:\u001b[0m\u001b[0;34m\u001b[0m\u001b[0m\n\u001b[1;32m   1352\u001b[0m       \u001b[0mmessage\u001b[0m \u001b[0;34m=\u001b[0m \u001b[0mcompat\u001b[0m\u001b[0;34m.\u001b[0m\u001b[0mas_text\u001b[0m\u001b[0;34m(\u001b[0m\u001b[0me\u001b[0m\u001b[0;34m.\u001b[0m\u001b[0mmessage\u001b[0m\u001b[0;34m)\u001b[0m\u001b[0;34m\u001b[0m\u001b[0m\n",
      "\u001b[0;32m~/anaconda3/envs/tensorflow/lib/python3.5/site-packages/tensorflow/python/client/session.py\u001b[0m in \u001b[0;36m_run_fn\u001b[0;34m(session, feed_dict, fetch_list, target_list, options, run_metadata)\u001b[0m\n\u001b[1;32m   1327\u001b[0m           return tf_session.TF_Run(session, options,\n\u001b[1;32m   1328\u001b[0m                                    \u001b[0mfeed_dict\u001b[0m\u001b[0;34m,\u001b[0m \u001b[0mfetch_list\u001b[0m\u001b[0;34m,\u001b[0m \u001b[0mtarget_list\u001b[0m\u001b[0;34m,\u001b[0m\u001b[0;34m\u001b[0m\u001b[0m\n\u001b[0;32m-> 1329\u001b[0;31m                                    status, run_metadata)\n\u001b[0m\u001b[1;32m   1330\u001b[0m \u001b[0;34m\u001b[0m\u001b[0m\n\u001b[1;32m   1331\u001b[0m     \u001b[0;32mdef\u001b[0m \u001b[0m_prun_fn\u001b[0m\u001b[0;34m(\u001b[0m\u001b[0msession\u001b[0m\u001b[0;34m,\u001b[0m \u001b[0mhandle\u001b[0m\u001b[0;34m,\u001b[0m \u001b[0mfeed_dict\u001b[0m\u001b[0;34m,\u001b[0m \u001b[0mfetch_list\u001b[0m\u001b[0;34m)\u001b[0m\u001b[0;34m:\u001b[0m\u001b[0;34m\u001b[0m\u001b[0m\n",
      "\u001b[0;31mKeyboardInterrupt\u001b[0m: "
     ]
    }
   ],
   "source": [
    "history = model.fit_generator(\n",
    "                                generator_tr,\n",
    "                                steps_per_epoch=125,\n",
    "                                epochs=10,\n",
    "                                validation_data=generator_val,\n",
    "                                validation_steps=50\n",
    "                             )"
   ]
  },
  {
   "cell_type": "code",
   "execution_count": null,
   "metadata": {},
   "outputs": [],
   "source": [
    "val_acc = history.history ['val_acc']\n",
    "tr_acc=history.history ['acc']\n",
    "epochs = range(1, len(val_acc) +1)\n",
    "plt.plot(epochs,val_acc, 'b', label = \"Validation accu\")\n",
    "plt.plot(epochs, tr_acc, 'r', label = \"Training accu\")\n",
    "plt.title(\"Training and validation accuracy\")\n",
    "plt.legend()\n",
    "plt.figure()\n",
    "plt.show()"
   ]
  },
  {
   "cell_type": "code",
   "execution_count": null,
   "metadata": {},
   "outputs": [],
   "source": [
    "val_loss = history.history ['val_loss']\n",
    "tr_loss=history.history ['loss']\n",
    "epochs = range(1, len(val_acc) +1)\n",
    "plt.plot(epochs,val_loss, 'b', label = \"Validation loss\")\n",
    "plt.plot(epochs, tr_loss, 'r', label = \"Training loss\")\n",
    "plt.title(\"Training and validation loss\")\n",
    "plt.legend()\n",
    "plt.figure()\n",
    "plt.show()"
   ]
  },
  {
   "cell_type": "code",
   "execution_count": null,
   "metadata": {},
   "outputs": [],
   "source": []
  },
  {
   "cell_type": "code",
   "execution_count": null,
   "metadata": {},
   "outputs": [],
   "source": []
  },
  {
   "cell_type": "markdown",
   "metadata": {},
   "source": [
    "# Data augmentation (Only Normalization) and Instanstiating an image data generator for Train and Validation: "
   ]
  },
  {
   "cell_type": "code",
   "execution_count": 7,
   "metadata": {},
   "outputs": [],
   "source": [
    "datagen_train = ImageDataGenerator(rescale=1. / 255)"
   ]
  },
  {
   "cell_type": "code",
   "execution_count": 8,
   "metadata": {},
   "outputs": [
    {
     "name": "stdout",
     "output_type": "stream",
     "text": [
      "Found 2000 images belonging to 2 classes.\n"
     ]
    }
   ],
   "source": [
    "generator_tr = datagen_train.flow_from_directory(\n",
    "              directory = train_data_dir,             # Path to target train directory.\n",
    "              target_size=(img_width, img_height),    # Dimensions to which all images will be resized.\n",
    "              batch_size=batch_size,                  # At a time so many images will be output\n",
    "              class_mode=None,                        # Return NO labels along with image data\n",
    "              shuffle=False                           # Default shuffle = True\n",
    "                )"
   ]
  },
  {
   "cell_type": "code",
   "execution_count": 9,
   "metadata": {},
   "outputs": [],
   "source": [
    "datagen_val = ImageDataGenerator(rescale=1. / 255)"
   ]
  },
  {
   "cell_type": "code",
   "execution_count": 10,
   "metadata": {},
   "outputs": [
    {
     "name": "stdout",
     "output_type": "stream",
     "text": [
      "Found 295 images belonging to 2 classes.\n"
     ]
    }
   ],
   "source": [
    "generator_val = datagen_val.flow_from_directory(\n",
    "              directory = validation_data_dir,             # Path to target train directory.\n",
    "              target_size=(img_width, img_height),    # Dimensions to which all images will be resized.\n",
    "              batch_size=batch_size,                  # At a time so many images will be output\n",
    "              class_mode=None,                        # Return NO labels along with image data\n",
    "              shuffle=False                           # Default shuffle = True\n",
    "                )"
   ]
  },
  {
   "cell_type": "markdown",
   "metadata": {},
   "source": [
    "# Build VGG16 network model with 'imagenet' weights"
   ]
  },
  {
   "cell_type": "code",
   "execution_count": 35,
   "metadata": {},
   "outputs": [],
   "source": [
    "model = applications.VGG16(\n",
    "                            include_top=False,\n",
    "                            weights='imagenet',\n",
    "                            input_shape=(img_width, img_height,3)\n",
    "                         )"
   ]
  },
  {
   "cell_type": "code",
   "execution_count": 36,
   "metadata": {},
   "outputs": [
    {
     "name": "stdout",
     "output_type": "stream",
     "text": [
      "_________________________________________________________________\n",
      "Layer (type)                 Output Shape              Param #   \n",
      "=================================================================\n",
      "input_2 (InputLayer)         (None, 75, 75, 3)         0         \n",
      "_________________________________________________________________\n",
      "block1_conv1 (Conv2D)        (None, 75, 75, 64)        1792      \n",
      "_________________________________________________________________\n",
      "block1_conv2 (Conv2D)        (None, 75, 75, 64)        36928     \n",
      "_________________________________________________________________\n",
      "block1_pool (MaxPooling2D)   (None, 37, 37, 64)        0         \n",
      "_________________________________________________________________\n",
      "block2_conv1 (Conv2D)        (None, 37, 37, 128)       73856     \n",
      "_________________________________________________________________\n",
      "block2_conv2 (Conv2D)        (None, 37, 37, 128)       147584    \n",
      "_________________________________________________________________\n",
      "block2_pool (MaxPooling2D)   (None, 18, 18, 128)       0         \n",
      "_________________________________________________________________\n",
      "block3_conv1 (Conv2D)        (None, 18, 18, 256)       295168    \n",
      "_________________________________________________________________\n",
      "block3_conv2 (Conv2D)        (None, 18, 18, 256)       590080    \n",
      "_________________________________________________________________\n",
      "block3_conv3 (Conv2D)        (None, 18, 18, 256)       590080    \n",
      "_________________________________________________________________\n",
      "block3_pool (MaxPooling2D)   (None, 9, 9, 256)         0         \n",
      "_________________________________________________________________\n",
      "block4_conv1 (Conv2D)        (None, 9, 9, 512)         1180160   \n",
      "_________________________________________________________________\n",
      "block4_conv2 (Conv2D)        (None, 9, 9, 512)         2359808   \n",
      "_________________________________________________________________\n",
      "block4_conv3 (Conv2D)        (None, 9, 9, 512)         2359808   \n",
      "_________________________________________________________________\n",
      "block4_pool (MaxPooling2D)   (None, 4, 4, 512)         0         \n",
      "_________________________________________________________________\n",
      "block5_conv1 (Conv2D)        (None, 4, 4, 512)         2359808   \n",
      "_________________________________________________________________\n",
      "block5_conv2 (Conv2D)        (None, 4, 4, 512)         2359808   \n",
      "_________________________________________________________________\n",
      "block5_conv3 (Conv2D)        (None, 4, 4, 512)         2359808   \n",
      "_________________________________________________________________\n",
      "block5_pool (MaxPooling2D)   (None, 2, 2, 512)         0         \n",
      "=================================================================\n",
      "Total params: 14,714,688\n",
      "Trainable params: 14,714,688\n",
      "Non-trainable params: 0\n",
      "_________________________________________________________________\n"
     ]
    }
   ],
   "source": [
    "model.summary()"
   ]
  },
  {
   "cell_type": "markdown",
   "metadata": {},
   "source": [
    "# Feed images through VGG16 model in batches (steps)and make 'predictions' until the last layer block5_pool and create a bottleneck to feed to the classifier subsequently."
   ]
  },
  {
   "cell_type": "code",
   "execution_count": 13,
   "metadata": {},
   "outputs": [
    {
     "data": {
      "text/plain": [
       "5"
      ]
     },
     "execution_count": 13,
     "metadata": {},
     "output_type": "execute_result"
    }
   ],
   "source": [
    "batch_size"
   ]
  },
  {
   "cell_type": "code",
   "execution_count": 14,
   "metadata": {},
   "outputs": [
    {
     "name": "stdout",
     "output_type": "stream",
     "text": [
      "400/400 [==============================] - 469s 1s/step\n",
      "Time taken:  7.815301537513733 minutes\n"
     ]
    }
   ],
   "source": [
    "start = time.time()\n",
    "BottleNeck_Features_InvNonInv_traindata = model.predict_generator(\n",
    "                                                    generator = generator_tr,\n",
    "                                                    steps = 2000 // batch_size,\n",
    "                                                    verbose = 1\n",
    "                                                    )\n",
    "end = time.time()\n",
    "print(\"Time taken: \",(end - start)/60, \"minutes\")"
   ]
  },
  {
   "cell_type": "code",
   "execution_count": 15,
   "metadata": {},
   "outputs": [
    {
     "name": "stdout",
     "output_type": "stream",
     "text": [
      "59/59 [==============================] - 75s 1s/step\n",
      "Time taken:  1.242406690120697 minutes\n"
     ]
    }
   ],
   "source": [
    "start = time.time()\n",
    "BottleNeck_Features_InvNonInv_validationdata = model.predict_generator(\n",
    "                                                         generator = generator_val,\n",
    "                                                         steps = 295 // batch_size,\n",
    "                                                         verbose = 1\n",
    "                                                         )\n",
    "\n",
    "end = time.time()\n",
    "print(\"Time taken: \",(end - start)/60, \"minutes\")"
   ]
  },
  {
   "cell_type": "code",
   "execution_count": 16,
   "metadata": {},
   "outputs": [
    {
     "data": {
      "text/plain": [
       "5"
      ]
     },
     "execution_count": 16,
     "metadata": {},
     "output_type": "execute_result"
    }
   ],
   "source": [
    "batch_size"
   ]
  },
  {
   "cell_type": "markdown",
   "metadata": {},
   "source": [
    "# Saving features #"
   ]
  },
  {
   "cell_type": "code",
   "execution_count": 17,
   "metadata": {},
   "outputs": [],
   "source": [
    "# Save the train features\n",
    "#First delete the file to whcih we will save\n",
    "\n",
    "if os.path.exists(traindata_filename):\n",
    "    os.system('rm ' + traindata_filename)\n",
    "\n",
    "# 5.2 Next save the train-features\n",
    "np.save(open(traindata_filename, 'wb'), BottleNeck_Features_InvNonInv_traindata)\n",
    "\n",
    "\n",
    "# 5.3 Save validation features from model\n",
    "if os.path.exists(val_filename):\n",
    "    os.system('rm ' + val_filename)\n",
    "\n",
    "np.save(open(val_filename, 'wb'), BottleNeck_Features_InvNonInv_validationdata)"
   ]
  },
  {
   "cell_type": "markdown",
   "metadata": {},
   "source": [
    "# Part II: Load saved abstract features and proceed with Modeling and Prediction"
   ]
  },
  {
   "cell_type": "code",
   "execution_count": 18,
   "metadata": {},
   "outputs": [],
   "source": [
    "%reset -f\n",
    "import numpy as np\n",
    "from keras.preprocessing.image import ImageDataGenerator\n",
    "from keras.models import Sequential\n",
    "from keras.layers import Dropout, Flatten, Dense\n",
    "from keras import applications\n",
    "import time, os\n",
    "import matplotlib.pyplot as plt"
   ]
  },
  {
   "cell_type": "code",
   "execution_count": 19,
   "metadata": {},
   "outputs": [],
   "source": [
    "img_width, img_height = 75,75  \n",
    "nb_train_samples = 2000\n",
    "nb_validation_samples = 295\n",
    "epochs = 30\n",
    "batch_size = 50\n",
    "# Bottleneck features for train data\n",
    "traindata_filename = '/home/ashok/.keras/models/BottleNeck_Features_InvNonInv_traindata.npy'\n",
    "# Validation-bottleneck features filename\n",
    "val_filename = '/home/ashok/.keras/models/BottleNeck_Features_InvNonInv_validationdata.npy'\n"
   ]
  },
  {
   "cell_type": "code",
   "execution_count": 20,
   "metadata": {},
   "outputs": [],
   "source": [
    "model_weights_path = '/home/ashok/.keras/models/bottleneck_FC_VGG16_model.h5'"
   ]
  },
  {
   "cell_type": "markdown",
   "metadata": {},
   "source": [
    "Load Traindata Features & Validation Data Features"
   ]
  },
  {
   "cell_type": "code",
   "execution_count": 21,
   "metadata": {},
   "outputs": [],
   "source": [
    "train_data_features = np.load(open(traindata_filename,'rb'))"
   ]
  },
  {
   "cell_type": "code",
   "execution_count": 22,
   "metadata": {},
   "outputs": [
    {
     "data": {
      "text/plain": [
       "(2000, 2, 2, 512)"
      ]
     },
     "execution_count": 22,
     "metadata": {},
     "output_type": "execute_result"
    }
   ],
   "source": [
    "train_data_features.shape"
   ]
  },
  {
   "cell_type": "code",
   "execution_count": 23,
   "metadata": {},
   "outputs": [],
   "source": [
    "val_data_features = np.load(open(val_filename,'rb'))"
   ]
  },
  {
   "cell_type": "code",
   "execution_count": 24,
   "metadata": {},
   "outputs": [
    {
     "data": {
      "text/plain": [
       "(295, 2, 2, 512)"
      ]
     },
     "execution_count": 24,
     "metadata": {},
     "output_type": "execute_result"
    }
   ],
   "source": [
    "val_data_features.shape"
   ]
  },
  {
   "cell_type": "code",
   "execution_count": 25,
   "metadata": {},
   "outputs": [],
   "source": [
    "train_labels = np.array([0] * 1263 + [1] * 737) "
   ]
  },
  {
   "cell_type": "code",
   "execution_count": 26,
   "metadata": {},
   "outputs": [],
   "source": [
    "validation_labels = np.array([0] * 185 + [1] * 110)"
   ]
  },
  {
   "cell_type": "code",
   "execution_count": 27,
   "metadata": {},
   "outputs": [
    {
     "data": {
      "text/plain": [
       "(295, 2000)"
      ]
     },
     "execution_count": 27,
     "metadata": {},
     "output_type": "execute_result"
    }
   ],
   "source": [
    "len(validation_labels), len(train_labels)"
   ]
  },
  {
   "cell_type": "markdown",
   "metadata": {},
   "source": [
    "# Plan model with FC layers only and use transformed features as input to FC model instead of actual train data"
   ]
  },
  {
   "cell_type": "code",
   "execution_count": 28,
   "metadata": {},
   "outputs": [
    {
     "name": "stdout",
     "output_type": "stream",
     "text": [
      "_________________________________________________________________\n",
      "Layer (type)                 Output Shape              Param #   \n",
      "=================================================================\n",
      "flatten_1 (Flatten)          (None, 2048)              0         \n",
      "_________________________________________________________________\n",
      "dense_1 (Dense)              (None, 256)               524544    \n",
      "_________________________________________________________________\n",
      "dropout_1 (Dropout)          (None, 256)               0         \n",
      "_________________________________________________________________\n",
      "dense_2 (Dense)              (None, 1)                 257       \n",
      "=================================================================\n",
      "Total params: 524,801\n",
      "Trainable params: 524,801\n",
      "Non-trainable params: 0\n",
      "_________________________________________________________________\n"
     ]
    }
   ],
   "source": [
    "model1 = Sequential()\n",
    "model1.add(Flatten(input_shape=train_data_features.shape[1:]))  \n",
    "model1.add(Dense(256, activation='relu'))\n",
    "model1.add(Dropout(0.5))\n",
    "model1.add(Dense(1, activation='sigmoid'))\n",
    "model1.summary()"
   ]
  },
  {
   "cell_type": "code",
   "execution_count": 29,
   "metadata": {},
   "outputs": [],
   "source": [
    "model1.compile(\n",
    "              optimizer='rmsprop',\n",
    "              loss='binary_crossentropy',\n",
    "              metrics=['accuracy']\n",
    "              )"
   ]
  },
  {
   "cell_type": "markdown",
   "metadata": {},
   "source": [
    "# Fit model and make predictions on validation dataset"
   ]
  },
  {
   "cell_type": "code",
   "execution_count": 30,
   "metadata": {},
   "outputs": [
    {
     "name": "stdout",
     "output_type": "stream",
     "text": [
      "Train on 2000 samples, validate on 295 samples\n",
      "Epoch 1/30\n",
      "2000/2000 [==============================] - 1s 395us/step - loss: 0.6749 - acc: 0.6880 - val_loss: 0.4356 - val_acc: 0.7695\n",
      "Epoch 2/30\n",
      "2000/2000 [==============================] - 1s 255us/step - loss: 0.4324 - acc: 0.7885 - val_loss: 0.4438 - val_acc: 0.7661\n",
      "Epoch 3/30\n",
      "2000/2000 [==============================] - 0s 249us/step - loss: 0.4136 - acc: 0.8015 - val_loss: 0.4073 - val_acc: 0.7932\n",
      "Epoch 4/30\n",
      "2000/2000 [==============================] - 0s 236us/step - loss: 0.3944 - acc: 0.8080 - val_loss: 0.4700 - val_acc: 0.7525\n",
      "Epoch 5/30\n",
      "2000/2000 [==============================] - 0s 247us/step - loss: 0.3897 - acc: 0.8020 - val_loss: 0.3903 - val_acc: 0.8000\n",
      "Epoch 6/30\n",
      "2000/2000 [==============================] - 1s 290us/step - loss: 0.3621 - acc: 0.8300 - val_loss: 0.3966 - val_acc: 0.7864\n",
      "Epoch 7/30\n",
      "2000/2000 [==============================] - 1s 257us/step - loss: 0.3466 - acc: 0.8325 - val_loss: 0.6185 - val_acc: 0.7458\n",
      "Epoch 8/30\n",
      "2000/2000 [==============================] - 0s 239us/step - loss: 0.3422 - acc: 0.8325 - val_loss: 0.5752 - val_acc: 0.7661\n",
      "Epoch 9/30\n",
      "2000/2000 [==============================] - 1s 254us/step - loss: 0.3412 - acc: 0.8485 - val_loss: 0.3504 - val_acc: 0.8373\n",
      "Epoch 10/30\n",
      "2000/2000 [==============================] - 0s 240us/step - loss: 0.3246 - acc: 0.8535 - val_loss: 0.3892 - val_acc: 0.8034\n",
      "Epoch 11/30\n",
      "2000/2000 [==============================] - 0s 247us/step - loss: 0.3138 - acc: 0.8575 - val_loss: 0.3512 - val_acc: 0.8475\n",
      "Epoch 12/30\n",
      "2000/2000 [==============================] - 0s 248us/step - loss: 0.3028 - acc: 0.8600 - val_loss: 0.3982 - val_acc: 0.8305\n",
      "Epoch 13/30\n",
      "2000/2000 [==============================] - 1s 257us/step - loss: 0.2990 - acc: 0.8565 - val_loss: 0.3530 - val_acc: 0.8441\n",
      "Epoch 14/30\n",
      "2000/2000 [==============================] - 1s 254us/step - loss: 0.3066 - acc: 0.8665 - val_loss: 0.3401 - val_acc: 0.8407\n",
      "Epoch 15/30\n",
      "2000/2000 [==============================] - 1s 252us/step - loss: 0.2905 - acc: 0.8700 - val_loss: 0.5859 - val_acc: 0.7492\n",
      "Epoch 16/30\n",
      "2000/2000 [==============================] - 0s 240us/step - loss: 0.2937 - acc: 0.8615 - val_loss: 0.4598 - val_acc: 0.7831\n",
      "Epoch 17/30\n",
      "2000/2000 [==============================] - 1s 251us/step - loss: 0.2939 - acc: 0.8600 - val_loss: 0.4513 - val_acc: 0.7864\n",
      "Epoch 18/30\n",
      "2000/2000 [==============================] - 1s 488us/step - loss: 0.2922 - acc: 0.8610 - val_loss: 0.3949 - val_acc: 0.8305\n",
      "Epoch 19/30\n",
      "2000/2000 [==============================] - 1s 471us/step - loss: 0.2867 - acc: 0.8670 - val_loss: 0.3960 - val_acc: 0.8339\n",
      "Epoch 20/30\n",
      "2000/2000 [==============================] - 1s 255us/step - loss: 0.3032 - acc: 0.8630 - val_loss: 0.5215 - val_acc: 0.7661\n",
      "Epoch 21/30\n",
      "2000/2000 [==============================] - 1s 257us/step - loss: 0.2615 - acc: 0.8805 - val_loss: 0.3989 - val_acc: 0.8305\n",
      "Epoch 22/30\n",
      "2000/2000 [==============================] - 1s 256us/step - loss: 0.2744 - acc: 0.8760 - val_loss: 0.3462 - val_acc: 0.8508\n",
      "Epoch 23/30\n",
      "2000/2000 [==============================] - 1s 257us/step - loss: 0.2547 - acc: 0.8925 - val_loss: 0.3474 - val_acc: 0.8508\n",
      "Epoch 24/30\n",
      "2000/2000 [==============================] - 1s 256us/step - loss: 0.2651 - acc: 0.8805 - val_loss: 0.3693 - val_acc: 0.8542\n",
      "Epoch 25/30\n",
      "2000/2000 [==============================] - 1s 256us/step - loss: 0.2830 - acc: 0.8730 - val_loss: 0.3809 - val_acc: 0.8305\n",
      "Epoch 26/30\n",
      "2000/2000 [==============================] - 1s 255us/step - loss: 0.2673 - acc: 0.8855 - val_loss: 0.3628 - val_acc: 0.8576\n",
      "Epoch 27/30\n",
      "2000/2000 [==============================] - 1s 259us/step - loss: 0.2673 - acc: 0.8830 - val_loss: 0.4394 - val_acc: 0.8237\n",
      "Epoch 28/30\n",
      "2000/2000 [==============================] - 1s 357us/step - loss: 0.2675 - acc: 0.8785 - val_loss: 0.3455 - val_acc: 0.8576\n",
      "Epoch 29/30\n",
      "2000/2000 [==============================] - 1s 615us/step - loss: 0.2575 - acc: 0.8840 - val_loss: 0.3399 - val_acc: 0.8576\n",
      "Epoch 30/30\n",
      "2000/2000 [==============================] - 1s 613us/step - loss: 0.2686 - acc: 0.8815 - val_loss: 0.3900 - val_acc: 0.8542\n",
      "Time taken:  0.30662516355514524 minutes\n"
     ]
    }
   ],
   "source": [
    "start = time.time()\n",
    "history = model1.fit(train_data_features, train_labels,\n",
    "                    epochs=epochs,\n",
    "                    batch_size=batch_size,\n",
    "                    validation_data=(val_data_features, validation_labels),\n",
    "                    verbose =1\n",
    "                   )\n",
    "end = time.time()\n",
    "print(\"Time taken: \",(end - start)/60, \"minutes\")"
   ]
  },
  {
   "cell_type": "code",
   "execution_count": 31,
   "metadata": {},
   "outputs": [],
   "source": [
    "model1.save_weights(model_weights_path )"
   ]
  },
  {
   "cell_type": "code",
   "execution_count": null,
   "metadata": {},
   "outputs": [],
   "source": [
    " "
   ]
  },
  {
   "cell_type": "code",
   "execution_count": 32,
   "metadata": {},
   "outputs": [
    {
     "data": {
      "image/png": "[encoded data removed]",
      "text/plain": [
       "<matplotlib.figure.Figure at 0x7fbb17548eb8>"
      ]
     },
     "metadata": {},
     "output_type": "display_data"
    },
    {
     "data": {
      "text/plain": [
       "<matplotlib.figure.Figure at 0x7fbb1759de10>"
      ]
     },
     "metadata": {},
     "output_type": "display_data"
    }
   ],
   "source": [
    "val_acc = history.history ['val_acc']\n",
    "tr_acc=history.history ['acc']\n",
    "epochs = range(1, len(val_acc) +1)\n",
    "plt.plot(epochs,val_acc, 'b', label = \"Validation accu\")\n",
    "plt.plot(epochs, tr_acc, 'r', label = \"Training accu\")\n",
    "plt.title(\"Training and validation accuracy\")\n",
    "plt.legend()\n",
    "plt.figure()\n",
    "plt.show()\n",
    "\n"
   ]
  },
  {
   "cell_type": "code",
   "execution_count": 33,
   "metadata": {},
   "outputs": [
    {
     "data": {
      "image/png": "[encoded data removed]",
      "text/plain": [
       "<matplotlib.figure.Figure at 0x7fbb175f3828>"
      ]
     },
     "metadata": {},
     "output_type": "display_data"
    },
    {
     "data": {
      "text/plain": [
       "<matplotlib.figure.Figure at 0x7fbb163b5e48>"
      ]
     },
     "metadata": {},
     "output_type": "display_data"
    }
   ],
   "source": [
    "val_loss = history.history ['val_loss']\n",
    "tr_loss=history.history ['loss']\n",
    "epochs = range(1, len(val_acc) +1)\n",
    "plt.plot(epochs,val_loss, 'b', label = \"Validation loss\")\n",
    "plt.plot(epochs, tr_loss, 'r', label = \"Training loss\")\n",
    "plt.title(\"Training and validation loss\")\n",
    "plt.legend()\n",
    "plt.figure()\n",
    "plt.show()"
   ]
  },
  {
   "cell_type": "markdown",
   "metadata": {},
   "source": [
    "# We can see there are lot of variations in both Validation Accuracy and Loss. This is because of overfitting. Let us try to do Data Augmentation to see if we can reduce overfitting. "
   ]
  },
  {
   "cell_type": "markdown",
   "metadata": {},
   "source": [
    "# FEATURE EXTRACTION WITH DATA AUGMENTATION and Instanstiating an image data generator for Train and Validation with Pre-trained ConvNet:"
   ]
  },
  {
   "cell_type": "code",
   "execution_count": 37,
   "metadata": {},
   "outputs": [],
   "source": [
    "from keras import models\n",
    "from keras import layers\n",
    "model2 = models.Sequential()\n",
    "model2.add(model)                 ### The first base model that we created with 2x2x512 feature map\n",
    "model2.add(layers.Flatten())\n",
    "model2.add(layers.Dense(256, activation='relu'))\n",
    "model2.add(layers.Dense(1, activation='sigmoid'))"
   ]
  },
  {
   "cell_type": "code",
   "execution_count": 38,
   "metadata": {},
   "outputs": [
    {
     "name": "stdout",
     "output_type": "stream",
     "text": [
      "_________________________________________________________________\n",
      "Layer (type)                 Output Shape              Param #   \n",
      "=================================================================\n",
      "vgg16 (Model)                (None, 2, 2, 512)         14714688  \n",
      "_________________________________________________________________\n",
      "flatten_2 (Flatten)          (None, 2048)              0         \n",
      "_________________________________________________________________\n",
      "dense_3 (Dense)              (None, 256)               524544    \n",
      "_________________________________________________________________\n",
      "dense_4 (Dense)              (None, 1)                 257       \n",
      "=================================================================\n",
      "Total params: 15,239,489\n",
      "Trainable params: 15,239,489\n",
      "Non-trainable params: 0\n",
      "_________________________________________________________________\n"
     ]
    }
   ],
   "source": [
    "model2.summary()"
   ]
  },
  {
   "cell_type": "markdown",
   "metadata": {},
   "source": [
    "Before you compile and train the model, it’s very important to freeze the convolutional base. Freezing a layer or set of layers means preventing their weights from being updated during training. If you don’t do this, then the representations that were previously learned by the convolutional base will be modified during training. Because the Dense layers on top are randomly initialized, very large weight updates would be propagated through the network, effectively destroying the representations previously learned.\n",
    "# In Keras, you freeze a network by setting its trainable attribute to False."
   ]
  },
  {
   "cell_type": "code",
   "execution_count": 39,
   "metadata": {},
   "outputs": [],
   "source": [
    "model.trainable=False"
   ]
  },
  {
   "cell_type": "markdown",
   "metadata": {},
   "source": [
    "# Training the model end to end with a frozen convolutional base"
   ]
  },
  {
   "cell_type": "code",
   "execution_count": 46,
   "metadata": {},
   "outputs": [],
   "source": [
    "from keras.preprocessing.image import ImageDataGenerator\n",
    "from keras import optimizers\n",
    "\n",
    "train_datagen = ImageDataGenerator(\n",
    "                                    rescale=1./255,\n",
    "                                    rotation_range=40,\n",
    "                                    width_shift_range=0.2,\n",
    "                                    height_shift_range=0.2,\n",
    "                                    shear_range=0.2,\n",
    "                                    zoom_range=0.2,\n",
    "                                    horizontal_flip=True,\n",
    "                                    fill_mode='nearest'\n",
    "                                  )"
   ]
  },
  {
   "cell_type": "code",
   "execution_count": 47,
   "metadata": {},
   "outputs": [
    {
     "name": "stdout",
     "output_type": "stream",
     "text": [
      "Found 2000 images belonging to 2 classes.\n"
     ]
    }
   ],
   "source": [
    "generator_tr1 = train_datagen.flow_from_directory(\n",
    "              directory = train_data_dir,             # Path to target train directory.\n",
    "              target_size=(img_width, img_height),    # Dimensions to which all images will be resized.\n",
    "              batch_size=batch_size,                  # At a time so many images will be output\n",
    "              class_mode='binary',                        # Return NO labels along with image data\n",
    "              shuffle=False                           # Default shuffle = True\n",
    "                )\n"
   ]
  },
  {
   "cell_type": "code",
   "execution_count": 48,
   "metadata": {},
   "outputs": [],
   "source": [
    "val_datagen = ImageDataGenerator(rescale=1. / 255)"
   ]
  },
  {
   "cell_type": "code",
   "execution_count": 49,
   "metadata": {},
   "outputs": [
    {
     "name": "stdout",
     "output_type": "stream",
     "text": [
      "Found 295 images belonging to 2 classes.\n"
     ]
    }
   ],
   "source": [
    "generator_val1 = val_datagen.flow_from_directory(\n",
    "              directory = validation_data_dir,             # Path to target train directory.\n",
    "              target_size=(img_width, img_height),    # Dimensions to which all images will be resized.\n",
    "              batch_size=batch_size,                  # At a time so many images will be output\n",
    "              class_mode='binary',                        # Return NO labels along with image data\n",
    "              shuffle=False                           # Default shuffle = True\n",
    "                )"
   ]
  },
  {
   "cell_type": "code",
   "execution_count": 50,
   "metadata": {},
   "outputs": [],
   "source": [
    "model2.compile(\n",
    "              optimizer='rmsprop',\n",
    "              loss='binary_crossentropy',\n",
    "              metrics=['accuracy']\n",
    "              )"
   ]
  },
  {
   "cell_type": "code",
   "execution_count": 51,
   "metadata": {},
   "outputs": [
    {
     "name": "stdout",
     "output_type": "stream",
     "text": [
      "_________________________________________________________________\n",
      "Layer (type)                 Output Shape              Param #   \n",
      "=================================================================\n",
      "vgg16 (Model)                (None, 2, 2, 512)         14714688  \n",
      "_________________________________________________________________\n",
      "flatten_2 (Flatten)          (None, 2048)              0         \n",
      "_________________________________________________________________\n",
      "dense_3 (Dense)              (None, 256)               524544    \n",
      "_________________________________________________________________\n",
      "dense_4 (Dense)              (None, 1)                 257       \n",
      "=================================================================\n",
      "Total params: 15,239,489\n",
      "Trainable params: 524,801\n",
      "Non-trainable params: 14,714,688\n",
      "_________________________________________________________________\n"
     ]
    }
   ],
   "source": [
    "model2.summary()"
   ]
  },
  {
   "cell_type": "markdown",
   "metadata": {},
   "source": [
    "# Fit model and make predictions on validation dataset"
   ]
  },
  {
   "cell_type": "code",
   "execution_count": 52,
   "metadata": {},
   "outputs": [
    {
     "name": "stdout",
     "output_type": "stream",
     "text": [
      "Epoch 1/1\n",
      "400/400 [==============================] - 491s 1s/step - loss: 0.6513 - acc: 0.6815 - val_loss: 0.1390 - val_acc: 1.0000\n",
      "Time taken:  8.181382822990418 minutes\n"
     ]
    }
   ],
   "source": [
    "start = time.time()\n",
    "history = model2.fit_generator(generator_tr1,\n",
    "                               epochs = 1,\n",
    "                               validation_data=generator_val1,\n",
    "                               steps_per_epoch=train_samples//batch_size,\n",
    "                               validation_steps=1                                \n",
    "                               )\n",
    "end = time.time()\n",
    "print(\"Time taken: \",(end - start)/60, \"minutes\")"
   ]
  },
  {
   "cell_type": "code",
   "execution_count": 53,
   "metadata": {},
   "outputs": [
    {
     "data": {
      "image/png": "[encoded data removed]",
      "text/plain": [
       "<matplotlib.figure.Figure at 0x7fbb14bae5c0>"
      ]
     },
     "metadata": {},
     "output_type": "display_data"
    },
    {
     "data": {
      "text/plain": [
       "<matplotlib.figure.Figure at 0x7fbb1756ddd8>"
      ]
     },
     "metadata": {},
     "output_type": "display_data"
    }
   ],
   "source": [
    "val_acc = history.history ['val_acc']\n",
    "tr_acc=history.history ['acc']\n",
    "epochs = range(1, len(val_acc) +1)\n",
    "plt.plot(epochs,val_acc, 'b', label = \"Validation accu\")\n",
    "plt.plot(epochs, tr_acc, 'r', label = \"Training accu\")\n",
    "plt.title(\"Training and validation accuracy\")\n",
    "plt.legend()\n",
    "plt.figure()\n",
    "plt.show()"
   ]
  },
  {
   "cell_type": "code",
   "execution_count": 54,
   "metadata": {},
   "outputs": [
    {
     "data": {
      "image/png": "[encoded data removed]",
      "text/plain": [
       "<matplotlib.figure.Figure at 0x7fbb17548320>"
      ]
     },
     "metadata": {},
     "output_type": "display_data"
    },
    {
     "data": {
      "text/plain": [
       "<matplotlib.figure.Figure at 0x7fbb149705c0>"
      ]
     },
     "metadata": {},
     "output_type": "display_data"
    }
   ],
   "source": [
    "val_loss = history.history ['val_loss']\n",
    "tr_loss=history.history ['loss']\n",
    "epochs = range(1, len(val_acc) +1)\n",
    "plt.plot(epochs,val_loss, 'b', label = \"Validation loss\")\n",
    "plt.plot(epochs, tr_loss, 'r', label = \"Training loss\")\n",
    "plt.title(\"Training and validation loss\")\n",
    "plt.legend()\n",
    "plt.figure()\n",
    "plt.show()"
   ]
  },
  {
   "cell_type": "code",
   "execution_count": 55,
   "metadata": {},
   "outputs": [
    {
     "name": "stdout",
     "output_type": "stream",
     "text": [
      "Epoch 1/10\n",
      "50/50 [==============================] - 74s 1s/step - loss: 0.6303 - acc: 0.6880 - val_loss: 0.1990 - val_acc: 1.0000\n",
      "Epoch 2/10\n",
      "50/50 [==============================] - 68s 1s/step - loss: 0.4701 - acc: 0.7680 - val_loss: 1.1863 - val_acc: 0.2000\n",
      "Epoch 3/10\n",
      "50/50 [==============================] - 68s 1s/step - loss: 0.5591 - acc: 0.7760 - val_loss: 0.1156 - val_acc: 1.0000\n",
      "Epoch 4/10\n",
      "50/50 [==============================] - 70s 1s/step - loss: 0.5790 - acc: 0.7800 - val_loss: 0.9918 - val_acc: 0.4000\n",
      "Epoch 5/10\n",
      "50/50 [==============================] - 68s 1s/step - loss: 0.6693 - acc: 0.6800 - val_loss: 0.3697 - val_acc: 0.8000\n",
      "Epoch 6/10\n",
      "50/50 [==============================] - 67s 1s/step - loss: 0.6149 - acc: 0.6960 - val_loss: 0.8570 - val_acc: 0.4000\n",
      "Epoch 7/10\n",
      "50/50 [==============================] - 69s 1s/step - loss: 0.5140 - acc: 0.7960 - val_loss: 0.1562 - val_acc: 1.0000\n",
      "Epoch 8/10\n",
      "50/50 [==============================] - 68s 1s/step - loss: 0.5505 - acc: 0.7560 - val_loss: 0.0093 - val_acc: 1.0000\n",
      "Epoch 9/10\n",
      "50/50 [==============================] - 74s 1s/step - loss: 0.5980 - acc: 0.7360 - val_loss: 1.4369 - val_acc: 0.0000e+00\n",
      "Epoch 10/10\n",
      "50/50 [==============================] - 74s 1s/step - loss: 0.6641 - acc: 0.7440 - val_loss: 1.2781 - val_acc: 0.4000\n",
      "Time taken:  11.671229974428813 minutes\n"
     ]
    }
   ],
   "source": [
    "start = time.time()\n",
    "history = model2.fit_generator(generator_tr1,\n",
    "                               epochs = 10,\n",
    "                               validation_data=generator_val1,\n",
    "                               steps_per_epoch=50,\n",
    "                               validation_steps=1                                \n",
    "                               )\n",
    "end = time.time()\n",
    "print(\"Time taken: \",(end - start)/60, \"minutes\")"
   ]
  },
  {
   "cell_type": "code",
   "execution_count": 56,
   "metadata": {},
   "outputs": [
    {
     "data": {
      "image/png": "[encoded data removed]",
      "text/plain": [
       "<matplotlib.figure.Figure at 0x7fbb149a1ef0>"
      ]
     },
     "metadata": {},
     "output_type": "display_data"
    },
    {
     "data": {
      "text/plain": [
       "<matplotlib.figure.Figure at 0x7fbb17597e80>"
      ]
     },
     "metadata": {},
     "output_type": "display_data"
    }
   ],
   "source": [
    "val_acc = history.history ['val_acc']\n",
    "tr_acc=history.history ['acc']\n",
    "epochs = range(1, len(val_acc) +1)\n",
    "plt.plot(epochs,val_acc, 'b', label = \"Validation accu\")\n",
    "plt.plot(epochs, tr_acc, 'r', label = \"Training accu\")\n",
    "plt.title(\"Training and validation accuracy\")\n",
    "plt.legend()\n",
    "plt.figure()\n",
    "plt.show()"
   ]
  },
  {
   "cell_type": "code",
   "execution_count": 57,
   "metadata": {},
   "outputs": [
    {
     "data": {
      "image/png": "[encoded data removed]",
      "text/plain": [
       "<matplotlib.figure.Figure at 0x7fbb1759d9b0>"
      ]
     },
     "metadata": {},
     "output_type": "display_data"
    },
    {
     "data": {
      "text/plain": [
       "<matplotlib.figure.Figure at 0x7fbb14957b70>"
      ]
     },
     "metadata": {},
     "output_type": "display_data"
    }
   ],
   "source": [
    "val_loss = history.history ['val_loss']\n",
    "tr_loss=history.history ['loss']\n",
    "epochs = range(1, len(val_acc) +1)\n",
    "plt.plot(epochs,val_loss, 'b', label = \"Validation loss\")\n",
    "plt.plot(epochs, tr_loss, 'r', label = \"Training loss\")\n",
    "plt.title(\"Training and validation loss\")\n",
    "plt.legend()\n",
    "plt.figure()\n",
    "plt.show()"
   ]
  },
  {
   "cell_type": "code",
   "execution_count": 58,
   "metadata": {},
   "outputs": [
    {
     "name": "stdout",
     "output_type": "stream",
     "text": [
      "Epoch 1/30\n",
      "50/50 [==============================] - 72s 1s/step - loss: 0.7060 - acc: 0.6960 - val_loss: 0.0398 - val_acc: 1.0000\n",
      "Epoch 2/30\n",
      "50/50 [==============================] - 70s 1s/step - loss: 0.6364 - acc: 0.6800 - val_loss: 1.3951 - val_acc: 0.2000\n",
      "Epoch 3/30\n",
      "50/50 [==============================] - 71s 1s/step - loss: 0.6025 - acc: 0.7480 - val_loss: 0.5531 - val_acc: 0.8000\n",
      "Epoch 4/30\n",
      "50/50 [==============================] - 74s 1s/step - loss: 0.6487 - acc: 0.7440 - val_loss: 0.7000 - val_acc: 0.8000\n",
      "Epoch 5/30\n",
      "50/50 [==============================] - 84s 2s/step - loss: 0.6788 - acc: 0.7240 - val_loss: 0.0247 - val_acc: 1.0000\n",
      "Epoch 6/30\n",
      "50/50 [==============================] - 71s 1s/step - loss: 0.6793 - acc: 0.7520 - val_loss: 1.3970 - val_acc: 0.4000\n",
      "Epoch 7/30\n",
      "50/50 [==============================] - 78s 2s/step - loss: 0.6931 - acc: 0.7600 - val_loss: 0.0241 - val_acc: 1.0000\n",
      "Epoch 8/30\n",
      "50/50 [==============================] - 71s 1s/step - loss: 0.8523 - acc: 0.7000 - val_loss: 0.0278 - val_acc: 1.0000\n",
      "Epoch 9/30\n",
      "50/50 [==============================] - 65s 1s/step - loss: 0.9386 - acc: 0.6600 - val_loss: 0.2220 - val_acc: 1.0000\n",
      "Epoch 10/30\n",
      "50/50 [==============================] - 80s 2s/step - loss: 0.8093 - acc: 0.6800 - val_loss: 0.9209 - val_acc: 0.6000\n",
      "Epoch 11/30\n",
      "50/50 [==============================] - 76s 2s/step - loss: 0.8489 - acc: 0.7040 - val_loss: 0.0126 - val_acc: 1.0000\n",
      "Epoch 12/30\n",
      "50/50 [==============================] - 70s 1s/step - loss: 0.8007 - acc: 0.7000 - val_loss: 0.9243 - val_acc: 0.6000\n",
      "Epoch 13/30\n",
      "50/50 [==============================] - 82s 2s/step - loss: 0.8841 - acc: 0.7080 - val_loss: 0.0836 - val_acc: 1.0000\n",
      "Epoch 14/30\n",
      "50/50 [==============================] - 77s 2s/step - loss: 0.7990 - acc: 0.7320 - val_loss: 0.0199 - val_acc: 1.0000\n",
      "Epoch 15/30\n",
      "50/50 [==============================] - 73s 1s/step - loss: 0.8949 - acc: 0.7400 - val_loss: 0.0662 - val_acc: 1.0000\n",
      "Epoch 16/30\n",
      "50/50 [==============================] - 83s 2s/step - loss: 0.9680 - acc: 0.6840 - val_loss: 2.4407 - val_acc: 0.4000\n",
      "Epoch 17/30\n",
      "50/50 [==============================] - 62s 1s/step - loss: 0.7671 - acc: 0.7320 - val_loss: 1.7548 - val_acc: 0.6000\n",
      "Epoch 18/30\n",
      "50/50 [==============================] - 63s 1s/step - loss: 0.9078 - acc: 0.7480 - val_loss: 0.4514 - val_acc: 0.6000\n",
      "Epoch 19/30\n",
      "50/50 [==============================] - 67s 1s/step - loss: 0.8701 - acc: 0.7480 - val_loss: 0.6426 - val_acc: 0.6000\n",
      "Epoch 20/30\n",
      "50/50 [==============================] - 69s 1s/step - loss: 0.8736 - acc: 0.7160 - val_loss: 1.3591 - val_acc: 0.6000\n",
      "Epoch 21/30\n",
      "50/50 [==============================] - 71s 1s/step - loss: 1.0758 - acc: 0.7080 - val_loss: 0.0019 - val_acc: 1.0000\n",
      "Epoch 22/30\n",
      "50/50 [==============================] - 62s 1s/step - loss: 0.9603 - acc: 0.7000 - val_loss: 0.0777 - val_acc: 1.0000\n",
      "Epoch 23/30\n",
      "50/50 [==============================] - 57s 1s/step - loss: 0.6242 - acc: 0.8480 - val_loss: 0.0140 - val_acc: 1.0000\n",
      "Epoch 24/30\n",
      "50/50 [==============================] - 65s 1s/step - loss: 0.9890 - acc: 0.7360 - val_loss: 0.1388 - val_acc: 1.0000\n",
      "Epoch 25/30\n",
      "50/50 [==============================] - 71s 1s/step - loss: 0.9587 - acc: 0.7480 - val_loss: 2.0574 - val_acc: 0.4000\n",
      "Epoch 26/30\n",
      "50/50 [==============================] - 65s 1s/step - loss: 1.2250 - acc: 0.6760 - val_loss: 3.4167 - val_acc: 0.2000\n",
      "Epoch 27/30\n",
      "50/50 [==============================] - 63s 1s/step - loss: 1.4392 - acc: 0.6600 - val_loss: 0.3824 - val_acc: 0.8000\n",
      "Epoch 28/30\n",
      "50/50 [==============================] - 60s 1s/step - loss: 0.9573 - acc: 0.7120 - val_loss: 0.0031 - val_acc: 1.0000\n",
      "Epoch 29/30\n",
      "50/50 [==============================] - 71s 1s/step - loss: 1.2790 - acc: 0.6640 - val_loss: 0.0803 - val_acc: 1.0000\n",
      "Epoch 30/30\n",
      "50/50 [==============================] - 66s 1s/step - loss: 1.1232 - acc: 0.6840 - val_loss: 3.8204 - val_acc: 0.4000\n",
      "Time taken:  35.12339841127395 minutes\n"
     ]
    }
   ],
   "source": [
    "start = time.time()\n",
    "history = model2.fit_generator(generator_tr1,\n",
    "                               epochs = 30,\n",
    "                               validation_data=generator_val1,\n",
    "                               steps_per_epoch=50,\n",
    "                               validation_steps=1                                \n",
    "                               )\n",
    "end = time.time()\n",
    "print(\"Time taken: \",(end - start)/60, \"minutes\")"
   ]
  },
  {
   "cell_type": "code",
   "execution_count": 59,
   "metadata": {},
   "outputs": [
    {
     "data": {
      "image/png": "[encoded data removed]",
      "text/plain": [
       "<matplotlib.figure.Figure at 0x7fbb149aac88>"
      ]
     },
     "metadata": {},
     "output_type": "display_data"
    },
    {
     "data": {
      "text/plain": [
       "<matplotlib.figure.Figure at 0x7fbb149f26a0>"
      ]
     },
     "metadata": {},
     "output_type": "display_data"
    }
   ],
   "source": [
    "val_acc = history.history ['val_acc']\n",
    "tr_acc=history.history ['acc']\n",
    "epochs = range(1, len(val_acc) +1)\n",
    "plt.plot(epochs,val_acc, 'b', label = \"Validation accu\")\n",
    "plt.plot(epochs, tr_acc, 'r', label = \"Training accu\")\n",
    "plt.title(\"Training and validation accuracy\")\n",
    "plt.legend()\n",
    "plt.figure()\n",
    "plt.show()"
   ]
  },
  {
   "cell_type": "code",
   "execution_count": 61,
   "metadata": {},
   "outputs": [
    {
     "data": {
      "image/png": "[encoded data removed]",
      "text/plain": [
       "<matplotlib.figure.Figure at 0x7fbb1491fba8>"
      ]
     },
     "metadata": {},
     "output_type": "display_data"
    },
    {
     "data": {
      "text/plain": [
       "<matplotlib.figure.Figure at 0x7fbb1495d320>"
      ]
     },
     "metadata": {},
     "output_type": "display_data"
    }
   ],
   "source": [
    "val_loss = history.history ['val_loss']\n",
    "tr_loss=history.history ['loss']\n",
    "epochs = range(1, len(val_acc) +1)\n",
    "plt.plot(epochs,val_loss, 'b', label = \"Validation loss\")\n",
    "plt.plot(epochs, tr_loss, 'r', label = \"Training loss\")\n",
    "plt.title(\"Training and validation loss\")\n",
    "plt.legend()\n",
    "plt.figure()\n",
    "plt.show()"
   ]
  },
  {
   "cell_type": "code",
   "execution_count": null,
   "metadata": {},
   "outputs": [],
   "source": []
  }
 ],
 "metadata": {
  "kernelspec": {
   "display_name": "Python 3",
   "language": "python",
   "name": "python3"
  },
  "language_info": {
   "codemirror_mode": {
    "name": "ipython",
    "version": 3
   },
   "file_extension": ".py",
   "mimetype": "text/x-python",
   "name": "python",
   "nbconvert_exporter": "python",
   "pygments_lexer": "ipython3",
   "version": "3.5.4"
  }
 },
 "nbformat": 4,
 "nbformat_minor": 2
}
