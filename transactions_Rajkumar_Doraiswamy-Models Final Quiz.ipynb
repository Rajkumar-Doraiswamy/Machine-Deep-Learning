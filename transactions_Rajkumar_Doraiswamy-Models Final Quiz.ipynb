{
 "cells": [
  {
   "cell_type": "markdown",
   "metadata": {},
   "source": [
    "# Exploratory analysis and Model building to identify fradulent online transactions and cost to the customer. \n",
    "\n"
   ]
  },
  {
   "cell_type": "markdown",
   "metadata": {},
   "source": [
    "Our customer is an e-commerce site that sells wholesale electronics. You have been contracted to build a model that predicts whether a given transaction is fraudulent or not. You only have information about each user’s first transaction on the company's website. If you fail to identify a fraudulent transaction, the company loses money equivalent to the price of the fraudulently purchased product. Ifyou incorrectly flag a real transaction as fraudulent, it inconveniences the customers\n",
    "whose valid transactions are flagged—a cost your client values at $8. "
   ]
  },
  {
   "cell_type": "markdown",
   "metadata": {},
   "source": [
    "So, the task is to build a model that's predictive but also minimizes to cost to the company not only by correctly flagging and identifying fraudulent transactions but also to minimize the cost of wrong predictions since each wrong prediction costs the company $8."
   ]
  },
  {
   "cell_type": "code",
   "execution_count": 1,
   "metadata": {},
   "outputs": [],
   "source": [
    "import warnings\n",
    "warnings.filterwarnings('ignore')\n",
    "import matplotlib.pyplot as plt\n",
    "%matplotlib inline"
   ]
  },
  {
   "cell_type": "code",
   "execution_count": 2,
   "metadata": {},
   "outputs": [],
   "source": [
    "import numpy as np\n",
    "import pandas as pd\n",
    "import seaborn as sns\n",
    "import os\n",
    "import time\n",
    "import os\n",
    "import gc\n",
    "import random\n",
    "from scipy.stats import uniform\n",
    "\n"
   ]
  },
  {
   "cell_type": "markdown",
   "metadata": {},
   "source": [
    "\n",
    "##### *Q1*  -- Load the Dataset into a dataframe called transactions\n"
   ]
  },
  {
   "cell_type": "code",
   "execution_count": 3,
   "metadata": {},
   "outputs": [
    {
     "data": {
      "text/plain": [
       "['.ipynb_checkpoints',\n",
       " 'Custfile_Predictions D0516.csv',\n",
       " 'datasetForFinalAssignment.csv',\n",
       " 'datasetForFinalTest.csv',\n",
       " 'Notes.PNG',\n",
       " 'Steps.txt',\n",
       " 'Testfile_Predictions D0516.csv',\n",
       " 'Testfile_Predictions.csv',\n",
       " 'transactions_Rajkumar_Doraiswamy-Models V1.0.ipynb',\n",
       " 'transactions_Rajkumar_Doraiswamy-Models V2.0.ipynb',\n",
       " 'transactions_Rajkumar_Doraiswamy-Models V3.0 D0515.ipynb',\n",
       " 'transactions_Rajkumar_Doraiswamy-Models V4 D0516.ipynb',\n",
       " 'transactions_Rajkumar_Doraiswamy-Models V5 D0516.ipynb',\n",
       " 'transactions_Rajkumar_Doraiswamy-Models V6 D0517.ipynb',\n",
       " 'transactions_Rajkumar_Doraiswamy-Models V7 D0517.ipynb']"
      ]
     },
     "execution_count": 3,
     "metadata": {},
     "output_type": "execute_result"
    }
   ],
   "source": [
    "os.chdir('C:\\\\Users\\\\rajku\\\\OneDrive\\\\Documents\\\\Training\\\\Big Data\\\\Python\\\\Proff Kemal Oflus\\\\Final Quiz')\n",
    "os.listdir()"
   ]
  },
  {
   "cell_type": "markdown",
   "metadata": {},
   "source": [
    "Assuming Column 1 is the index from the original table, there are 10 features and a target value \"class\"; of these 10 features *user_id, device_id, source, browser, sex* are categorical values. Although a numerical value, IP adress is actually a categorical value that represents the user's location. *Age and purchase_value* are continuous variables. \n",
    "\n",
    "Interestingly, the dataset also contains information about the user's *signup_time* and *purchase_time*, having done some analysis in the past, the time in between purchase time and signup time has impact on the classification of transaction if its fraudulent or not.\n",
    "\n",
    "Let's create a new variable *timeBetween* to represent this time period in term sof seconds."
   ]
  },
  {
   "cell_type": "code",
   "execution_count": 4,
   "metadata": {},
   "outputs": [
    {
     "name": "stdout",
     "output_type": "stream",
     "text": [
      "<class 'pandas.core.frame.DataFrame'>\n",
      "RangeIndex: 74691 entries, 0 to 74690\n",
      "Data columns (total 14 columns):\n",
      "Column 1                     74691 non-null int64\n",
      "user_id                      74691 non-null int64\n",
      "signup_time                  74691 non-null object\n",
      "purchase_time                74691 non-null object\n",
      "signup_time-purchase_time    74691 non-null int64\n",
      "purchase_value               74691 non-null int64\n",
      "device_id                    74691 non-null object\n",
      "source                       74691 non-null object\n",
      "browser                      74691 non-null object\n",
      "sex                          74691 non-null object\n",
      "age                          74691 non-null int64\n",
      "ip_address                   74691 non-null float64\n",
      "class                        74691 non-null int64\n",
      "N[device_id]                 74691 non-null int64\n",
      "dtypes: float64(1), int64(7), object(6)\n",
      "memory usage: 8.0+ MB\n",
      "<class 'pandas.core.frame.DataFrame'>\n",
      "RangeIndex: 13413 entries, 0 to 13412\n",
      "Data columns (total 13 columns):\n",
      "Column 1                     13413 non-null int64\n",
      "user_id                      13413 non-null int64\n",
      "signup_time                  13413 non-null object\n",
      "purchase_time                13413 non-null object\n",
      "signup_time-purchase_time    13413 non-null int64\n",
      "purchase_value               13413 non-null int64\n",
      "device_id                    13413 non-null object\n",
      "source                       13413 non-null object\n",
      "browser                      13413 non-null object\n",
      "sex                          13413 non-null object\n",
      "age                          13413 non-null int64\n",
      "ip_address                   13413 non-null float64\n",
      "N[device_id]                 13413 non-null int64\n",
      "dtypes: float64(1), int64(6), object(6)\n",
      "memory usage: 1.3+ MB\n"
     ]
    },
    {
     "data": {
      "text/plain": [
       "(None, None)"
      ]
     },
     "execution_count": 4,
     "metadata": {},
     "output_type": "execute_result"
    }
   ],
   "source": [
    "Trans=pd.read_csv(\"datasetForFinalAssignment.csv\")\n",
    "Test=pd.read_csv(\"datasetForFinalTest.csv\")\n",
    "\n",
    "Trans.info(), Test.info()"
   ]
  },
  {
   "cell_type": "code",
   "execution_count": 5,
   "metadata": {},
   "outputs": [
    {
     "data": {
      "text/plain": [
       "((74691, 14), (13413, 13))"
      ]
     },
     "execution_count": 5,
     "metadata": {},
     "output_type": "execute_result"
    }
   ],
   "source": [
    "Trans.shape, Test.shape"
   ]
  },
  {
   "cell_type": "code",
   "execution_count": 6,
   "metadata": {},
   "outputs": [
    {
     "data": {
      "text/html": [
       "<div>\n",
       "<style scoped>\n",
       "    .dataframe tbody tr th:only-of-type {\n",
       "        vertical-align: middle;\n",
       "    }\n",
       "\n",
       "    .dataframe tbody tr th {\n",
       "        vertical-align: top;\n",
       "    }\n",
       "\n",
       "    .dataframe thead th {\n",
       "        text-align: right;\n",
       "    }\n",
       "</style>\n",
       "<table border=\"1\" class=\"dataframe\">\n",
       "  <thead>\n",
       "    <tr style=\"text-align: right;\">\n",
       "      <th></th>\n",
       "      <th>Column 1</th>\n",
       "      <th>user_id</th>\n",
       "      <th>signup_time-purchase_time</th>\n",
       "      <th>purchase_value</th>\n",
       "      <th>age</th>\n",
       "      <th>class</th>\n",
       "      <th>N[device_id]</th>\n",
       "    </tr>\n",
       "  </thead>\n",
       "  <tbody>\n",
       "    <tr>\n",
       "      <th>0</th>\n",
       "      <td>149671</td>\n",
       "      <td>285108</td>\n",
       "      <td>82661</td>\n",
       "      <td>31</td>\n",
       "      <td>49</td>\n",
       "      <td>0</td>\n",
       "      <td>2</td>\n",
       "    </tr>\n",
       "    <tr>\n",
       "      <th>1</th>\n",
       "      <td>84546</td>\n",
       "      <td>229053</td>\n",
       "      <td>2693</td>\n",
       "      <td>29</td>\n",
       "      <td>34</td>\n",
       "      <td>0</td>\n",
       "      <td>1</td>\n",
       "    </tr>\n",
       "    <tr>\n",
       "      <th>2</th>\n",
       "      <td>35978</td>\n",
       "      <td>108439</td>\n",
       "      <td>85995</td>\n",
       "      <td>26</td>\n",
       "      <td>33</td>\n",
       "      <td>0</td>\n",
       "      <td>1</td>\n",
       "    </tr>\n",
       "    <tr>\n",
       "      <th>3</th>\n",
       "      <td>103053</td>\n",
       "      <td>178528</td>\n",
       "      <td>151198</td>\n",
       "      <td>35</td>\n",
       "      <td>30</td>\n",
       "      <td>0</td>\n",
       "      <td>1</td>\n",
       "    </tr>\n",
       "    <tr>\n",
       "      <th>4</th>\n",
       "      <td>101025</td>\n",
       "      <td>70424</td>\n",
       "      <td>73394</td>\n",
       "      <td>43</td>\n",
       "      <td>40</td>\n",
       "      <td>0</td>\n",
       "      <td>1</td>\n",
       "    </tr>\n",
       "  </tbody>\n",
       "</table>\n",
       "</div>"
      ],
      "text/plain": [
       "   Column 1  user_id  signup_time-purchase_time  purchase_value  age  class  \\\n",
       "0    149671   285108                      82661              31   49      0   \n",
       "1     84546   229053                       2693              29   34      0   \n",
       "2     35978   108439                      85995              26   33      0   \n",
       "3    103053   178528                     151198              35   30      0   \n",
       "4    101025    70424                      73394              43   40      0   \n",
       "\n",
       "   N[device_id]  \n",
       "0             2  \n",
       "1             1  \n",
       "2             1  \n",
       "3             1  \n",
       "4             1  "
      ]
     },
     "execution_count": 6,
     "metadata": {},
     "output_type": "execute_result"
    }
   ],
   "source": [
    "int_cols=Trans.select_dtypes('int64')\n",
    "int_cols.head()"
   ]
  },
  {
   "cell_type": "code",
   "execution_count": 7,
   "metadata": {},
   "outputs": [
    {
     "data": {
      "text/plain": [
       "['signup_time-purchase_time', 'purchase_value', 'age', 'N[device_id]']"
      ]
     },
     "execution_count": 7,
     "metadata": {},
     "output_type": "execute_result"
    }
   ],
   "source": [
    "feature_cols = ['signup_time-purchase_time', 'purchase_value', 'age', 'N[device_id]']\n",
    "feature_cols"
   ]
  },
  {
   "cell_type": "code",
   "execution_count": 8,
   "metadata": {},
   "outputs": [
    {
     "data": {
      "text/plain": [
       "((74691, 4), (74691,), pandas.core.frame.DataFrame, pandas.core.series.Series)"
      ]
     },
     "execution_count": 8,
     "metadata": {},
     "output_type": "execute_result"
    }
   ],
   "source": [
    "X=Trans[feature_cols]\n",
    "y=Trans['class']\n",
    "X.shape, y.shape, type(X), type(y)"
   ]
  },
  {
   "cell_type": "code",
   "execution_count": 9,
   "metadata": {},
   "outputs": [
    {
     "data": {
      "text/plain": [
       "<matplotlib.axes._subplots.AxesSubplot at 0x152128b90f0>"
      ]
     },
     "execution_count": 9,
     "metadata": {},
     "output_type": "execute_result"
    },
    {
     "data": {
      "image/png": "[encoded data removed]",
      "text/plain": [
       "<Figure size 432x288 with 1 Axes>"
      ]
     },
     "metadata": {
      "needs_background": "light"
     },
     "output_type": "display_data"
    }
   ],
   "source": [
    "Trans.groupby(['class'])['user_id'].count().plot.bar()"
   ]
  },
  {
   "cell_type": "markdown",
   "metadata": {},
   "source": [
    "# Split Trans Dataset into Training, Validation/Test."
   ]
  },
  {
   "cell_type": "code",
   "execution_count": 10,
   "metadata": {},
   "outputs": [],
   "source": [
    "from sklearn.model_selection import train_test_split"
   ]
  },
  {
   "cell_type": "code",
   "execution_count": 11,
   "metadata": {},
   "outputs": [
    {
     "data": {
      "text/plain": [
       "((56018, 4), (56018,), (18673, 4), (18673,))"
      ]
     },
     "execution_count": 11,
     "metadata": {},
     "output_type": "execute_result"
    }
   ],
   "source": [
    "X_train, X_test, y_train, y_test = train_test_split(X,\n",
    "                                                    y,\n",
    "                                                    test_size=0.25,\n",
    "                                                    shuffle = True,\n",
    "                                                    random_state=42\n",
    "                                                    )\n",
    "X_train.shape, y_train.shape, X_test.shape,  y_test.shape"
   ]
  },
  {
   "cell_type": "markdown",
   "metadata": {},
   "source": [
    "# Null Accuracy - Predicting the most Frequent Class"
   ]
  },
  {
   "cell_type": "code",
   "execution_count": 12,
   "metadata": {},
   "outputs": [
    {
     "data": {
      "text/plain": [
       "0    16896\n",
       "1     1777\n",
       "Name: class, dtype: int64"
      ]
     },
     "execution_count": 12,
     "metadata": {},
     "output_type": "execute_result"
    }
   ],
   "source": [
    "y_test.value_counts()"
   ]
  },
  {
   "cell_type": "code",
   "execution_count": 13,
   "metadata": {},
   "outputs": [
    {
     "data": {
      "text/plain": [
       "9.51641407379639"
      ]
     },
     "execution_count": 13,
     "metadata": {},
     "output_type": "execute_result"
    }
   ],
   "source": [
    "y_test.mean()*100## % of 1's"
   ]
  },
  {
   "cell_type": "code",
   "execution_count": 14,
   "metadata": {},
   "outputs": [
    {
     "data": {
      "text/plain": [
       "90.48358592620362"
      ]
     },
     "execution_count": 14,
     "metadata": {},
     "output_type": "execute_result"
    }
   ],
   "source": [
    "(1-y_test.mean())*100 # % of 0's"
   ]
  },
  {
   "cell_type": "markdown",
   "metadata": {},
   "source": [
    "# From Null Accuracy; we can se that dataset 'class' is unbalanced. Let us SMOTE the Training Data "
   ]
  },
  {
   "cell_type": "code",
   "execution_count": 17,
   "metadata": {},
   "outputs": [],
   "source": [
    "from imblearn.over_sampling import SMOTE, ADASYN\n",
    "sm = SMOTE(random_state=1)\n",
    "X_train_SMT, y_train_SMT = sm.fit_resample(X_train, y_train)"
   ]
  },
  {
   "cell_type": "code",
   "execution_count": 18,
   "metadata": {},
   "outputs": [
    {
     "data": {
      "text/plain": [
       "<bound method BaseEstimator.get_params of SMOTE(k_neighbors=5, kind='deprecated', m_neighbors='deprecated', n_jobs=1,\n",
       "   out_step='deprecated', random_state=1, ratio=None,\n",
       "   sampling_strategy='auto', svm_estimator='deprecated')>"
      ]
     },
     "execution_count": 18,
     "metadata": {},
     "output_type": "execute_result"
    }
   ],
   "source": [
    "sm.get_params"
   ]
  },
  {
   "cell_type": "code",
   "execution_count": 19,
   "metadata": {},
   "outputs": [
    {
     "data": {
      "text/plain": [
       "((101576, 4), (101576,), numpy.ndarray, numpy.ndarray)"
      ]
     },
     "execution_count": 19,
     "metadata": {},
     "output_type": "execute_result"
    }
   ],
   "source": [
    "X_train_SMT.shape,y_train_SMT.shape, type(X_train_SMT), type(y_train_SMT)"
   ]
  },
  {
   "cell_type": "markdown",
   "metadata": {},
   "source": [
    "# Let us Standardize the Numerical Columns using Standard Scaler."
   ]
  },
  {
   "cell_type": "code",
   "execution_count": 20,
   "metadata": {},
   "outputs": [],
   "source": [
    "from sklearn.preprocessing import StandardScaler\n",
    "sc=StandardScaler()"
   ]
  },
  {
   "cell_type": "code",
   "execution_count": 21,
   "metadata": {},
   "outputs": [
    {
     "name": "stderr",
     "output_type": "stream",
     "text": [
      "C:\\Users\\rajku\\AppData\\Local\\Continuum\\anaconda3\\lib\\site-packages\\sklearn\\utils\\validation.py:595: DataConversionWarning: Data with input dtype int64 was converted to float64 by StandardScaler.\n",
      "  warnings.warn(msg, DataConversionWarning)\n",
      "C:\\Users\\rajku\\AppData\\Local\\Continuum\\anaconda3\\lib\\site-packages\\sklearn\\utils\\validation.py:595: DataConversionWarning: Data with input dtype int64 was converted to float64 by StandardScaler.\n",
      "  warnings.warn(msg, DataConversionWarning)\n"
     ]
    }
   ],
   "source": [
    "X_train_Scaled=sc.fit_transform(X_train_SMT)\n",
    "##X_test_Scaled=sc.fit_transform(X_test_SMT)"
   ]
  },
  {
   "cell_type": "code",
   "execution_count": 26,
   "metadata": {},
   "outputs": [
    {
     "data": {
      "text/plain": [
       "((101576, 4), (101576,), pandas.core.frame.DataFrame, (56018, 4), (18673, 4))"
      ]
     },
     "execution_count": 26,
     "metadata": {},
     "output_type": "execute_result"
    }
   ],
   "source": [
    "X_train_Scaled.shape, y_train_SMT.shape,type(X_test), X_train.shape, X_test.shape"
   ]
  },
  {
   "cell_type": "markdown",
   "metadata": {},
   "source": [
    "# Baseline using RandomForestClassifier Model"
   ]
  },
  {
   "cell_type": "markdown",
   "metadata": {},
   "source": [
    "Import Classfiers from sklearn "
   ]
  },
  {
   "cell_type": "code",
   "execution_count": 37,
   "metadata": {},
   "outputs": [],
   "source": [
    "from sklearn.linear_model import LogisticRegression\n",
    "from sklearn.tree import DecisionTreeClassifier\n",
    "from sklearn.ensemble import RandomForestClassifier\n",
    "from sklearn.neighbors import KNeighborsClassifier\n",
    "from sklearn import metrics\n",
    "from sklearn.metrics import auc, roc_curve\n",
    "from eli5.sklearn import PermutationImportance\n",
    "from sklearn.svm import SVC, LinearSVC, NuSVC\n",
    "from sklearn.linear_model import LogisticRegression, SGDClassifier"
   ]
  },
  {
   "cell_type": "code",
   "execution_count": 139,
   "metadata": {},
   "outputs": [
    {
     "name": "stderr",
     "output_type": "stream",
     "text": [
      "[Parallel(n_jobs=-1)]: Using backend ThreadingBackend with 8 concurrent workers.\n",
      "[Parallel(n_jobs=-1)]: Done  34 tasks      | elapsed:    0.7s\n",
      "[Parallel(n_jobs=-1)]: Done 100 out of 100 | elapsed:    1.8s finished\n"
     ]
    },
    {
     "data": {
      "text/plain": [
       "RandomForestClassifier(bootstrap=True, class_weight=None, criterion='gini',\n",
       "            max_depth=None, max_features='auto', max_leaf_nodes=None,\n",
       "            min_impurity_decrease=0.0, min_impurity_split=None,\n",
       "            min_samples_leaf=1, min_samples_split=2,\n",
       "            min_weight_fraction_leaf=0.0, n_estimators=100, n_jobs=-1,\n",
       "            oob_score=False, random_state=0, verbose=1, warm_start=False)"
      ]
     },
     "execution_count": 139,
     "metadata": {},
     "output_type": "execute_result"
    }
   ],
   "source": [
    "RanForCLF = RandomForestClassifier(n_estimators=100, oob_score=False, random_state=0, verbose=1,n_jobs=-1)\n",
    "RanForCLF.fit(X_train,y_train)\n"
   ]
  },
  {
   "cell_type": "code",
   "execution_count": 140,
   "metadata": {},
   "outputs": [
    {
     "name": "stderr",
     "output_type": "stream",
     "text": [
      "[Parallel(n_jobs=8)]: Using backend ThreadingBackend with 8 concurrent workers.\n",
      "[Parallel(n_jobs=8)]: Done  34 tasks      | elapsed:    0.0s\n",
      "[Parallel(n_jobs=8)]: Done 100 out of 100 | elapsed:    0.0s finished\n"
     ]
    }
   ],
   "source": [
    "RanForCLF_pred = RanForCLF.predict(X_test)"
   ]
  },
  {
   "cell_type": "code",
   "execution_count": 141,
   "metadata": {},
   "outputs": [
    {
     "data": {
      "text/plain": [
       "95.11594280511969"
      ]
     },
     "execution_count": 141,
     "metadata": {},
     "output_type": "execute_result"
    }
   ],
   "source": [
    "##Accuracy of model.\n",
    "(RanForCLF_pred==y_test).sum()/(y_test.size)*100"
   ]
  },
  {
   "cell_type": "code",
   "execution_count": 142,
   "metadata": {},
   "outputs": [
    {
     "name": "stderr",
     "output_type": "stream",
     "text": [
      "[Parallel(n_jobs=8)]: Using backend ThreadingBackend with 8 concurrent workers.\n",
      "[Parallel(n_jobs=8)]: Done  34 tasks      | elapsed:    0.0s\n",
      "[Parallel(n_jobs=8)]: Done 100 out of 100 | elapsed:    0.0s finished\n"
     ]
    }
   ],
   "source": [
    "RanForCLF_CM=metrics.confusion_matrix(y_test, RanForCLF_pred)\n",
    "RanForCLF_Accuracy=metrics.accuracy_score(y_test, RanForCLF_pred)\n",
    "RanForCLF_Precision= metrics.precision_score(y_test, RanForCLF_pred)\n",
    "RanForCLF_Recall=metrics.recall_score(y_test, RanForCLF_pred)\n",
    "RanForCLF_ROC_AOC=metrics.roc_auc_score(y_test, RanForCLF_pred)\n",
    "RanForCLF_F1=metrics.f1_score(y_test, RanForCLF_pred)\n",
    "RanForCLF_pred_Prob = RanForCLF.predict_proba(X_test)\n",
    "fpr, tpr, thresholds = roc_curve(y_test,RanForCLF_pred_Prob[: , 1])\n",
    "RanForCLF_AUC_TPR=np.trapz(tpr,fpr)\n",
    "RanForCLF_AUC_FPR=np.trapz(fpr,tpr)\n",
    "\n"
   ]
  },
  {
   "cell_type": "code",
   "execution_count": 143,
   "metadata": {},
   "outputs": [
    {
     "name": "stdout",
     "output_type": "stream",
     "text": [
      "Confusion Matrix : \n",
      " [[16803    93]\n",
      " [  819   958]]\n",
      "Accuracy : 0.9511594280511969\n",
      "Precision Results = 0.9115128449096099\n",
      "Recall Results = 0.5391108610016883\n",
      "ROC_AUC :  0.766803299819026\n",
      "F1 Score :  0.6775106082036776\n",
      "Prediction Prabability : [[0.98 0.02]\n",
      " [0.88 0.12]\n",
      " [1.   0.  ]\n",
      " ...\n",
      " [0.98 0.02]\n",
      " [0.96 0.04]\n",
      " [0.77 0.23]]\n",
      "Prediction Prabability Shape : (18673, 2)\n",
      "AUC(tpr,fpr) :  0.8195523629744974\n",
      "AUC(fpr,tpr) :  0.18044763702550262\n"
     ]
    },
    {
     "data": {
      "text/plain": [
       "array([0, 1], dtype=int64)"
      ]
     },
     "execution_count": 143,
     "metadata": {},
     "output_type": "execute_result"
    }
   ],
   "source": [
    "print('Confusion Matrix : \\n',metrics.confusion_matrix(y_test, RanForCLF_pred))\n",
    "print('Accuracy :',metrics.accuracy_score(y_test,RanForCLF_pred))\n",
    "print('Precision Results =', metrics.precision_score(y_test, RanForCLF_pred))\n",
    "print('Recall Results =', metrics.recall_score(y_test, RanForCLF_pred))\n",
    "print('ROC_AUC : ', metrics.roc_auc_score(y_test, RanForCLF_pred))\n",
    "print('F1 Score : ',metrics.f1_score(y_test, RanForCLF_pred))\n",
    "print('Prediction Prabability :',RanForCLF_pred_Prob)\n",
    "print('Prediction Prabability Shape :',RanForCLF_pred_Prob.shape)\n",
    "print('AUC(tpr,fpr) : ', np.trapz(tpr,fpr))\n",
    "print('AUC(fpr,tpr) : ', np.trapz(fpr,tpr))\n",
    "RanForCLF.classes_ \n"
   ]
  },
  {
   "cell_type": "code",
   "execution_count": 144,
   "metadata": {},
   "outputs": [
    {
     "data": {
      "text/html": [
       "<div>\n",
       "<style scoped>\n",
       "    .dataframe tbody tr th:only-of-type {\n",
       "        vertical-align: middle;\n",
       "    }\n",
       "\n",
       "    .dataframe tbody tr th {\n",
       "        vertical-align: top;\n",
       "    }\n",
       "\n",
       "    .dataframe thead th {\n",
       "        text-align: right;\n",
       "    }\n",
       "</style>\n",
       "<table border=\"1\" class=\"dataframe\">\n",
       "  <thead>\n",
       "    <tr style=\"text-align: right;\">\n",
       "      <th></th>\n",
       "      <th>Features</th>\n",
       "      <th>Feature Importance</th>\n",
       "    </tr>\n",
       "  </thead>\n",
       "  <tbody>\n",
       "    <tr>\n",
       "      <th>0</th>\n",
       "      <td>signup_time-purchase_time</td>\n",
       "      <td>0.625037</td>\n",
       "    </tr>\n",
       "    <tr>\n",
       "      <th>3</th>\n",
       "      <td>N[device_id]</td>\n",
       "      <td>0.215556</td>\n",
       "    </tr>\n",
       "    <tr>\n",
       "      <th>1</th>\n",
       "      <td>purchase_value</td>\n",
       "      <td>0.091422</td>\n",
       "    </tr>\n",
       "    <tr>\n",
       "      <th>2</th>\n",
       "      <td>age</td>\n",
       "      <td>0.067985</td>\n",
       "    </tr>\n",
       "  </tbody>\n",
       "</table>\n",
       "</div>"
      ],
      "text/plain": [
       "                    Features  Feature Importance\n",
       "0  signup_time-purchase_time            0.625037\n",
       "3               N[device_id]            0.215556\n",
       "1             purchase_value            0.091422\n",
       "2                        age            0.067985"
      ]
     },
     "execution_count": 144,
     "metadata": {},
     "output_type": "execute_result"
    }
   ],
   "source": [
    "pd.DataFrame({'Features':feature_cols, 'Feature Importance':RanForCLF.feature_importances_}).sort_values(by = \"Feature Importance\", ascending=False)"
   ]
  },
  {
   "cell_type": "markdown",
   "metadata": {},
   "source": [
    "# Let us Compare Other Classification Models."
   ]
  },
  {
   "cell_type": "markdown",
   "metadata": {},
   "source": [
    "SVM Classification Models"
   ]
  },
  {
   "cell_type": "code",
   "execution_count": 145,
   "metadata": {},
   "outputs": [],
   "source": [
    "svmCLF = SGDClassifier(loss=\"log\",max_iter=1000,n_jobs=-1)"
   ]
  },
  {
   "cell_type": "code",
   "execution_count": 146,
   "metadata": {},
   "outputs": [
    {
     "data": {
      "text/plain": [
       "SGDClassifier(alpha=0.0001, average=False, class_weight=None,\n",
       "       early_stopping=False, epsilon=0.1, eta0=0.0, fit_intercept=True,\n",
       "       l1_ratio=0.15, learning_rate='optimal', loss='log', max_iter=1000,\n",
       "       n_iter=None, n_iter_no_change=5, n_jobs=-1, penalty='l2',\n",
       "       power_t=0.5, random_state=None, shuffle=True, tol=None,\n",
       "       validation_fraction=0.1, verbose=0, warm_start=False)"
      ]
     },
     "execution_count": 146,
     "metadata": {},
     "output_type": "execute_result"
    }
   ],
   "source": [
    "svmCLF.fit(X_train,y_train)"
   ]
  },
  {
   "cell_type": "code",
   "execution_count": 147,
   "metadata": {},
   "outputs": [],
   "source": [
    "svmCLF_pred = svmCLF.predict(X_test)"
   ]
  },
  {
   "cell_type": "code",
   "execution_count": 300,
   "metadata": {},
   "outputs": [],
   "source": [
    "svmCLF_CM=metrics.confusion_matrix(y_test,svmCLF_pred )\n",
    "svmCLF_Accuracy=metrics.accuracy_score(y_test, svmCLF_pred )\n",
    "svmCLF_Precision= metrics.precision_score(y_test,  svmCLF_pred )\n",
    "svmCLF_Recall=metrics.recall_score(y_test,  svmCLF_pred )\n",
    "svmCLF_ROC_AOC=metrics.roc_auc_score(y_test,  svmCLF_pred )\n",
    "svmCLF_F1=metrics.f1_score(y_test,  svmCLF_pred )\n",
    "svmCLF_pred_Prob = svmCLF.predict_proba(X_test)\n",
    "fpr, tpr, thresholds = roc_curve(y_test,svmCLF_pred_Prob[: , 1],pos_label= 0)\n",
    "svmCLF_AUC_TPR=np.trapz(tpr,fpr)\n",
    "svmCLF_AUC_FPR=np.trapz(fpr,tpr)"
   ]
  },
  {
   "cell_type": "code",
   "execution_count": 301,
   "metadata": {},
   "outputs": [
    {
     "name": "stdout",
     "output_type": "stream",
     "text": [
      "Confusion Matrix : \n",
      " [[16896     0]\n",
      " [  838   939]]\n"
     ]
    }
   ],
   "source": [
    "print('Confusion Matrix : \\n',metrics.confusion_matrix(y_test,svmCLF_pred))"
   ]
  },
  {
   "cell_type": "markdown",
   "metadata": {},
   "source": [
    "Logistic Regression Model With L1 Penalty"
   ]
  },
  {
   "cell_type": "code",
   "execution_count": 150,
   "metadata": {},
   "outputs": [
    {
     "name": "stderr",
     "output_type": "stream",
     "text": [
      "C:\\Users\\rajku\\AppData\\Local\\Continuum\\anaconda3\\lib\\site-packages\\sklearn\\linear_model\\logistic.py:1297: UserWarning: 'n_jobs' > 1 does not have any effect when 'solver' is set to 'liblinear'. Got 'n_jobs' = 8.\n",
      "  \" = {}.\".format(effective_n_jobs(self.n_jobs)))\n"
     ]
    }
   ],
   "source": [
    "LogReg_L1 = LogisticRegression(C=0.1, penalty='l1',n_jobs=-1)\n",
    "LogReg_L1.fit(X_train,y_train)\n",
    "LogRegCLFL1_pred_L1 = LogReg_L1.predict(X_test)"
   ]
  },
  {
   "cell_type": "code",
   "execution_count": 151,
   "metadata": {},
   "outputs": [],
   "source": [
    "LogRegCLFL1_CM=metrics.confusion_matrix(y_test,LogRegCLFL1_pred_L1 )\n",
    "LogRegCLFL1_CM_Accuracy=metrics.accuracy_score(y_test, LogRegCLFL1_pred_L1 )\n",
    "LogRegCLFL1_CM_Precision= metrics.precision_score(y_test,  LogRegCLFL1_pred_L1 )\n",
    "LogRegCLFL1_CM_Recall=metrics.recall_score(y_test,  LogRegCLFL1_pred_L1 )\n",
    "LogRegCLFL1_CM_ROC_AOC=metrics.roc_auc_score(y_test,  LogRegCLFL1_pred_L1 )\n",
    "LogRegCLFL1_CM_F1=metrics.f1_score(y_test,  LogRegCLFL1_pred_L1 )\n",
    "L1_pred_Prob = LogReg_L1.predict_proba(X_test)\n",
    "fpr, tpr, thresholds = roc_curve(y_test,L1_pred_Prob[: , 1],pos_label= 0)\n",
    "LogRegCLFL1_AUC_TPR=np.trapz(tpr,fpr)\n",
    "LogRegCLFL1_AUC_FPR=np.trapz(fpr,tpr)"
   ]
  },
  {
   "cell_type": "code",
   "execution_count": 152,
   "metadata": {},
   "outputs": [
    {
     "name": "stdout",
     "output_type": "stream",
     "text": [
      "Confusion Matrix : \n",
      " [[16821    75]\n",
      " [  853   924]]\n"
     ]
    }
   ],
   "source": [
    "print('Confusion Matrix : \\n',metrics.confusion_matrix(y_test,LogRegCLFL1_pred_L1))"
   ]
  },
  {
   "cell_type": "markdown",
   "metadata": {},
   "source": [
    "Decision Tree Classifier"
   ]
  },
  {
   "cell_type": "code",
   "execution_count": 153,
   "metadata": {},
   "outputs": [],
   "source": [
    "from sklearn.tree import DecisionTreeClassifier\n",
    "treeclf = DecisionTreeClassifier(max_depth=3, random_state=1)\n",
    "treeclf.fit(X_train,y_train)\n",
    "treeclfpred = treeclf.predict(X_test) "
   ]
  },
  {
   "cell_type": "code",
   "execution_count": 154,
   "metadata": {},
   "outputs": [],
   "source": [
    "treeclf_CM=metrics.confusion_matrix(y_test,treeclfpred  )\n",
    "treeclf_Accuracy=metrics.accuracy_score(y_test, treeclfpred  )\n",
    "treeclf_Precision= metrics.precision_score(y_test,  treeclfpred  )\n",
    "treeclf_Recall=metrics.recall_score(y_test,  treeclfpred  )\n",
    "treeclf_ROC_AOC=metrics.roc_auc_score(y_test,  treeclfpred  )\n",
    "treeclf_F1=metrics.f1_score(y_test,  treeclfpred  )\n",
    "treeclf_pred_Prob = treeclf.predict_proba(X_test)\n",
    "fpr, tpr, thresholds = roc_curve(y_test,treeclf_pred_Prob[: , 1],pos_label= 0)\n",
    "treeclf_pred_Prob_AUC_TPR=np.trapz(tpr,fpr)\n",
    "treeclf_pred_Prob_AUC_FPR=np.trapz(fpr,tpr)"
   ]
  },
  {
   "cell_type": "code",
   "execution_count": 155,
   "metadata": {},
   "outputs": [
    {
     "name": "stdout",
     "output_type": "stream",
     "text": [
      "Confusion Matrix : \n",
      " [[16896     0]\n",
      " [  834   943]]\n"
     ]
    }
   ],
   "source": [
    "print('Confusion Matrix : \\n',metrics.confusion_matrix(y_test,treeclfpred))"
   ]
  },
  {
   "cell_type": "markdown",
   "metadata": {},
   "source": [
    "KNeighbors Classifier"
   ]
  },
  {
   "cell_type": "code",
   "execution_count": 308,
   "metadata": {},
   "outputs": [],
   "source": [
    "knnclf = KNeighborsClassifier(n_neighbors=1,p=2,metric='minkowski',n_jobs=-1)\n"
   ]
  },
  {
   "cell_type": "code",
   "execution_count": 309,
   "metadata": {},
   "outputs": [
    {
     "data": {
      "text/plain": [
       "KNeighborsClassifier(algorithm='auto', leaf_size=30, metric='minkowski',\n",
       "           metric_params=None, n_jobs=-1, n_neighbors=1, p=2,\n",
       "           weights='uniform')"
      ]
     },
     "execution_count": 309,
     "metadata": {},
     "output_type": "execute_result"
    }
   ],
   "source": [
    "knnclf.fit(X_train, y_train)"
   ]
  },
  {
   "cell_type": "code",
   "execution_count": 310,
   "metadata": {},
   "outputs": [],
   "source": [
    "knn_pred = knnclf.predict(X_test)"
   ]
  },
  {
   "cell_type": "code",
   "execution_count": 311,
   "metadata": {},
   "outputs": [],
   "source": [
    "knnclf_CM=metrics.confusion_matrix(y_test,knn_pred )\n",
    "knnclf_Accuracy=metrics.accuracy_score(y_test, knn_pred )\n",
    "knnclf_Precision= metrics.precision_score(y_test,  knn_pred  )\n",
    "knnclf_Recall=metrics.recall_score(y_test,  knn_pred  )\n",
    "knnclf_ROC_AOC=metrics.roc_auc_score(y_test,  knn_pred  )\n",
    "knnclf_F1=metrics.f1_score(y_test,  knn_pred  )\n",
    "knnclf_pred_Prob = knnclf.predict_proba(X_test)\n",
    "fpr, tpr, thresholds = roc_curve(y_test,knnclf_pred_Prob[: , 1],pos_label= 0)\n",
    "knnclf_pred_Prob_AUC_TPR=np.trapz(tpr,fpr)\n",
    "knnclf_pred_Prob_AUC_FPR=np.trapz(fpr,tpr)"
   ]
  },
  {
   "cell_type": "code",
   "execution_count": 312,
   "metadata": {},
   "outputs": [
    {
     "name": "stdout",
     "output_type": "stream",
     "text": [
      "Confusion Matrix : \n",
      " [[16112   784]\n",
      " [  790   987]]\n"
     ]
    }
   ],
   "source": [
    "print('Confusion Matrix : \\n',metrics.confusion_matrix(y_test,knn_pred))"
   ]
  },
  {
   "cell_type": "markdown",
   "metadata": {},
   "source": [
    "# Let us tabularize the metrics for the above classifiers"
   ]
  },
  {
   "cell_type": "code",
   "execution_count": 160,
   "metadata": {},
   "outputs": [
    {
     "data": {
      "text/html": [
       "<div>\n",
       "<style scoped>\n",
       "    .dataframe tbody tr th:only-of-type {\n",
       "        vertical-align: middle;\n",
       "    }\n",
       "\n",
       "    .dataframe tbody tr th {\n",
       "        vertical-align: top;\n",
       "    }\n",
       "\n",
       "    .dataframe thead th {\n",
       "        text-align: right;\n",
       "    }\n",
       "</style>\n",
       "<table border=\"1\" class=\"dataframe\">\n",
       "  <thead>\n",
       "    <tr style=\"text-align: right;\">\n",
       "      <th></th>\n",
       "      <th>RandomForestClassifier</th>\n",
       "      <th>SGDClassifier</th>\n",
       "      <th>LogisticsRegL1Classifier</th>\n",
       "      <th>DecisionTreeClassifier</th>\n",
       "      <th>KNeighborsClassifier</th>\n",
       "    </tr>\n",
       "  </thead>\n",
       "  <tbody>\n",
       "    <tr>\n",
       "      <th>Recall Score</th>\n",
       "      <td>0.539111</td>\n",
       "      <td>0.528419</td>\n",
       "      <td>0.519977</td>\n",
       "      <td>0.530670</td>\n",
       "      <td>0.530670</td>\n",
       "    </tr>\n",
       "    <tr>\n",
       "      <th>ROC_AUC_Score</th>\n",
       "      <td>0.766803</td>\n",
       "      <td>0.764209</td>\n",
       "      <td>0.757769</td>\n",
       "      <td>0.765335</td>\n",
       "      <td>0.765335</td>\n",
       "    </tr>\n",
       "    <tr>\n",
       "      <th>Precision Score</th>\n",
       "      <td>0.911513</td>\n",
       "      <td>1.000000</td>\n",
       "      <td>0.924925</td>\n",
       "      <td>1.000000</td>\n",
       "      <td>1.000000</td>\n",
       "    </tr>\n",
       "    <tr>\n",
       "      <th>F1_Score</th>\n",
       "      <td>0.677511</td>\n",
       "      <td>0.691458</td>\n",
       "      <td>0.665706</td>\n",
       "      <td>0.693382</td>\n",
       "      <td>0.693382</td>\n",
       "    </tr>\n",
       "    <tr>\n",
       "      <th>Accruacy Score</th>\n",
       "      <td>0.951159</td>\n",
       "      <td>0.955122</td>\n",
       "      <td>0.950303</td>\n",
       "      <td>0.955337</td>\n",
       "      <td>0.955337</td>\n",
       "    </tr>\n",
       "    <tr>\n",
       "      <th>AUC_TPR</th>\n",
       "      <td>0.819552</td>\n",
       "      <td>0.234398</td>\n",
       "      <td>0.171322</td>\n",
       "      <td>0.171265</td>\n",
       "      <td>0.171265</td>\n",
       "    </tr>\n",
       "    <tr>\n",
       "      <th>AUC_FPR</th>\n",
       "      <td>0.180448</td>\n",
       "      <td>0.765602</td>\n",
       "      <td>0.828678</td>\n",
       "      <td>0.828735</td>\n",
       "      <td>0.828735</td>\n",
       "    </tr>\n",
       "  </tbody>\n",
       "</table>\n",
       "</div>"
      ],
      "text/plain": [
       "                 RandomForestClassifier  SGDClassifier  \\\n",
       "Recall Score                   0.539111       0.528419   \n",
       "ROC_AUC_Score                  0.766803       0.764209   \n",
       "Precision Score                0.911513       1.000000   \n",
       "F1_Score                       0.677511       0.691458   \n",
       "Accruacy Score                 0.951159       0.955122   \n",
       "AUC_TPR                        0.819552       0.234398   \n",
       "AUC_FPR                        0.180448       0.765602   \n",
       "\n",
       "                 LogisticsRegL1Classifier  DecisionTreeClassifier  \\\n",
       "Recall Score                     0.519977                0.530670   \n",
       "ROC_AUC_Score                    0.757769                0.765335   \n",
       "Precision Score                  0.924925                1.000000   \n",
       "F1_Score                         0.665706                0.693382   \n",
       "Accruacy Score                   0.950303                0.955337   \n",
       "AUC_TPR                          0.171322                0.171265   \n",
       "AUC_FPR                          0.828678                0.828735   \n",
       "\n",
       "                 KNeighborsClassifier  \n",
       "Recall Score                 0.530670  \n",
       "ROC_AUC_Score                0.765335  \n",
       "Precision Score              1.000000  \n",
       "F1_Score                     0.693382  \n",
       "Accruacy Score               0.955337  \n",
       "AUC_TPR                      0.171265  \n",
       "AUC_FPR                      0.828735  "
      ]
     },
     "execution_count": 160,
     "metadata": {},
     "output_type": "execute_result"
    }
   ],
   "source": [
    "modelper = {\n",
    "    \"RandomForestClassifier\" : pd.Series([RanForCLF_Accuracy,RanForCLF_Precision,RanForCLF_Recall,RanForCLF_ROC_AOC,RanForCLF_F1,RanForCLF_AUC_TPR,RanForCLF_AUC_FPR],index=[\"Accruacy Score\",\"Precision Score\",\"Recall Score\",\"ROC_AUC_Score\",\"F1_Score\",\"AUC_TPR\",\"AUC_FPR\"]),\n",
    "    \"SGDClassifier\" : pd.Series([svmCLF_Accuracy,svmCLF_Precision,svmCLF_Recall,svmCLF_ROC_AOC,svmCLF_F1,svmCLF_AUC_TPR,svmCLF_AUC_FPR],index=[\"Accruacy Score\",\"Precision Score\",\"Recall Score\",\"ROC_AUC_Score\",\"F1_Score\",\"AUC_TPR\",\"AUC_FPR\"]),\n",
    "    \"LogisticsRegL1Classifier\" : pd.Series([LogRegCLFL1_CM_Accuracy,LogRegCLFL1_CM_Precision,LogRegCLFL1_CM_Recall,LogRegCLFL1_CM_ROC_AOC,LogRegCLFL1_CM_F1,LogRegCLFL1_AUC_TPR,LogRegCLFL1_AUC_FPR],index=[\"Accruacy Score\",\"Precision Score\",\"Recall Score\",\"ROC_AUC_Score\",\"F1_Score\",\"AUC_TPR\",\"AUC_FPR\"]),\n",
    "    \"DecisionTreeClassifier\" : pd.Series([treeclf_Accuracy,treeclf_Precision,treeclf_Recall,treeclf_ROC_AOC,treeclf_F1,treeclf_pred_Prob_AUC_TPR,treeclf_pred_Prob_AUC_FPR],index=[\"Accruacy Score\",\"Precision Score\",\"Recall Score\",\"ROC_AUC_Score\",\"F1_Score\",\"AUC_TPR\",\"AUC_FPR\"]),\n",
    "     \"KNeighborsClassifier\" : pd.Series([treeclf_Accuracy,treeclf_Precision,treeclf_Recall,treeclf_ROC_AOC,treeclf_F1,treeclf_pred_Prob_AUC_TPR,treeclf_pred_Prob_AUC_FPR],index=[\"Accruacy Score\",\"Precision Score\",\"Recall Score\",\"ROC_AUC_Score\",\"F1_Score\",\"AUC_TPR\",\"AUC_FPR\"]),   \n",
    "}\n",
    "model_perf_matrix_SMT_SCA= pd.DataFrame(modelper).sort_index(ascending=False)\n",
    "model_perf_matrix_SMT_SCA\n"
   ]
  },
  {
   "cell_type": "markdown",
   "metadata": {},
   "source": [
    "# What can we arrive at: We are looking at model which precits more Positives which is around True Positives.  \n",
    "# FalsePositives(normal transactions logged as Possible Fraud) are acceptable than FalseNegatives (Fradulent Transactions accepted as normal)which is optimizing the SENSITIVITY or RECALL score. "
   ]
  },
  {
   "cell_type": "markdown",
   "metadata": {},
   "source": [
    "From the above Table ; we can see that KNNClassifier/RandomForestClassifier are the best Performing Model in terms of RECALL, ROC_Score which is more towards SENSITIVITY. \n"
   ]
  },
  {
   "cell_type": "code",
   "execution_count": 161,
   "metadata": {},
   "outputs": [],
   "source": [
    "fpr, tpr, thresholds = metrics.roc_curve(y_test,RanForCLF_pred_Prob[:,1])\n"
   ]
  },
  {
   "cell_type": "code",
   "execution_count": 162,
   "metadata": {},
   "outputs": [
    {
     "data": {
      "text/plain": [
       "Text(0.5, 1.0, 'ROC curve for svmSGDCLF')"
      ]
     },
     "execution_count": 162,
     "metadata": {},
     "output_type": "execute_result"
    },
    {
     "data": {
      "image/png": "[encoded data removed]",
      "text/plain": [
       "<Figure size 432x288 with 1 Axes>"
      ]
     },
     "metadata": {
      "needs_background": "light"
     },
     "output_type": "display_data"
    }
   ],
   "source": [
    "fig = plt.figure()\n",
    "ax = fig.add_subplot(111)\n",
    "ax.plot(fpr, tpr)\n",
    "ax.plot([0, 1], [0, 1], ls=\"--\")\n",
    "ax.set_xlabel('False Positive Rate') \n",
    "ax.set_ylabel('True Positive Rate')\n",
    "ax.set_title('ROC curve for RanForCLF')"
   ]
  },
  {
   "cell_type": "code",
   "execution_count": 163,
   "metadata": {},
   "outputs": [
    {
     "data": {
      "text/html": [
       "<div>\n",
       "<style scoped>\n",
       "    .dataframe tbody tr th:only-of-type {\n",
       "        vertical-align: middle;\n",
       "    }\n",
       "\n",
       "    .dataframe tbody tr th {\n",
       "        vertical-align: top;\n",
       "    }\n",
       "\n",
       "    .dataframe thead th {\n",
       "        text-align: right;\n",
       "    }\n",
       "</style>\n",
       "<table border=\"1\" class=\"dataframe\">\n",
       "  <thead>\n",
       "    <tr style=\"text-align: right;\">\n",
       "      <th></th>\n",
       "      <th>Features</th>\n",
       "      <th>Feature Importance</th>\n",
       "    </tr>\n",
       "  </thead>\n",
       "  <tbody>\n",
       "    <tr>\n",
       "      <th>0</th>\n",
       "      <td>signup_time-purchase_time</td>\n",
       "      <td>0.625037</td>\n",
       "    </tr>\n",
       "    <tr>\n",
       "      <th>3</th>\n",
       "      <td>N[device_id]</td>\n",
       "      <td>0.215556</td>\n",
       "    </tr>\n",
       "    <tr>\n",
       "      <th>1</th>\n",
       "      <td>purchase_value</td>\n",
       "      <td>0.091422</td>\n",
       "    </tr>\n",
       "    <tr>\n",
       "      <th>2</th>\n",
       "      <td>age</td>\n",
       "      <td>0.067985</td>\n",
       "    </tr>\n",
       "  </tbody>\n",
       "</table>\n",
       "</div>"
      ],
      "text/plain": [
       "                    Features  Feature Importance\n",
       "0  signup_time-purchase_time            0.625037\n",
       "3               N[device_id]            0.215556\n",
       "1             purchase_value            0.091422\n",
       "2                        age            0.067985"
      ]
     },
     "execution_count": 163,
     "metadata": {},
     "output_type": "execute_result"
    }
   ],
   "source": [
    "pd.DataFrame({'Features':feature_cols, 'Feature Importance':RanForCLF.feature_importances_}).sort_values(by = \"Feature Importance\", ascending=False)"
   ]
  },
  {
   "cell_type": "code",
   "execution_count": null,
   "metadata": {},
   "outputs": [],
   "source": []
  },
  {
   "cell_type": "code",
   "execution_count": null,
   "metadata": {},
   "outputs": [],
   "source": []
  },
  {
   "cell_type": "markdown",
   "metadata": {},
   "source": [
    "# Let us look at Learning Curve of RandomForestClassifier"
   ]
  },
  {
   "cell_type": "code",
   "execution_count": 165,
   "metadata": {},
   "outputs": [],
   "source": [
    "%matplotlib inline\n",
    "import matplotlib.pyplot as plt\n",
    "from sklearn.model_selection import learning_curve\n",
    "from sklearn.model_selection import validation_curve"
   ]
  },
  {
   "cell_type": "code",
   "execution_count": 166,
   "metadata": {},
   "outputs": [
    {
     "name": "stdout",
     "output_type": "stream",
     "text": [
      "[learning_curve] Training set sizes: [ 5041 10083 15124 20166 25208 30249 35291 40332 45374 50416]\n"
     ]
    },
    {
     "name": "stderr",
     "output_type": "stream",
     "text": [
      "[Parallel(n_jobs=-1)]: Using backend LokyBackend with 8 concurrent workers.\n",
      "[Parallel(n_jobs=-1)]: Done  50 out of 100 | elapsed:  1.3min remaining:  1.3min\n",
      "[Parallel(n_jobs=-1)]: Done 100 out of 100 | elapsed:  2.5min finished\n"
     ]
    }
   ],
   "source": [
    "train_sizes, train_scores, test_scores =learning_curve(RanForCLF,X=X_train,y=y_train,train_sizes=np.linspace(0.1, 1.0, 10),cv=10,n_jobs=-1,verbose=2)"
   ]
  },
  {
   "cell_type": "code",
   "execution_count": 169,
   "metadata": {},
   "outputs": [],
   "source": [
    "train_mean =np.mean(train_scores, axis=1)\n",
    "train_std =np.std(train_scores, axis=1)\n",
    "test_mean =np.mean(test_scores, axis=1)\n",
    "test_std =np.std(test_scores, axis=1)"
   ]
  },
  {
   "cell_type": "code",
   "execution_count": 170,
   "metadata": {},
   "outputs": [
    {
     "name": "stdout",
     "output_type": "stream",
     "text": [
      "train_mean =  [0.99998016 1.         0.99995372 0.99999008 0.99996826 0.99997355\n",
      " 0.99993199 0.9999281  0.99994049 0.99992661]\n",
      "train_std =  [5.95120016e-05 0.00000000e+00 3.03000244e-05 2.97530497e-05\n",
      " 4.27258395e-05 3.56055725e-05 2.59702230e-05 2.33908091e-05\n",
      " 2.42429585e-05 1.27005797e-05]\n",
      "test_mean =  [0.95349707 0.95344352 0.95353275 0.95346133 0.95331852 0.95319355\n",
      " 0.95281868 0.9522296  0.95217605 0.95190831]\n",
      "test_std =  [0.00181971 0.00180471 0.00193686 0.00198754 0.00224549 0.00206148\n",
      " 0.00204602 0.00180077 0.00161063 0.00143986]\n"
     ]
    }
   ],
   "source": [
    "print('train_mean = ',train_mean)\n",
    "print('train_std = ',train_std )\n",
    "print('test_mean = ',test_mean)\n",
    "print('test_std = ', test_std )"
   ]
  },
  {
   "cell_type": "code",
   "execution_count": 173,
   "metadata": {},
   "outputs": [
    {
     "data": {
      "image/png": "[encoded data removed]",
      "text/plain": [
       "<Figure size 432x288 with 1 Axes>"
      ]
     },
     "metadata": {
      "needs_background": "light"
     },
     "output_type": "display_data"
    }
   ],
   "source": [
    "figsize=(12,24)\n",
    "plt.grid()\n",
    "plt.ylim([0.92, 1.01])\n",
    "plt.plot(train_sizes, train_mean,color='blue',label='training accuracy')\n",
    "plt.fill_between(train_sizes,train_mean + train_std,train_mean - train_std,alpha=0.15, color='yellow')\n",
    "plt.plot(train_sizes, test_mean,color='green',linestyle='--',label='validation accuracy')\n",
    "plt.fill_between(train_sizes,test_mean + test_std,test_mean - test_std,alpha=0.15, color='green')\n",
    "plt.xlabel('Number of training samples')\n",
    "plt.ylabel('Accuracy')\n",
    "plt.legend(loc='best')\n",
    "plt.tight_layout()\n",
    "plt.show()"
   ]
  },
  {
   "cell_type": "markdown",
   "metadata": {},
   "source": [
    "# Let us look at Validation Curve of RanForCLF\n",
    "Validation curves are a useful tool for improving the performance of a model by addressing issues \n",
    "such as overfitting or underfitting. Validation curves are related to learning curves, but instead of plotting the \n",
    "training and test accuracies as functions of the sample size, we vary the values of the model parameters, for example, \n",
    "the inverse regularization parameter C in logistic regression."
   ]
  },
  {
   "cell_type": "code",
   "execution_count": 174,
   "metadata": {},
   "outputs": [
    {
     "data": {
      "text/plain": [
       "dict_keys(['bootstrap', 'class_weight', 'criterion', 'max_depth', 'max_features', 'max_leaf_nodes', 'min_impurity_decrease', 'min_impurity_split', 'min_samples_leaf', 'min_samples_split', 'min_weight_fraction_leaf', 'n_estimators', 'n_jobs', 'oob_score', 'random_state', 'verbose', 'warm_start'])"
      ]
     },
     "execution_count": 174,
     "metadata": {},
     "output_type": "execute_result"
    }
   ],
   "source": [
    "RanForCLF.get_params().keys()"
   ]
  },
  {
   "cell_type": "code",
   "execution_count": 175,
   "metadata": {},
   "outputs": [],
   "source": [
    "param_range = np.arange(1, 100, 10)"
   ]
  },
  {
   "cell_type": "code",
   "execution_count": 176,
   "metadata": {},
   "outputs": [],
   "source": [
    "train_scores, test_scores = validation_curve(RanForCLF,X=X_train,y=y_train,param_name='n_estimators', param_range=param_range,cv=10,n_jobs=-1)"
   ]
  },
  {
   "cell_type": "code",
   "execution_count": 177,
   "metadata": {},
   "outputs": [
    {
     "data": {
      "text/plain": [
       "((10,), (20, 10), (20, 10))"
      ]
     },
     "execution_count": 177,
     "metadata": {},
     "output_type": "execute_result"
    }
   ],
   "source": [
    "train_sizes.shape,train_scores.shape,test_scores.shape"
   ]
  },
  {
   "cell_type": "code",
   "execution_count": 178,
   "metadata": {},
   "outputs": [],
   "source": [
    "train_mean =np.mean(train_scores, axis=1)\n",
    "train_std =np.std(train_scores, axis=1)\n",
    "test_mean =np.mean(test_scores, axis=1)\n",
    "test_std =np.std(test_scores, axis=1)"
   ]
  },
  {
   "cell_type": "code",
   "execution_count": 179,
   "metadata": {},
   "outputs": [
    {
     "name": "stdout",
     "output_type": "stream",
     "text": [
      "train_mean =  [0.97041031 0.98524284 0.99392854 0.99342672 0.9968165  0.99654278\n",
      " 0.99805221 0.99799866 0.99889916 0.99886743 0.99941685 0.99924627\n",
      " 0.99965487 0.99957752 0.99979372 0.99977587 0.99990281 0.99986512\n",
      " 0.99994645 0.99992661]\n",
      "train_std =  [5.11594063e-04 2.67057148e-04 1.72525491e-04 1.44475996e-04\n",
      " 1.20741536e-04 1.16697167e-04 8.26461709e-05 1.15133898e-04\n",
      " 9.52294192e-05 8.19939646e-05 5.26261617e-05 5.88417101e-05\n",
      " 4.08422584e-05 5.54293495e-05 4.87456002e-05 4.16516955e-05\n",
      " 3.12982767e-05 3.63569944e-05 2.94867067e-05 2.94864976e-05]\n",
      "test_mean =  [0.91838339 0.94989112 0.94853444 0.95140847 0.95021242 0.95142631\n",
      " 0.95089077 0.95172978 0.95124779 0.95171194 0.95153343 0.95174763\n",
      " 0.95151558 0.95156913 0.95139061 0.9518369  0.95155128 0.95189045\n",
      " 0.9517298  0.95206896]\n",
      "test_std =  [0.00369166 0.00132092 0.00178055 0.00161425 0.0013608  0.00154735\n",
      " 0.00183568 0.00162913 0.00175408 0.00154684 0.00158339 0.00162905\n",
      " 0.00168638 0.00151505 0.00172742 0.00153334 0.00145309 0.00159152\n",
      " 0.00155673 0.0015262 ]\n"
     ]
    }
   ],
   "source": [
    "print('train_mean = ',train_mean)\n",
    "print('train_std = ',train_std )\n",
    "print('test_mean = ',test_mean)\n",
    "print('test_std = ', test_std )"
   ]
  },
  {
   "cell_type": "code",
   "execution_count": 180,
   "metadata": {},
   "outputs": [
    {
     "data": {
      "image/png": "[encoded data removed]",
      "text/plain": [
       "<Figure size 432x288 with 1 Axes>"
      ]
     },
     "metadata": {
      "needs_background": "light"
     },
     "output_type": "display_data"
    }
   ],
   "source": [
    "plt.plot(param_range, train_mean, label=\"Training score\", color=\"gray\")\n",
    "plt.fill_between(param_range, train_mean - train_std, train_mean + train_std, color=\"black\",alpha=0.15)\n",
    "plt.plot(param_range, test_mean, label=\"Cross-validation score\", color=\"blue\")\n",
    "plt.fill_between(param_range, test_mean - test_std, test_mean + test_std, color=\"blue\",alpha=0.15)\n",
    "plt.grid()\n",
    "plt.title(\"Validation Curve With Random Forest\")\n",
    "plt.xlabel(\"Number Of Trees\")\n",
    "plt.ylabel(\"Accuracy Score\")\n",
    "plt.tight_layout()\n",
    "plt.legend(loc=\"best\")\n",
    "plt.show()"
   ]
  },
  {
   "cell_type": "markdown",
   "metadata": {},
   "source": [
    "# Optimization using GridSearchCV"
   ]
  },
  {
   "cell_type": "code",
   "execution_count": 181,
   "metadata": {},
   "outputs": [],
   "source": [
    "from sklearn.model_selection import GridSearchCV"
   ]
  },
  {
   "cell_type": "code",
   "execution_count": 182,
   "metadata": {},
   "outputs": [
    {
     "data": {
      "text/plain": [
       "dict_keys(['bootstrap', 'class_weight', 'criterion', 'max_depth', 'max_features', 'max_leaf_nodes', 'min_impurity_decrease', 'min_impurity_split', 'min_samples_leaf', 'min_samples_split', 'min_weight_fraction_leaf', 'n_estimators', 'n_jobs', 'oob_score', 'random_state', 'verbose', 'warm_start'])"
      ]
     },
     "execution_count": 182,
     "metadata": {},
     "output_type": "execute_result"
    }
   ],
   "source": [
    "RanForCLF.get_params().keys()"
   ]
  },
  {
   "cell_type": "code",
   "execution_count": 183,
   "metadata": {},
   "outputs": [],
   "source": [
    "parameters = {'n_estimators':   [200,  300],\n",
    "              'max_features':['auto', 'sqrt', 'log2'],\n",
    "              'max_depth':      [4,5,6,7,8],\n",
    "              'criterion' : ['gini', 'entropy']\n",
    "              }                            "
   ]
  },
  {
   "cell_type": "code",
   "execution_count": 184,
   "metadata": {},
   "outputs": [],
   "source": [
    "RanForCLFGridCV = GridSearchCV(estimator=RanForCLF, param_grid=parameters, cv= 10,n_jobs=-1, verbose =2,scoring = ['recall', 'roc_auc'],refit = 'roc_auc')"
   ]
  },
  {
   "cell_type": "code",
   "execution_count": 185,
   "metadata": {},
   "outputs": [
    {
     "name": "stdout",
     "output_type": "stream",
     "text": [
      "Fitting 10 folds for each of 60 candidates, totalling 600 fits\n"
     ]
    },
    {
     "name": "stderr",
     "output_type": "stream",
     "text": [
      "[Parallel(n_jobs=-1)]: Using backend LokyBackend with 8 concurrent workers.\n",
      "[Parallel(n_jobs=-1)]: Done  25 tasks      | elapsed:  1.1min\n",
      "[Parallel(n_jobs=-1)]: Done 146 tasks      | elapsed:  6.4min\n",
      "[Parallel(n_jobs=-1)]: Done 349 tasks      | elapsed: 17.9min\n",
      "[Parallel(n_jobs=-1)]: Done 600 out of 600 | elapsed: 34.7min finished\n",
      "[Parallel(n_jobs=-1)]: Using backend ThreadingBackend with 8 concurrent workers.\n",
      "[Parallel(n_jobs=-1)]: Done  34 tasks      | elapsed:    0.4s\n",
      "[Parallel(n_jobs=-1)]: Done 184 tasks      | elapsed:    2.0s\n",
      "[Parallel(n_jobs=-1)]: Done 200 out of 200 | elapsed:    2.1s finished\n"
     ]
    },
    {
     "data": {
      "text/plain": [
       "34.7454448223114"
      ]
     },
     "execution_count": 185,
     "metadata": {},
     "output_type": "execute_result"
    }
   ],
   "source": [
    "start = time.time()\n",
    "RanForCLFGridCV.fit(X_train,y_train)\n",
    "end = time.time()\n",
    "(end - start)/60"
   ]
  },
  {
   "cell_type": "code",
   "execution_count": 186,
   "metadata": {},
   "outputs": [
    {
     "data": {
      "text/plain": [
       "'Best score: 0.8269721676668348 '"
      ]
     },
     "execution_count": 186,
     "metadata": {},
     "output_type": "execute_result"
    }
   ],
   "source": [
    "f\"Best score: {RanForCLFGridCV.best_score_} \""
   ]
  },
  {
   "cell_type": "code",
   "execution_count": 187,
   "metadata": {},
   "outputs": [
    {
     "data": {
      "text/plain": [
       "\"Best parameter set {'criterion': 'gini', 'max_depth': 5, 'max_features': 'auto', 'n_estimators': 200}\""
      ]
     },
     "execution_count": 187,
     "metadata": {},
     "output_type": "execute_result"
    }
   ],
   "source": [
    "f\"Best parameter set {RanForCLFGridCV.best_params_}\""
   ]
  },
  {
   "cell_type": "code",
   "execution_count": 188,
   "metadata": {},
   "outputs": [
    {
     "name": "stderr",
     "output_type": "stream",
     "text": [
      "[Parallel(n_jobs=8)]: Using backend ThreadingBackend with 8 concurrent workers.\n",
      "[Parallel(n_jobs=8)]: Done  34 tasks      | elapsed:    0.0s\n",
      "[Parallel(n_jobs=8)]: Done 184 tasks      | elapsed:    0.0s\n",
      "[Parallel(n_jobs=8)]: Done 200 out of 200 | elapsed:    0.0s finished\n"
     ]
    }
   ],
   "source": [
    "Y_pred = RanForCLFGridCV.predict(X_test)\n"
   ]
  },
  {
   "cell_type": "code",
   "execution_count": 196,
   "metadata": {},
   "outputs": [
    {
     "name": "stderr",
     "output_type": "stream",
     "text": [
      "[Parallel(n_jobs=8)]: Using backend ThreadingBackend with 8 concurrent workers.\n",
      "[Parallel(n_jobs=8)]: Done  34 tasks      | elapsed:    0.0s\n",
      "[Parallel(n_jobs=8)]: Done 184 tasks      | elapsed:    0.0s\n",
      "[Parallel(n_jobs=8)]: Done 200 out of 200 | elapsed:    0.0s finished\n"
     ]
    }
   ],
   "source": [
    "RanForCLFGridCV_CM=metrics.confusion_matrix(y_test, Y_pred )\n",
    "RanForCLFGridCV_Accuracy=metrics.accuracy_score(y_test, Y_pred )\n",
    "RanForCLFGridCV_Precision= metrics.precision_score(y_test,  Y_pred )\n",
    "RanForCLFGridCV_Recall=metrics.recall_score(y_test,  Y_pred )\n",
    "RanForCLFGridCV_ROC_AOC=metrics.roc_auc_score(y_test, Y_pred )\n",
    "RanForCLFGridCV_F1=metrics.f1_score(y_test, Y_pred)\n",
    "Y_pred_Prob = RanForCLFGridCV.predict_proba(X_test)\n",
    "fpr, tpr, thresholds = roc_curve(y_test,Y_pred_Prob[: , 1],pos_label= 0)\n",
    "RanForCLFGridCV_AUC_TPR=np.trapz(tpr,fpr)\n",
    "RanForCLFGridCV_AUC_FPR=np.trapz(fpr,tpr)\n"
   ]
  },
  {
   "cell_type": "code",
   "execution_count": 197,
   "metadata": {},
   "outputs": [
    {
     "name": "stdout",
     "output_type": "stream",
     "text": [
      "Confusion Matrix : \n",
      " [[16896     0]\n",
      " [  834   943]]\n",
      "Accuracy : 0.9553365822310288\n",
      "Precision Results = 1.0\n",
      "Recall Results = 0.5306696679797411\n",
      "ROC_AUC :  0.7653348339898706\n",
      "F1 Score :  0.6933823529411764\n",
      "AUC(tpr,fpr) :  0.1776384690052608\n",
      "AUC(fpr,tpr) :  0.8223615309947392\n"
     ]
    },
    {
     "name": "stderr",
     "output_type": "stream",
     "text": [
      "[Parallel(n_jobs=8)]: Using backend ThreadingBackend with 8 concurrent workers.\n",
      "[Parallel(n_jobs=8)]: Done  34 tasks      | elapsed:    0.0s\n",
      "[Parallel(n_jobs=8)]: Done 184 tasks      | elapsed:    0.0s\n",
      "[Parallel(n_jobs=8)]: Done 200 out of 200 | elapsed:    0.0s finished\n"
     ]
    },
    {
     "name": "stdout",
     "output_type": "stream",
     "text": [
      "Prediction Prabability : [[0.9635979  0.0364021 ]\n",
      " [0.96423121 0.03576879]\n",
      " [0.9670617  0.0329383 ]\n",
      " ...\n",
      " [0.96669497 0.03330503]\n",
      " [0.96476113 0.03523887]\n",
      " [0.96443709 0.03556291]]\n",
      "Prediction Prabability Shape : (18673, 2)\n"
     ]
    },
    {
     "data": {
      "text/plain": [
       "array([0, 1], dtype=int64)"
      ]
     },
     "execution_count": 197,
     "metadata": {},
     "output_type": "execute_result"
    }
   ],
   "source": [
    "print('Confusion Matrix : \\n',metrics.confusion_matrix(y_test, Y_pred))\n",
    "print('Accuracy :',metrics.accuracy_score(y_test, Y_pred))\n",
    "print('Precision Results =', metrics.precision_score(y_test, Y_pred))\n",
    "print('Recall Results =', metrics.recall_score(y_test, Y_pred))\n",
    "print('ROC_AUC : ', metrics.roc_auc_score(y_test, Y_pred))\n",
    "print('F1 Score : ',metrics.f1_score(y_test, Y_pred))\n",
    "print('AUC(tpr,fpr) : ', np.trapz(tpr,fpr))\n",
    "print('AUC(fpr,tpr) : ', np.trapz(fpr,tpr))\n",
    "Y_pred_Prob = RanForCLFGridCV.predict_proba(X_test)\n",
    "print('Prediction Prabability :',Y_pred_Prob)\n",
    "print('Prediction Prabability Shape :',Y_pred_Prob.shape)\n",
    "RanForCLFGridCV.classes_ "
   ]
  },
  {
   "cell_type": "code",
   "execution_count": 198,
   "metadata": {},
   "outputs": [],
   "source": [
    "perm = PermutationImportance(\n",
    "                            RanForCLFGridCV,\n",
    "                            random_state=1\n",
    "                            )"
   ]
  },
  {
   "cell_type": "code",
   "execution_count": 199,
   "metadata": {},
   "outputs": [
    {
     "name": "stderr",
     "output_type": "stream",
     "text": [
      "[Parallel(n_jobs=8)]: Using backend ThreadingBackend with 8 concurrent workers.\n",
      "[Parallel(n_jobs=8)]: Done  34 tasks      | elapsed:    0.0s\n",
      "[Parallel(n_jobs=8)]: Done 184 tasks      | elapsed:    0.0s\n",
      "[Parallel(n_jobs=8)]: Done 200 out of 200 | elapsed:    0.0s finished\n",
      "[Parallel(n_jobs=8)]: Using backend ThreadingBackend with 8 concurrent workers.\n",
      "[Parallel(n_jobs=8)]: Done  34 tasks      | elapsed:    0.0s\n",
      "[Parallel(n_jobs=8)]: Done 184 tasks      | elapsed:    0.0s\n",
      "[Parallel(n_jobs=8)]: Done 200 out of 200 | elapsed:    0.1s finished\n",
      "[Parallel(n_jobs=8)]: Using backend ThreadingBackend with 8 concurrent workers.\n",
      "[Parallel(n_jobs=8)]: Done  34 tasks      | elapsed:    0.0s\n",
      "[Parallel(n_jobs=8)]: Done 184 tasks      | elapsed:    0.1s\n",
      "[Parallel(n_jobs=8)]: Done 200 out of 200 | elapsed:    0.1s finished\n",
      "[Parallel(n_jobs=8)]: Using backend ThreadingBackend with 8 concurrent workers.\n",
      "[Parallel(n_jobs=8)]: Done  34 tasks      | elapsed:    0.0s\n",
      "[Parallel(n_jobs=8)]: Done 184 tasks      | elapsed:    0.2s\n",
      "[Parallel(n_jobs=8)]: Done 200 out of 200 | elapsed:    0.2s finished\n",
      "[Parallel(n_jobs=8)]: Using backend ThreadingBackend with 8 concurrent workers.\n",
      "[Parallel(n_jobs=8)]: Done  34 tasks      | elapsed:    0.0s\n",
      "[Parallel(n_jobs=8)]: Done 184 tasks      | elapsed:    0.1s\n",
      "[Parallel(n_jobs=8)]: Done 200 out of 200 | elapsed:    0.1s finished\n",
      "[Parallel(n_jobs=8)]: Using backend ThreadingBackend with 8 concurrent workers.\n",
      "[Parallel(n_jobs=8)]: Done  34 tasks      | elapsed:    0.0s\n",
      "[Parallel(n_jobs=8)]: Done 184 tasks      | elapsed:    0.1s\n",
      "[Parallel(n_jobs=8)]: Done 200 out of 200 | elapsed:    0.1s finished\n",
      "[Parallel(n_jobs=8)]: Using backend ThreadingBackend with 8 concurrent workers.\n",
      "[Parallel(n_jobs=8)]: Done  34 tasks      | elapsed:    0.0s\n",
      "[Parallel(n_jobs=8)]: Done 184 tasks      | elapsed:    0.1s\n",
      "[Parallel(n_jobs=8)]: Done 200 out of 200 | elapsed:    0.1s finished\n",
      "[Parallel(n_jobs=8)]: Using backend ThreadingBackend with 8 concurrent workers.\n",
      "[Parallel(n_jobs=8)]: Done  34 tasks      | elapsed:    0.0s\n",
      "[Parallel(n_jobs=8)]: Done 184 tasks      | elapsed:    0.1s\n",
      "[Parallel(n_jobs=8)]: Done 200 out of 200 | elapsed:    0.1s finished\n",
      "[Parallel(n_jobs=8)]: Using backend ThreadingBackend with 8 concurrent workers.\n",
      "[Parallel(n_jobs=8)]: Done  34 tasks      | elapsed:    0.0s\n",
      "[Parallel(n_jobs=8)]: Done 184 tasks      | elapsed:    0.1s\n",
      "[Parallel(n_jobs=8)]: Done 200 out of 200 | elapsed:    0.1s finished\n",
      "[Parallel(n_jobs=8)]: Using backend ThreadingBackend with 8 concurrent workers.\n",
      "[Parallel(n_jobs=8)]: Done  34 tasks      | elapsed:    0.0s\n",
      "[Parallel(n_jobs=8)]: Done 184 tasks      | elapsed:    0.0s\n",
      "[Parallel(n_jobs=8)]: Done 200 out of 200 | elapsed:    0.1s finished\n",
      "[Parallel(n_jobs=8)]: Using backend ThreadingBackend with 8 concurrent workers.\n",
      "[Parallel(n_jobs=8)]: Done  34 tasks      | elapsed:    0.0s\n",
      "[Parallel(n_jobs=8)]: Done 184 tasks      | elapsed:    0.1s\n",
      "[Parallel(n_jobs=8)]: Done 200 out of 200 | elapsed:    0.1s finished\n",
      "[Parallel(n_jobs=8)]: Using backend ThreadingBackend with 8 concurrent workers.\n",
      "[Parallel(n_jobs=8)]: Done  34 tasks      | elapsed:    0.0s\n",
      "[Parallel(n_jobs=8)]: Done 184 tasks      | elapsed:    0.1s\n",
      "[Parallel(n_jobs=8)]: Done 200 out of 200 | elapsed:    0.1s finished\n",
      "[Parallel(n_jobs=8)]: Using backend ThreadingBackend with 8 concurrent workers.\n",
      "[Parallel(n_jobs=8)]: Done  34 tasks      | elapsed:    0.0s\n",
      "[Parallel(n_jobs=8)]: Done 184 tasks      | elapsed:    0.1s\n",
      "[Parallel(n_jobs=8)]: Done 200 out of 200 | elapsed:    0.1s finished\n",
      "[Parallel(n_jobs=8)]: Using backend ThreadingBackend with 8 concurrent workers.\n",
      "[Parallel(n_jobs=8)]: Done  34 tasks      | elapsed:    0.0s\n",
      "[Parallel(n_jobs=8)]: Done 184 tasks      | elapsed:    0.2s\n",
      "[Parallel(n_jobs=8)]: Done 200 out of 200 | elapsed:    0.2s finished\n",
      "[Parallel(n_jobs=8)]: Using backend ThreadingBackend with 8 concurrent workers.\n",
      "[Parallel(n_jobs=8)]: Done  34 tasks      | elapsed:    0.0s\n",
      "[Parallel(n_jobs=8)]: Done 184 tasks      | elapsed:    0.1s\n",
      "[Parallel(n_jobs=8)]: Done 200 out of 200 | elapsed:    0.1s finished\n",
      "[Parallel(n_jobs=8)]: Using backend ThreadingBackend with 8 concurrent workers.\n",
      "[Parallel(n_jobs=8)]: Done  34 tasks      | elapsed:    0.0s\n",
      "[Parallel(n_jobs=8)]: Done 184 tasks      | elapsed:    0.0s\n",
      "[Parallel(n_jobs=8)]: Done 200 out of 200 | elapsed:    0.0s finished\n",
      "[Parallel(n_jobs=8)]: Using backend ThreadingBackend with 8 concurrent workers.\n",
      "[Parallel(n_jobs=8)]: Done  34 tasks      | elapsed:    0.0s\n",
      "[Parallel(n_jobs=8)]: Done 184 tasks      | elapsed:    0.1s\n",
      "[Parallel(n_jobs=8)]: Done 200 out of 200 | elapsed:    0.1s finished\n",
      "[Parallel(n_jobs=8)]: Using backend ThreadingBackend with 8 concurrent workers.\n",
      "[Parallel(n_jobs=8)]: Done  34 tasks      | elapsed:    0.0s\n",
      "[Parallel(n_jobs=8)]: Done 184 tasks      | elapsed:    0.2s\n",
      "[Parallel(n_jobs=8)]: Done 200 out of 200 | elapsed:    0.2s finished\n",
      "[Parallel(n_jobs=8)]: Using backend ThreadingBackend with 8 concurrent workers.\n",
      "[Parallel(n_jobs=8)]: Done  34 tasks      | elapsed:    0.0s\n",
      "[Parallel(n_jobs=8)]: Done 184 tasks      | elapsed:    0.1s\n",
      "[Parallel(n_jobs=8)]: Done 200 out of 200 | elapsed:    0.1s finished\n",
      "[Parallel(n_jobs=8)]: Using backend ThreadingBackend with 8 concurrent workers.\n",
      "[Parallel(n_jobs=8)]: Done  34 tasks      | elapsed:    0.0s\n",
      "[Parallel(n_jobs=8)]: Done 184 tasks      | elapsed:    0.1s\n",
      "[Parallel(n_jobs=8)]: Done 200 out of 200 | elapsed:    0.1s finished\n",
      "[Parallel(n_jobs=8)]: Using backend ThreadingBackend with 8 concurrent workers.\n",
      "[Parallel(n_jobs=8)]: Done  34 tasks      | elapsed:    0.0s\n",
      "[Parallel(n_jobs=8)]: Done 184 tasks      | elapsed:    0.1s\n",
      "[Parallel(n_jobs=8)]: Done 200 out of 200 | elapsed:    0.1s finished\n"
     ]
    },
    {
     "data": {
      "text/plain": [
       "0.08741180102030437"
      ]
     },
     "execution_count": 199,
     "metadata": {},
     "output_type": "execute_result"
    }
   ],
   "source": [
    "start = time.time()\n",
    "perm.fit(X_test, y_test)\n",
    "end = time.time()\n",
    "(end - start)/60"
   ]
  },
  {
   "cell_type": "code",
   "execution_count": 200,
   "metadata": {},
   "outputs": [
    {
     "data": {
      "text/plain": [
       "['signup_time-purchase_time', 'purchase_value', 'age', 'N[device_id]']"
      ]
     },
     "execution_count": 200,
     "metadata": {},
     "output_type": "execute_result"
    }
   ],
   "source": [
    "colnames=X_test.columns.tolist()\n",
    "colnames"
   ]
  },
  {
   "cell_type": "code",
   "execution_count": 201,
   "metadata": {},
   "outputs": [],
   "source": [
    "import eli5\n",
    "from eli5.sklearn import PermutationImportance"
   ]
  },
  {
   "cell_type": "code",
   "execution_count": 202,
   "metadata": {},
   "outputs": [
    {
     "data": {
      "text/html": [
       "\n",
       "    <style>\n",
       "    table.eli5-weights tr:hover {\n",
       "        filter: brightness(85%);\n",
       "    }\n",
       "</style>\n",
       "\n",
       "\n",
       "\n",
       "    \n",
       "\n",
       "    \n",
       "\n",
       "    \n",
       "\n",
       "    \n",
       "\n",
       "    \n",
       "\n",
       "    \n",
       "\n",
       "\n",
       "    \n",
       "\n",
       "    \n",
       "\n",
       "    \n",
       "\n",
       "    \n",
       "\n",
       "    \n",
       "\n",
       "    \n",
       "\n",
       "\n",
       "    \n",
       "\n",
       "    \n",
       "\n",
       "    \n",
       "\n",
       "    \n",
       "\n",
       "    \n",
       "        <table class=\"eli5-weights eli5-feature-importances\" style=\"border-collapse: collapse; border: none; margin-top: 0em; table-layout: auto;\">\n",
       "    <thead>\n",
       "    <tr style=\"border: none;\">\n",
       "        <th style=\"padding: 0 1em 0 0.5em; text-align: right; border: none;\">Weight</th>\n",
       "        <th style=\"padding: 0 0.5em 0 0.5em; text-align: left; border: none;\">Feature</th>\n",
       "    </tr>\n",
       "    </thead>\n",
       "    <tbody>\n",
       "    \n",
       "        <tr style=\"background-color: hsl(120, 100.00%, 80.00%); border: none;\">\n",
       "            <td style=\"padding: 0 1em 0 0.5em; text-align: right; border: none;\">\n",
       "                0.0632\n",
       "                \n",
       "                    &plusmn; 0.0065\n",
       "                \n",
       "            </td>\n",
       "            <td style=\"padding: 0 0.5em 0 0.5em; text-align: left; border: none;\">\n",
       "                N[device_id]\n",
       "            </td>\n",
       "        </tr>\n",
       "    \n",
       "        <tr style=\"background-color: hsl(120, 100.00%, 81.69%); border: none;\">\n",
       "            <td style=\"padding: 0 1em 0 0.5em; text-align: right; border: none;\">\n",
       "                0.0557\n",
       "                \n",
       "                    &plusmn; 0.0071\n",
       "                \n",
       "            </td>\n",
       "            <td style=\"padding: 0 0.5em 0 0.5em; text-align: left; border: none;\">\n",
       "                signup_time-purchase_time\n",
       "            </td>\n",
       "        </tr>\n",
       "    \n",
       "        <tr style=\"background-color: hsl(120, 100.00%, 98.51%); border: none;\">\n",
       "            <td style=\"padding: 0 1em 0 0.5em; text-align: right; border: none;\">\n",
       "                0.0016\n",
       "                \n",
       "                    &plusmn; 0.0034\n",
       "                \n",
       "            </td>\n",
       "            <td style=\"padding: 0 0.5em 0 0.5em; text-align: left; border: none;\">\n",
       "                age\n",
       "            </td>\n",
       "        </tr>\n",
       "    \n",
       "        <tr style=\"background-color: hsl(0, 100.00%, 95.53%); border: none;\">\n",
       "            <td style=\"padding: 0 1em 0 0.5em; text-align: right; border: none;\">\n",
       "                -0.0074\n",
       "                \n",
       "                    &plusmn; 0.0063\n",
       "                \n",
       "            </td>\n",
       "            <td style=\"padding: 0 0.5em 0 0.5em; text-align: left; border: none;\">\n",
       "                purchase_value\n",
       "            </td>\n",
       "        </tr>\n",
       "    \n",
       "    \n",
       "    </tbody>\n",
       "</table>\n",
       "    \n",
       "\n",
       "    \n",
       "\n",
       "\n",
       "    \n",
       "\n",
       "    \n",
       "\n",
       "    \n",
       "\n",
       "    \n",
       "\n",
       "    \n",
       "\n",
       "    \n",
       "\n",
       "\n",
       "\n"
      ],
      "text/plain": [
       "<IPython.core.display.HTML object>"
      ]
     },
     "execution_count": 202,
     "metadata": {},
     "output_type": "execute_result"
    }
   ],
   "source": [
    "eli5.show_weights(perm,feature_names = colnames)    # X_test.columns.tolist()\n",
    "                  "
   ]
  },
  {
   "cell_type": "code",
   "execution_count": null,
   "metadata": {},
   "outputs": [],
   "source": [
    "RanForCLFGridCV_CM=metrics.confusion_matrix(y_test, Y_pred )\n",
    "RanForCLFGridCV_Accuracy=metrics.accuracy_score(y_test, Y_pred )\n",
    "RanForCLFGridCV_Precision= metrics.precision_score(y_test,  Y_pred )\n",
    "RanForCLFGridCV_Recall=metrics.recall_score(y_test,  Y_pred )\n",
    "RanForCLFGridCV_ROC_AOC=metrics.roc_auc_score(y_test, Y_pred )\n",
    "RanForCLFGridCV_F1=metrics.f1_score(y_test, Y_pred)\n",
    "Y_pred_Prob = RanForCLFGridCV.predict_proba(X_test)\n",
    "fpr, tpr, thresholds = roc_curve(y_test,Y_pred_Prob[: , 1],pos_label= 0)\n",
    "RanForCLFGridCV_AUC_TPR=np.trapz(tpr,fpr)\n",
    "RanForCLFGridCV_AUC_FPR=np.trapz(fpr,tpr)"
   ]
  },
  {
   "cell_type": "code",
   "execution_count": 239,
   "metadata": {},
   "outputs": [
    {
     "data": {
      "text/html": [
       "<div>\n",
       "<style scoped>\n",
       "    .dataframe tbody tr th:only-of-type {\n",
       "        vertical-align: middle;\n",
       "    }\n",
       "\n",
       "    .dataframe tbody tr th {\n",
       "        vertical-align: top;\n",
       "    }\n",
       "\n",
       "    .dataframe thead th {\n",
       "        text-align: right;\n",
       "    }\n",
       "</style>\n",
       "<table border=\"1\" class=\"dataframe\">\n",
       "  <thead>\n",
       "    <tr style=\"text-align: right;\">\n",
       "      <th></th>\n",
       "      <th>RandomForestClassifier</th>\n",
       "      <th>SGDClassifier</th>\n",
       "      <th>LogisticsRegL1Classifier</th>\n",
       "      <th>DecisionTreeClassifier</th>\n",
       "      <th>KNeighborsClassifier</th>\n",
       "      <th>RanForCLFGridCV</th>\n",
       "    </tr>\n",
       "  </thead>\n",
       "  <tbody>\n",
       "    <tr>\n",
       "      <th>Recall Score</th>\n",
       "      <td>0.539111</td>\n",
       "      <td>0.528419</td>\n",
       "      <td>0.519977</td>\n",
       "      <td>0.530670</td>\n",
       "      <td>0.555431</td>\n",
       "      <td>0.530670</td>\n",
       "    </tr>\n",
       "    <tr>\n",
       "      <th>ROC_AUC_Score</th>\n",
       "      <td>0.766803</td>\n",
       "      <td>0.764209</td>\n",
       "      <td>0.757769</td>\n",
       "      <td>0.765335</td>\n",
       "      <td>0.754514</td>\n",
       "      <td>0.765335</td>\n",
       "    </tr>\n",
       "    <tr>\n",
       "      <th>Precision Score</th>\n",
       "      <td>0.911513</td>\n",
       "      <td>1.000000</td>\n",
       "      <td>0.924925</td>\n",
       "      <td>1.000000</td>\n",
       "      <td>0.557312</td>\n",
       "      <td>1.000000</td>\n",
       "    </tr>\n",
       "    <tr>\n",
       "      <th>F1_Score</th>\n",
       "      <td>0.677511</td>\n",
       "      <td>0.691458</td>\n",
       "      <td>0.665706</td>\n",
       "      <td>0.693382</td>\n",
       "      <td>0.556370</td>\n",
       "      <td>0.693382</td>\n",
       "    </tr>\n",
       "    <tr>\n",
       "      <th>Accruacy Score</th>\n",
       "      <td>0.951159</td>\n",
       "      <td>0.955122</td>\n",
       "      <td>0.950303</td>\n",
       "      <td>0.955337</td>\n",
       "      <td>0.915707</td>\n",
       "      <td>0.955337</td>\n",
       "    </tr>\n",
       "    <tr>\n",
       "      <th>AUC_TPR</th>\n",
       "      <td>0.819552</td>\n",
       "      <td>0.234398</td>\n",
       "      <td>0.171322</td>\n",
       "      <td>0.171265</td>\n",
       "      <td>0.245486</td>\n",
       "      <td>0.177638</td>\n",
       "    </tr>\n",
       "    <tr>\n",
       "      <th>AUC_FPR</th>\n",
       "      <td>0.180448</td>\n",
       "      <td>0.765602</td>\n",
       "      <td>0.828678</td>\n",
       "      <td>0.828735</td>\n",
       "      <td>0.754514</td>\n",
       "      <td>0.822362</td>\n",
       "    </tr>\n",
       "  </tbody>\n",
       "</table>\n",
       "</div>"
      ],
      "text/plain": [
       "                 RandomForestClassifier  SGDClassifier  \\\n",
       "Recall Score                   0.539111       0.528419   \n",
       "ROC_AUC_Score                  0.766803       0.764209   \n",
       "Precision Score                0.911513       1.000000   \n",
       "F1_Score                       0.677511       0.691458   \n",
       "Accruacy Score                 0.951159       0.955122   \n",
       "AUC_TPR                        0.819552       0.234398   \n",
       "AUC_FPR                        0.180448       0.765602   \n",
       "\n",
       "                 LogisticsRegL1Classifier  DecisionTreeClassifier  \\\n",
       "Recall Score                     0.519977                0.530670   \n",
       "ROC_AUC_Score                    0.757769                0.765335   \n",
       "Precision Score                  0.924925                1.000000   \n",
       "F1_Score                         0.665706                0.693382   \n",
       "Accruacy Score                   0.950303                0.955337   \n",
       "AUC_TPR                          0.171322                0.171265   \n",
       "AUC_FPR                          0.828678                0.828735   \n",
       "\n",
       "                 KNeighborsClassifier  RanForCLFGridCV  \n",
       "Recall Score                 0.555431         0.530670  \n",
       "ROC_AUC_Score                0.754514         0.765335  \n",
       "Precision Score              0.557312         1.000000  \n",
       "F1_Score                     0.556370         0.693382  \n",
       "Accruacy Score               0.915707         0.955337  \n",
       "AUC_TPR                      0.245486         0.177638  \n",
       "AUC_FPR                      0.754514         0.822362  "
      ]
     },
     "execution_count": 239,
     "metadata": {},
     "output_type": "execute_result"
    }
   ],
   "source": [
    "modelper1 = {\n",
    "    \"RandomForestClassifier\" : pd.Series([RanForCLF_Accuracy,RanForCLF_Precision,RanForCLF_Recall,RanForCLF_ROC_AOC,RanForCLF_F1,RanForCLF_AUC_TPR,RanForCLF_AUC_FPR],index=[\"Accruacy Score\",\"Precision Score\",\"Recall Score\",\"ROC_AUC_Score\",\"F1_Score\",\"AUC_TPR\",\"AUC_FPR\"]),\n",
    "    \"SGDClassifier\" : pd.Series([svmCLF_Accuracy,svmCLF_Precision,svmCLF_Recall,svmCLF_ROC_AOC,svmCLF_F1,svmCLF_AUC_TPR,svmCLF_AUC_FPR],index=[\"Accruacy Score\",\"Precision Score\",\"Recall Score\",\"ROC_AUC_Score\",\"F1_Score\",\"AUC_TPR\",\"AUC_FPR\"]),\n",
    "    \"LogisticsRegL1Classifier\" : pd.Series([LogRegCLFL1_CM_Accuracy,LogRegCLFL1_CM_Precision,LogRegCLFL1_CM_Recall,LogRegCLFL1_CM_ROC_AOC,LogRegCLFL1_CM_F1,LogRegCLFL1_AUC_TPR,LogRegCLFL1_AUC_FPR],index=[\"Accruacy Score\",\"Precision Score\",\"Recall Score\",\"ROC_AUC_Score\",\"F1_Score\",\"AUC_TPR\",\"AUC_FPR\"]),\n",
    "    \"DecisionTreeClassifier\" : pd.Series([treeclf_Accuracy,treeclf_Precision,treeclf_Recall,treeclf_ROC_AOC,treeclf_F1,treeclf_pred_Prob_AUC_TPR,treeclf_pred_Prob_AUC_FPR],index=[\"Accruacy Score\",\"Precision Score\",\"Recall Score\",\"ROC_AUC_Score\",\"F1_Score\",\"AUC_TPR\",\"AUC_FPR\"]),\n",
    "     \"KNeighborsClassifier\" : pd.Series([knnclf_Accuracy,knnclf_Precision,knnclf_Recall,knnclf_ROC_AOC,knnclf_F1,knnclf_pred_Prob_AUC_TPR,knnclf_pred_Prob_AUC_FPR],index=[\"Accruacy Score\",\"Precision Score\",\"Recall Score\",\"ROC_AUC_Score\",\"F1_Score\",\"AUC_TPR\",\"AUC_FPR\"]),    \n",
    "    \"RanForCLFGridCV\" : pd.Series([RanForCLFGridCV_Accuracy,RanForCLFGridCV_Precision,RanForCLFGridCV_Recall,RanForCLFGridCV_ROC_AOC,RanForCLFGridCV_F1,RanForCLFGridCV_AUC_TPR,RanForCLFGridCV_AUC_FPR],index=[\"Accruacy Score\",\"Precision Score\",\"Recall Score\",\"ROC_AUC_Score\",\"F1_Score\",\"AUC_TPR\",\"AUC_FPR\"]),   \n",
    "}\n",
    "model_perf_matrix= pd.DataFrame(modelper1).sort_index(ascending=False)\n",
    "model_perf_matrix"
   ]
  },
  {
   "cell_type": "code",
   "execution_count": 248,
   "metadata": {},
   "outputs": [
    {
     "data": {
      "text/plain": [
       "dict_keys(['algorithm', 'leaf_size', 'metric', 'metric_params', 'n_jobs', 'n_neighbors', 'p', 'weights'])"
      ]
     },
     "execution_count": 248,
     "metadata": {},
     "output_type": "execute_result"
    }
   ],
   "source": [
    "knnclf.get_params().keys()"
   ]
  },
  {
   "cell_type": "code",
   "execution_count": 255,
   "metadata": {},
   "outputs": [],
   "source": [
    "knn_param = {'n_neighbors':   [3,5,7,9],\n",
    "              'weights':['uniform'],\n",
    "              'metric': ['euclidean']\n",
    "            }                            "
   ]
  },
  {
   "cell_type": "code",
   "execution_count": 256,
   "metadata": {},
   "outputs": [],
   "source": [
    "knnclfGridCV = GridSearchCV(estimator=knnclf, param_grid=knn_param, cv= 10,n_jobs=-1, verbose =2,scoring = ['recall', 'roc_auc'],refit = 'roc_auc')"
   ]
  },
  {
   "cell_type": "code",
   "execution_count": 257,
   "metadata": {},
   "outputs": [
    {
     "name": "stdout",
     "output_type": "stream",
     "text": [
      "Fitting 10 folds for each of 4 candidates, totalling 40 fits\n"
     ]
    },
    {
     "name": "stderr",
     "output_type": "stream",
     "text": [
      "[Parallel(n_jobs=-1)]: Using backend LokyBackend with 8 concurrent workers.\n",
      "[Parallel(n_jobs=-1)]: Done  25 tasks      | elapsed:   12.9s\n",
      "[Parallel(n_jobs=-1)]: Done  40 out of  40 | elapsed:   17.3s finished\n"
     ]
    },
    {
     "data": {
      "text/plain": [
       "0.2923770745595296"
      ]
     },
     "execution_count": 257,
     "metadata": {},
     "output_type": "execute_result"
    }
   ],
   "source": [
    "start = time.time()\n",
    "knnclfGridCV.fit(X_train,y_train)\n",
    "end = time.time()\n",
    "(end - start)/60"
   ]
  },
  {
   "cell_type": "code",
   "execution_count": 285,
   "metadata": {},
   "outputs": [
    {
     "name": "stderr",
     "output_type": "stream",
     "text": [
      "[Parallel(n_jobs=8)]: Using backend ThreadingBackend with 8 concurrent workers.\n",
      "[Parallel(n_jobs=8)]: Done  34 tasks      | elapsed:    0.0s\n",
      "[Parallel(n_jobs=8)]: Done 184 tasks      | elapsed:    0.0s\n",
      "[Parallel(n_jobs=8)]: Done 200 out of 200 | elapsed:    0.0s finished\n"
     ]
    }
   ],
   "source": [
    "\n",
    "knnclfGridCV_CM=metrics.confusion_matrix(y_test, Y_pred )\n",
    "knnclfGridCV_Accuracy=metrics.accuracy_score(y_test, Y_pred )\n",
    "knnclfGridCV_Precision= metrics.precision_score(y_test,  Y_pred )\n",
    "knnclfGridCV_Recall=metrics.recall_score(y_test,  Y_pred )\n",
    "knnclfGridCV=metrics.roc_auc_score(y_test, Y_pred )\n",
    "knnclfGridCV_F1=metrics.f1_score(y_test, Y_pred)\n",
    "Y_pred_Prob = RanForCLFGridCV.predict_proba(X_test)\n",
    "fpr, tpr, thresholds = roc_curve(y_test,Y_pred_Prob[: , 1],pos_label= 0)\n",
    "knnclfGridCV_AUC_TPR=np.trapz(tpr,fpr)\n",
    "knnclfGridCV_AUC_FPR=np.trapz(fpr,tpr)"
   ]
  },
  {
   "cell_type": "code",
   "execution_count": 286,
   "metadata": {},
   "outputs": [
    {
     "data": {
      "text/html": [
       "<div>\n",
       "<style scoped>\n",
       "    .dataframe tbody tr th:only-of-type {\n",
       "        vertical-align: middle;\n",
       "    }\n",
       "\n",
       "    .dataframe tbody tr th {\n",
       "        vertical-align: top;\n",
       "    }\n",
       "\n",
       "    .dataframe thead th {\n",
       "        text-align: right;\n",
       "    }\n",
       "</style>\n",
       "<table border=\"1\" class=\"dataframe\">\n",
       "  <thead>\n",
       "    <tr style=\"text-align: right;\">\n",
       "      <th></th>\n",
       "      <th>RandomForestClassifier</th>\n",
       "      <th>SGDClassifier</th>\n",
       "      <th>LogisticsRegL1Classifier</th>\n",
       "      <th>DecisionTreeClassifier</th>\n",
       "      <th>KNeighborsClassifier</th>\n",
       "      <th>RanForCLFGridCV</th>\n",
       "      <th>knnclfGridCV</th>\n",
       "    </tr>\n",
       "  </thead>\n",
       "  <tbody>\n",
       "    <tr>\n",
       "      <th>Recall Score</th>\n",
       "      <td>0.539111</td>\n",
       "      <td>0.528419</td>\n",
       "      <td>0.519977</td>\n",
       "      <td>0.530670</td>\n",
       "      <td>0.555431</td>\n",
       "      <td>0.530670</td>\n",
       "      <td>0.530670</td>\n",
       "    </tr>\n",
       "    <tr>\n",
       "      <th>ROC_AUC_Score</th>\n",
       "      <td>0.766803</td>\n",
       "      <td>0.764209</td>\n",
       "      <td>0.757769</td>\n",
       "      <td>0.765335</td>\n",
       "      <td>0.754514</td>\n",
       "      <td>0.765335</td>\n",
       "      <td>0.765335</td>\n",
       "    </tr>\n",
       "    <tr>\n",
       "      <th>Precision Score</th>\n",
       "      <td>0.911513</td>\n",
       "      <td>1.000000</td>\n",
       "      <td>0.924925</td>\n",
       "      <td>1.000000</td>\n",
       "      <td>0.557312</td>\n",
       "      <td>1.000000</td>\n",
       "      <td>1.000000</td>\n",
       "    </tr>\n",
       "    <tr>\n",
       "      <th>F1_Score</th>\n",
       "      <td>0.677511</td>\n",
       "      <td>0.691458</td>\n",
       "      <td>0.665706</td>\n",
       "      <td>0.693382</td>\n",
       "      <td>0.556370</td>\n",
       "      <td>0.693382</td>\n",
       "      <td>0.693382</td>\n",
       "    </tr>\n",
       "    <tr>\n",
       "      <th>Accruacy Score</th>\n",
       "      <td>0.951159</td>\n",
       "      <td>0.955122</td>\n",
       "      <td>0.950303</td>\n",
       "      <td>0.955337</td>\n",
       "      <td>0.915707</td>\n",
       "      <td>0.955337</td>\n",
       "      <td>0.955337</td>\n",
       "    </tr>\n",
       "    <tr>\n",
       "      <th>AUC_TPR</th>\n",
       "      <td>0.819552</td>\n",
       "      <td>0.234398</td>\n",
       "      <td>0.171322</td>\n",
       "      <td>0.171265</td>\n",
       "      <td>0.245486</td>\n",
       "      <td>0.177638</td>\n",
       "      <td>0.177638</td>\n",
       "    </tr>\n",
       "    <tr>\n",
       "      <th>AUC_FPR</th>\n",
       "      <td>0.180448</td>\n",
       "      <td>0.765602</td>\n",
       "      <td>0.828678</td>\n",
       "      <td>0.828735</td>\n",
       "      <td>0.754514</td>\n",
       "      <td>0.822362</td>\n",
       "      <td>0.822362</td>\n",
       "    </tr>\n",
       "  </tbody>\n",
       "</table>\n",
       "</div>"
      ],
      "text/plain": [
       "                 RandomForestClassifier  SGDClassifier  \\\n",
       "Recall Score                   0.539111       0.528419   \n",
       "ROC_AUC_Score                  0.766803       0.764209   \n",
       "Precision Score                0.911513       1.000000   \n",
       "F1_Score                       0.677511       0.691458   \n",
       "Accruacy Score                 0.951159       0.955122   \n",
       "AUC_TPR                        0.819552       0.234398   \n",
       "AUC_FPR                        0.180448       0.765602   \n",
       "\n",
       "                 LogisticsRegL1Classifier  DecisionTreeClassifier  \\\n",
       "Recall Score                     0.519977                0.530670   \n",
       "ROC_AUC_Score                    0.757769                0.765335   \n",
       "Precision Score                  0.924925                1.000000   \n",
       "F1_Score                         0.665706                0.693382   \n",
       "Accruacy Score                   0.950303                0.955337   \n",
       "AUC_TPR                          0.171322                0.171265   \n",
       "AUC_FPR                          0.828678                0.828735   \n",
       "\n",
       "                 KNeighborsClassifier  RanForCLFGridCV  knnclfGridCV  \n",
       "Recall Score                 0.555431         0.530670      0.530670  \n",
       "ROC_AUC_Score                0.754514         0.765335      0.765335  \n",
       "Precision Score              0.557312         1.000000      1.000000  \n",
       "F1_Score                     0.556370         0.693382      0.693382  \n",
       "Accruacy Score               0.915707         0.955337      0.955337  \n",
       "AUC_TPR                      0.245486         0.177638      0.177638  \n",
       "AUC_FPR                      0.754514         0.822362      0.822362  "
      ]
     },
     "execution_count": 286,
     "metadata": {},
     "output_type": "execute_result"
    }
   ],
   "source": [
    "modelper1 = {\n",
    "    \"RandomForestClassifier\" : pd.Series([RanForCLF_Accuracy,RanForCLF_Precision,RanForCLF_Recall,RanForCLF_ROC_AOC,RanForCLF_F1,RanForCLF_AUC_TPR,RanForCLF_AUC_FPR],index=[\"Accruacy Score\",\"Precision Score\",\"Recall Score\",\"ROC_AUC_Score\",\"F1_Score\",\"AUC_TPR\",\"AUC_FPR\"]),\n",
    "    \"SGDClassifier\" : pd.Series([svmCLF_Accuracy,svmCLF_Precision,svmCLF_Recall,svmCLF_ROC_AOC,svmCLF_F1,svmCLF_AUC_TPR,svmCLF_AUC_FPR],index=[\"Accruacy Score\",\"Precision Score\",\"Recall Score\",\"ROC_AUC_Score\",\"F1_Score\",\"AUC_TPR\",\"AUC_FPR\"]),\n",
    "    \"LogisticsRegL1Classifier\" : pd.Series([LogRegCLFL1_CM_Accuracy,LogRegCLFL1_CM_Precision,LogRegCLFL1_CM_Recall,LogRegCLFL1_CM_ROC_AOC,LogRegCLFL1_CM_F1,LogRegCLFL1_AUC_TPR,LogRegCLFL1_AUC_FPR],index=[\"Accruacy Score\",\"Precision Score\",\"Recall Score\",\"ROC_AUC_Score\",\"F1_Score\",\"AUC_TPR\",\"AUC_FPR\"]),\n",
    "    \"DecisionTreeClassifier\" : pd.Series([treeclf_Accuracy,treeclf_Precision,treeclf_Recall,treeclf_ROC_AOC,treeclf_F1,treeclf_pred_Prob_AUC_TPR,treeclf_pred_Prob_AUC_FPR],index=[\"Accruacy Score\",\"Precision Score\",\"Recall Score\",\"ROC_AUC_Score\",\"F1_Score\",\"AUC_TPR\",\"AUC_FPR\"]),\n",
    "     \"KNeighborsClassifier\" : pd.Series([knnclf_Accuracy,knnclf_Precision,knnclf_Recall,knnclf_ROC_AOC,knnclf_F1,knnclf_pred_Prob_AUC_TPR,knnclf_pred_Prob_AUC_FPR],index=[\"Accruacy Score\",\"Precision Score\",\"Recall Score\",\"ROC_AUC_Score\",\"F1_Score\",\"AUC_TPR\",\"AUC_FPR\"]),    \n",
    "    \"RanForCLFGridCV\" : pd.Series([RanForCLFGridCV_Accuracy,RanForCLFGridCV_Precision,RanForCLFGridCV_Recall,RanForCLFGridCV_ROC_AOC,RanForCLFGridCV_F1,RanForCLFGridCV_AUC_TPR,RanForCLFGridCV_AUC_FPR],index=[\"Accruacy Score\",\"Precision Score\",\"Recall Score\",\"ROC_AUC_Score\",\"F1_Score\",\"AUC_TPR\",\"AUC_FPR\"]),   \n",
    "    \"knnclfGridCV\" : pd.Series([knnclfGridCV_Accuracy,knnclfGridCV_Precision,knnclfGridCV_Recall,knnclfGridCV_ROC_AOC,knnclfGridCV_F1,knnclfGridCV_AUC_TPR,knnclfGridCV_AUC_FPR],index=[\"Accruacy Score\",\"Precision Score\",\"Recall Score\",\"ROC_AUC_Score\",\"F1_Score\",\"AUC_TPR\",\"AUC_FPR\"]),   \n",
    "\n",
    "}\n",
    "model_perf_matrix= pd.DataFrame(modelper1).sort_index(ascending=False)\n",
    "model_perf_matrix"
   ]
  },
  {
   "cell_type": "markdown",
   "metadata": {},
   "source": [
    "# Let us look at VotingClassifier to determine what is the best. "
   ]
  },
  {
   "cell_type": "code",
   "execution_count": 287,
   "metadata": {},
   "outputs": [],
   "source": [
    "from sklearn.ensemble import VotingClassifier"
   ]
  },
  {
   "cell_type": "code",
   "execution_count": 288,
   "metadata": {},
   "outputs": [],
   "source": [
    "VotCLF = VotingClassifier(estimators=[('RandomForestClassifier', RanForCLF), ('SGDClassifier', svmCLF), ('LogisticsRegL1Classifier', LogReg_L1), ('DecisionTreeClassifier', treeclf),('KNeighborsClassifier', knnclf)], voting='soft')"
   ]
  },
  {
   "cell_type": "code",
   "execution_count": 289,
   "metadata": {},
   "outputs": [
    {
     "name": "stderr",
     "output_type": "stream",
     "text": [
      "[Parallel(n_jobs=-1)]: Using backend LokyBackend with 8 concurrent workers.\n",
      "[Parallel(n_jobs=-1)]: Done  34 tasks      | elapsed:    6.1s\n",
      "[Parallel(n_jobs=-1)]: Done 100 out of 100 | elapsed:    8.4s finished\n",
      "C:\\Users\\rajku\\AppData\\Local\\Continuum\\anaconda3\\lib\\site-packages\\sklearn\\linear_model\\logistic.py:1297: UserWarning: 'n_jobs' > 1 does not have any effect when 'solver' is set to 'liblinear'. Got 'n_jobs' = 8.\n",
      "  \" = {}.\".format(effective_n_jobs(self.n_jobs)))\n"
     ]
    },
    {
     "data": {
      "text/plain": [
       "VotingClassifier(estimators=[('RandomForestClassifier', RandomForestClassifier(bootstrap=True, class_weight=None, criterion='gini',\n",
       "            max_depth=None, max_features='auto', max_leaf_nodes=None,\n",
       "            min_impurity_decrease=0.0, min_impurity_split=None,\n",
       "            min_samples_leaf=1, min_samples_split=2...wski',\n",
       "           metric_params=None, n_jobs=-1, n_neighbors=1, p=2,\n",
       "           weights='uniform'))],\n",
       "         flatten_transform=None, n_jobs=None, voting='soft', weights=None)"
      ]
     },
     "execution_count": 289,
     "metadata": {},
     "output_type": "execute_result"
    }
   ],
   "source": [
    "VotCLF.fit(X_train, y_train)"
   ]
  },
  {
   "cell_type": "code",
   "execution_count": 290,
   "metadata": {},
   "outputs": [
    {
     "name": "stderr",
     "output_type": "stream",
     "text": [
      "[Parallel(n_jobs=8)]: Using backend ThreadingBackend with 8 concurrent workers.\n",
      "[Parallel(n_jobs=8)]: Done  34 tasks      | elapsed:    0.0s\n",
      "[Parallel(n_jobs=8)]: Done 100 out of 100 | elapsed:    0.0s finished\n"
     ]
    }
   ],
   "source": [
    "Vot_Pred=VotCLF.predict(X_test)"
   ]
  },
  {
   "cell_type": "code",
   "execution_count": 291,
   "metadata": {},
   "outputs": [
    {
     "data": {
      "text/plain": [
       "95.53365822310288"
      ]
     },
     "execution_count": 291,
     "metadata": {},
     "output_type": "execute_result"
    }
   ],
   "source": [
    "##Accuracy of model.\n",
    "(Vot_Pred==y_test).sum()/(y_test.size)*100"
   ]
  },
  {
   "cell_type": "code",
   "execution_count": 292,
   "metadata": {},
   "outputs": [
    {
     "name": "stderr",
     "output_type": "stream",
     "text": [
      "[Parallel(n_jobs=8)]: Using backend ThreadingBackend with 8 concurrent workers.\n",
      "[Parallel(n_jobs=8)]: Done  34 tasks      | elapsed:    0.0s\n",
      "[Parallel(n_jobs=8)]: Done 100 out of 100 | elapsed:    0.1s finished\n"
     ]
    }
   ],
   "source": [
    "VotCLF_CM=metrics.confusion_matrix(y_test, Y_pred )\n",
    "VotCLF_Accuracy=metrics.accuracy_score(y_test, Y_pred )\n",
    "VotCLF_Precision= metrics.precision_score(y_test,  Y_pred )\n",
    "VotCLF_Recall=metrics.recall_score(y_test,  Y_pred )\n",
    "VotCLF_ROC_AOC=metrics.roc_auc_score(y_test, Y_pred )\n",
    "VotCLF_F1=metrics.f1_score(y_test, Y_pred)\n",
    "VotCLF_pred_Prob = VotCLF.predict_proba(X_test)\n",
    "fpr, tpr, thresholds = roc_curve(y_test,VotCLF_pred_Prob[: , 1],pos_label= 0)\n",
    "VotCLF_pred_Prob_AUC_TPR=np.trapz(tpr,fpr)\n",
    "VotCLF_pred_Prob_AUC_FPR=np.trapz(fpr,tpr)"
   ]
  },
  {
   "cell_type": "code",
   "execution_count": 293,
   "metadata": {},
   "outputs": [],
   "source": [
    "fpr, tpr, thresholds = roc_curve(y_test,\n",
    "                                 VotCLF_pred_Prob[: , 1],\n",
    "                                 pos_label= 0\n",
    "                                 )"
   ]
  },
  {
   "cell_type": "code",
   "execution_count": 294,
   "metadata": {},
   "outputs": [
    {
     "name": "stdout",
     "output_type": "stream",
     "text": [
      "Confusion Matrix : \n",
      " [[16896     0]\n",
      " [  834   943]]\n",
      "Accuracy : 0.9553365822310288\n",
      "Precision Results = 1.0\n",
      "Recall Results = 0.5306696679797411\n",
      "ROC_AUC :  0.7653348339898706\n",
      "F1 Score :  0.6933823529411764\n"
     ]
    },
    {
     "name": "stderr",
     "output_type": "stream",
     "text": [
      "[Parallel(n_jobs=8)]: Using backend ThreadingBackend with 8 concurrent workers.\n",
      "[Parallel(n_jobs=8)]: Done  34 tasks      | elapsed:    0.0s\n",
      "[Parallel(n_jobs=8)]: Done 100 out of 100 | elapsed:    0.0s finished\n"
     ]
    },
    {
     "name": "stdout",
     "output_type": "stream",
     "text": [
      "AUC(tpr,fpr) :  0.17975591149963335\n",
      "AUC(fpr,tpr) :  0.8202440885003667\n",
      "Prediction Prabability : [[0.98231561 0.01768439]\n",
      " [0.95865015 0.04134985]\n",
      " [0.98155027 0.01844973]\n",
      " ...\n",
      " [0.97745847 0.02254153]\n",
      " [0.97583289 0.02416711]\n",
      " [0.94020343 0.05979657]]\n",
      "Prediction Prabability Shape : (18673, 2)\n"
     ]
    },
    {
     "data": {
      "text/plain": [
       "array([0, 1], dtype=int64)"
      ]
     },
     "execution_count": 294,
     "metadata": {},
     "output_type": "execute_result"
    }
   ],
   "source": [
    "print('Confusion Matrix : \\n',metrics.confusion_matrix(y_test, Vot_Pred))\n",
    "print('Accuracy :',metrics.accuracy_score(y_test, Vot_Pred))\n",
    "print('Precision Results =', metrics.precision_score(y_test, Vot_Pred))\n",
    "print('Recall Results =', metrics.recall_score(y_test, Vot_Pred))\n",
    "print('ROC_AUC : ', metrics.roc_auc_score(y_test, Vot_Pred))\n",
    "print('F1 Score : ',metrics.f1_score(y_test, Vot_Pred))\n",
    "Vot_pred_Prob = VotCLF.predict_proba(X_test)\n",
    "print('AUC(tpr,fpr) : ', np.trapz(tpr,fpr))\n",
    "print('AUC(fpr,tpr) : ', np.trapz(fpr,tpr))\n",
    "print('Prediction Prabability :',Vot_pred_Prob)\n",
    "print('Prediction Prabability Shape :',Vot_pred_Prob.shape)\n",
    "VotCLF.classes_ "
   ]
  },
  {
   "cell_type": "code",
   "execution_count": 295,
   "metadata": {},
   "outputs": [
    {
     "data": {
      "text/plain": [
       "(7, 7)"
      ]
     },
     "execution_count": 295,
     "metadata": {},
     "output_type": "execute_result"
    }
   ],
   "source": [
    "model_perf_matrix2.shape"
   ]
  },
  {
   "cell_type": "code",
   "execution_count": 296,
   "metadata": {},
   "outputs": [
    {
     "data": {
      "text/html": [
       "<div>\n",
       "<style scoped>\n",
       "    .dataframe tbody tr th:only-of-type {\n",
       "        vertical-align: middle;\n",
       "    }\n",
       "\n",
       "    .dataframe tbody tr th {\n",
       "        vertical-align: top;\n",
       "    }\n",
       "\n",
       "    .dataframe thead th {\n",
       "        text-align: right;\n",
       "    }\n",
       "</style>\n",
       "<table border=\"1\" class=\"dataframe\">\n",
       "  <thead>\n",
       "    <tr style=\"text-align: right;\">\n",
       "      <th></th>\n",
       "      <th>RandomForestClassifier</th>\n",
       "      <th>SGDClassifier</th>\n",
       "      <th>LogisticsRegL1Classifier</th>\n",
       "      <th>DecisionTreeClassifier</th>\n",
       "      <th>KNeighborsClassifier</th>\n",
       "      <th>RanForCLFGridCV</th>\n",
       "      <th>knnclfGridCV</th>\n",
       "      <th>VotingCLF</th>\n",
       "    </tr>\n",
       "  </thead>\n",
       "  <tbody>\n",
       "    <tr>\n",
       "      <th>Recall Score</th>\n",
       "      <td>0.539111</td>\n",
       "      <td>0.528419</td>\n",
       "      <td>0.519977</td>\n",
       "      <td>0.530670</td>\n",
       "      <td>0.555431</td>\n",
       "      <td>0.530670</td>\n",
       "      <td>0.530670</td>\n",
       "      <td>0.530670</td>\n",
       "    </tr>\n",
       "    <tr>\n",
       "      <th>ROC_AUC_Score</th>\n",
       "      <td>0.766803</td>\n",
       "      <td>0.764209</td>\n",
       "      <td>0.757769</td>\n",
       "      <td>0.765335</td>\n",
       "      <td>0.754514</td>\n",
       "      <td>0.765335</td>\n",
       "      <td>0.765335</td>\n",
       "      <td>0.765335</td>\n",
       "    </tr>\n",
       "    <tr>\n",
       "      <th>Precision Score</th>\n",
       "      <td>0.911513</td>\n",
       "      <td>1.000000</td>\n",
       "      <td>0.924925</td>\n",
       "      <td>1.000000</td>\n",
       "      <td>0.557312</td>\n",
       "      <td>1.000000</td>\n",
       "      <td>1.000000</td>\n",
       "      <td>1.000000</td>\n",
       "    </tr>\n",
       "    <tr>\n",
       "      <th>F1_Score</th>\n",
       "      <td>0.677511</td>\n",
       "      <td>0.691458</td>\n",
       "      <td>0.665706</td>\n",
       "      <td>0.693382</td>\n",
       "      <td>0.556370</td>\n",
       "      <td>0.693382</td>\n",
       "      <td>0.693382</td>\n",
       "      <td>0.693382</td>\n",
       "    </tr>\n",
       "    <tr>\n",
       "      <th>Accruacy Score</th>\n",
       "      <td>0.951159</td>\n",
       "      <td>0.955122</td>\n",
       "      <td>0.950303</td>\n",
       "      <td>0.955337</td>\n",
       "      <td>0.915707</td>\n",
       "      <td>0.955337</td>\n",
       "      <td>0.955337</td>\n",
       "      <td>0.955337</td>\n",
       "    </tr>\n",
       "    <tr>\n",
       "      <th>AUC_TPR</th>\n",
       "      <td>0.819552</td>\n",
       "      <td>0.234398</td>\n",
       "      <td>0.171322</td>\n",
       "      <td>0.171265</td>\n",
       "      <td>0.245486</td>\n",
       "      <td>0.177638</td>\n",
       "      <td>0.177638</td>\n",
       "      <td>0.179756</td>\n",
       "    </tr>\n",
       "    <tr>\n",
       "      <th>AUC_FPR</th>\n",
       "      <td>0.180448</td>\n",
       "      <td>0.765602</td>\n",
       "      <td>0.828678</td>\n",
       "      <td>0.828735</td>\n",
       "      <td>0.754514</td>\n",
       "      <td>0.822362</td>\n",
       "      <td>0.822362</td>\n",
       "      <td>0.820244</td>\n",
       "    </tr>\n",
       "  </tbody>\n",
       "</table>\n",
       "</div>"
      ],
      "text/plain": [
       "                 RandomForestClassifier  SGDClassifier  \\\n",
       "Recall Score                   0.539111       0.528419   \n",
       "ROC_AUC_Score                  0.766803       0.764209   \n",
       "Precision Score                0.911513       1.000000   \n",
       "F1_Score                       0.677511       0.691458   \n",
       "Accruacy Score                 0.951159       0.955122   \n",
       "AUC_TPR                        0.819552       0.234398   \n",
       "AUC_FPR                        0.180448       0.765602   \n",
       "\n",
       "                 LogisticsRegL1Classifier  DecisionTreeClassifier  \\\n",
       "Recall Score                     0.519977                0.530670   \n",
       "ROC_AUC_Score                    0.757769                0.765335   \n",
       "Precision Score                  0.924925                1.000000   \n",
       "F1_Score                         0.665706                0.693382   \n",
       "Accruacy Score                   0.950303                0.955337   \n",
       "AUC_TPR                          0.171322                0.171265   \n",
       "AUC_FPR                          0.828678                0.828735   \n",
       "\n",
       "                 KNeighborsClassifier  RanForCLFGridCV  knnclfGridCV  \\\n",
       "Recall Score                 0.555431         0.530670      0.530670   \n",
       "ROC_AUC_Score                0.754514         0.765335      0.765335   \n",
       "Precision Score              0.557312         1.000000      1.000000   \n",
       "F1_Score                     0.556370         0.693382      0.693382   \n",
       "Accruacy Score               0.915707         0.955337      0.955337   \n",
       "AUC_TPR                      0.245486         0.177638      0.177638   \n",
       "AUC_FPR                      0.754514         0.822362      0.822362   \n",
       "\n",
       "                 VotingCLF  \n",
       "Recall Score      0.530670  \n",
       "ROC_AUC_Score     0.765335  \n",
       "Precision Score   1.000000  \n",
       "F1_Score          0.693382  \n",
       "Accruacy Score    0.955337  \n",
       "AUC_TPR           0.179756  \n",
       "AUC_FPR           0.820244  "
      ]
     },
     "execution_count": 296,
     "metadata": {},
     "output_type": "execute_result"
    }
   ],
   "source": [
    "modelper3 = {\n",
    "    \"RandomForestClassifier\" : pd.Series([RanForCLF_Accuracy,RanForCLF_Precision,RanForCLF_Recall,RanForCLF_ROC_AOC,RanForCLF_F1,RanForCLF_AUC_TPR,RanForCLF_AUC_FPR],index=[\"Accruacy Score\",\"Precision Score\",\"Recall Score\",\"ROC_AUC_Score\",\"F1_Score\",\"AUC_TPR\",\"AUC_FPR\"]),\n",
    "    \"SGDClassifier\" : pd.Series([svmCLF_Accuracy,svmCLF_Precision,svmCLF_Recall,svmCLF_ROC_AOC,svmCLF_F1,svmCLF_AUC_TPR,svmCLF_AUC_FPR],index=[\"Accruacy Score\",\"Precision Score\",\"Recall Score\",\"ROC_AUC_Score\",\"F1_Score\",\"AUC_TPR\",\"AUC_FPR\"]),\n",
    "    \"LogisticsRegL1Classifier\" : pd.Series([LogRegCLFL1_CM_Accuracy,LogRegCLFL1_CM_Precision,LogRegCLFL1_CM_Recall,LogRegCLFL1_CM_ROC_AOC,LogRegCLFL1_CM_F1,LogRegCLFL1_AUC_TPR,LogRegCLFL1_AUC_FPR],index=[\"Accruacy Score\",\"Precision Score\",\"Recall Score\",\"ROC_AUC_Score\",\"F1_Score\",\"AUC_TPR\",\"AUC_FPR\"]),\n",
    "    \"DecisionTreeClassifier\" : pd.Series([treeclf_Accuracy,treeclf_Precision,treeclf_Recall,treeclf_ROC_AOC,treeclf_F1,treeclf_pred_Prob_AUC_TPR,treeclf_pred_Prob_AUC_FPR],index=[\"Accruacy Score\",\"Precision Score\",\"Recall Score\",\"ROC_AUC_Score\",\"F1_Score\",\"AUC_TPR\",\"AUC_FPR\"]),\n",
    "     \"KNeighborsClassifier\" : pd.Series([knnclf_Accuracy,knnclf_Precision,knnclf_Recall,knnclf_ROC_AOC,knnclf_F1,knnclf_pred_Prob_AUC_TPR,knnclf_pred_Prob_AUC_FPR],index=[\"Accruacy Score\",\"Precision Score\",\"Recall Score\",\"ROC_AUC_Score\",\"F1_Score\",\"AUC_TPR\",\"AUC_FPR\"]),   \n",
    "    \"RanForCLFGridCV\" : pd.Series([RanForCLFGridCV_Accuracy,RanForCLFGridCV_Precision,RanForCLFGridCV_Recall,RanForCLFGridCV_ROC_AOC,RanForCLFGridCV_F1,RanForCLFGridCV_AUC_TPR,RanForCLFGridCV_AUC_FPR],index=[\"Accruacy Score\",\"Precision Score\",\"Recall Score\",\"ROC_AUC_Score\",\"F1_Score\",\"AUC_TPR\",\"AUC_FPR\"]),   \n",
    "    \"knnclfGridCV\" : pd.Series([knnclfGridCV_Accuracy,knnclfGridCV_Precision,knnclfGridCV_Recall,knnclfGridCV_ROC_AOC,knnclfGridCV_F1,knnclfGridCV_AUC_TPR,knnclfGridCV_AUC_FPR],index=[\"Accruacy Score\",\"Precision Score\",\"Recall Score\",\"ROC_AUC_Score\",\"F1_Score\",\"AUC_TPR\",\"AUC_FPR\"]),   \n",
    "    \"VotingCLF\" : pd.Series([VotCLF_Accuracy,VotCLF_Precision,VotCLF_Recall,VotCLF_ROC_AOC,VotCLF_F1,VotCLF_pred_Prob_AUC_TPR,VotCLF_pred_Prob_AUC_FPR],index=[\"Accruacy Score\",\"Precision Score\",\"Recall Score\",\"ROC_AUC_Score\",\"F1_Score\",\"AUC_TPR\",\"AUC_FPR\"])\n",
    "}\n",
    "model_perf_matrix3= pd.DataFrame(modelper3).sort_index(ascending=False)\n",
    "model_perf_matrix3"
   ]
  },
  {
   "cell_type": "code",
   "execution_count": 302,
   "metadata": {},
   "outputs": [
    {
     "name": "stdout",
     "output_type": "stream",
     "text": [
      "Voting Claassifier Confusion Matrix: \n",
      "\n"
     ]
    },
    {
     "data": {
      "text/plain": [
       "array([[16896,     0],\n",
       "       [  834,   943]], dtype=int64)"
      ]
     },
     "metadata": {},
     "output_type": "display_data"
    },
    {
     "name": "stdout",
     "output_type": "stream",
     "text": [
      "RanForCLFGridCV Claassifier Confusion Matrix: \n",
      "\n"
     ]
    },
    {
     "data": {
      "text/plain": [
       "array([[16896,     0],\n",
       "       [  834,   943]], dtype=int64)"
      ]
     },
     "metadata": {},
     "output_type": "display_data"
    },
    {
     "name": "stdout",
     "output_type": "stream",
     "text": [
      "KNeighborsGridCV Claassifier Confusion Matrix: \n",
      "\n"
     ]
    },
    {
     "data": {
      "text/plain": [
       "array([[16896,     0],\n",
       "       [  834,   943]], dtype=int64)"
      ]
     },
     "metadata": {},
     "output_type": "display_data"
    },
    {
     "name": "stdout",
     "output_type": "stream",
     "text": [
      "RanForest Claassifier Confusion Matrix: \n",
      "\n"
     ]
    },
    {
     "data": {
      "text/plain": [
       "array([[16803,    93],\n",
       "       [  819,   958]], dtype=int64)"
      ]
     },
     "metadata": {},
     "output_type": "display_data"
    },
    {
     "name": "stdout",
     "output_type": "stream",
     "text": [
      "LogisticsReg Claassifier Confusion Matrix: \n",
      "\n"
     ]
    },
    {
     "data": {
      "text/plain": [
       "array([[16821,    75],\n",
       "       [  853,   924]], dtype=int64)"
      ]
     },
     "metadata": {},
     "output_type": "display_data"
    },
    {
     "name": "stdout",
     "output_type": "stream",
     "text": [
      "DecisionTree Claassifier Confusion Matrix: \n",
      "\n"
     ]
    },
    {
     "data": {
      "text/plain": [
       "array([[16896,     0],\n",
       "       [  834,   943]], dtype=int64)"
      ]
     },
     "metadata": {},
     "output_type": "display_data"
    },
    {
     "name": "stdout",
     "output_type": "stream",
     "text": [
      "KNeighbors Claassifier Confusion Matrix: \n",
      "\n"
     ]
    },
    {
     "data": {
      "text/plain": [
       "array([[16112,   784],\n",
       "       [  790,   987]], dtype=int64)"
      ]
     },
     "metadata": {},
     "output_type": "display_data"
    },
    {
     "name": "stdout",
     "output_type": "stream",
     "text": [
      "SGD Claassifier Confusion Matrix: \n",
      "\n"
     ]
    },
    {
     "data": {
      "text/plain": [
       "array([[16896,     0],\n",
       "       [  838,   939]], dtype=int64)"
      ]
     },
     "metadata": {},
     "output_type": "display_data"
    }
   ],
   "source": [
    "print(\"Voting Claassifier Confusion Matrix: \\n\")\n",
    "display(VotCLF_CM)\n",
    "print(\"RanForCLFGridCV Claassifier Confusion Matrix: \\n\")\n",
    "display(RanForCLFGridCV_CM)\n",
    "print(\"KNeighborsGridCV Claassifier Confusion Matrix: \\n\")\n",
    "display(knnclfGridCV_CM)\n",
    "print(\"RanForest Claassifier Confusion Matrix: \\n\")\n",
    "display(RanForCLF_CM)\n",
    "print(\"LogisticsReg Claassifier Confusion Matrix: \\n\")\n",
    "display(LogRegCLFL1_CM)\n",
    "print(\"DecisionTree Claassifier Confusion Matrix: \\n\")\n",
    "display(treeclf_CM)\n",
    "print(\"KNeighbors Claassifier Confusion Matrix: \\n\")\n",
    "display(knnclf_CM)\n",
    "print(\"SGD Claassifier Confusion Matrix: \\n\")\n",
    "display(svmCLF_CM)"
   ]
  },
  {
   "cell_type": "markdown",
   "metadata": {},
   "source": [
    "# Conclusion :\n",
    "# Our Models intent is to identify most of the Fradulent Transactions. Looking at all the models providied ; KNN Classifier was able to \n",
    "# classify most number of fradulent transactions and also least number of transactions that misclassified as fraud to normal tranactions. \n",
    "# We will use KNN Classifier for our Test File and also Cost to Customer."
   ]
  },
  {
   "cell_type": "markdown",
   "metadata": {},
   "source": [
    "# Test Dataset Predictions. "
   ]
  },
  {
   "cell_type": "code",
   "execution_count": 620,
   "metadata": {},
   "outputs": [],
   "source": [
    "feature_cols = ['signup_time-purchase_time', 'purchase_value', 'age', 'N[device_id]']\n",
    "X1=Test[feature_cols]\n",
    "X1.shape,type(X)\n",
    "XTest=Test"
   ]
  },
  {
   "cell_type": "code",
   "execution_count": 621,
   "metadata": {},
   "outputs": [
    {
     "data": {
      "text/plain": [
       "(13413, 13)"
      ]
     },
     "execution_count": 621,
     "metadata": {},
     "output_type": "execute_result"
    }
   ],
   "source": [
    "XTest.shape"
   ]
  },
  {
   "cell_type": "code",
   "execution_count": 622,
   "metadata": {},
   "outputs": [],
   "source": [
    "X1_Pred=knnclf.predict(X1)"
   ]
  },
  {
   "cell_type": "code",
   "execution_count": 623,
   "metadata": {},
   "outputs": [
    {
     "data": {
      "text/plain": [
       "(13413,)"
      ]
     },
     "execution_count": 623,
     "metadata": {},
     "output_type": "execute_result"
    }
   ],
   "source": [
    "X1_Pred.shape"
   ]
  },
  {
   "cell_type": "code",
   "execution_count": 624,
   "metadata": {},
   "outputs": [],
   "source": [
    "Test_Pred=pd.DataFrame(X1_Pred,columns=['Predicted class'])"
   ]
  },
  {
   "cell_type": "code",
   "execution_count": 625,
   "metadata": {},
   "outputs": [
    {
     "data": {
      "text/plain": [
       "pandas.core.frame.DataFrame"
      ]
     },
     "execution_count": 625,
     "metadata": {},
     "output_type": "execute_result"
    }
   ],
   "source": [
    "type(Test_Pred)"
   ]
  },
  {
   "cell_type": "code",
   "execution_count": 626,
   "metadata": {},
   "outputs": [
    {
     "data": {
      "text/plain": [
       "pandas.core.frame.DataFrame"
      ]
     },
     "execution_count": 626,
     "metadata": {},
     "output_type": "execute_result"
    }
   ],
   "source": [
    "type(X1)"
   ]
  },
  {
   "cell_type": "code",
   "execution_count": 627,
   "metadata": {},
   "outputs": [],
   "source": [
    "##df = pd.DataFrame(data,index=data[:,0]),\n",
    "Test_Predictions=pd.concat([XTest,Test_Pred],axis=1)"
   ]
  },
  {
   "cell_type": "code",
   "execution_count": 628,
   "metadata": {},
   "outputs": [
    {
     "data": {
      "text/plain": [
       "(13413, 14)"
      ]
     },
     "execution_count": 628,
     "metadata": {},
     "output_type": "execute_result"
    }
   ],
   "source": [
    "Test_Predictions.shape"
   ]
  },
  {
   "cell_type": "code",
   "execution_count": 629,
   "metadata": {},
   "outputs": [],
   "source": [
    "Test_Predictions.to_csv(\"Submission_Rajkumar_Doraiswamy.csv\")"
   ]
  },
  {
   "cell_type": "markdown",
   "metadata": {},
   "source": [
    "# Let us look at the Cost to the Customer"
   ]
  },
  {
   "cell_type": "code",
   "execution_count": 638,
   "metadata": {},
   "outputs": [
    {
     "data": {
      "text/plain": [
       "((18673, 4), (18673,), (18673,))"
      ]
     },
     "execution_count": 638,
     "metadata": {},
     "output_type": "execute_result"
    }
   ],
   "source": [
    "X_test.shape, y_test.shape, Cust_Pred.shape"
   ]
  },
  {
   "cell_type": "code",
   "execution_count": 631,
   "metadata": {},
   "outputs": [],
   "source": [
    "Cust_Pred=knnclf.predict(X_test)"
   ]
  },
  {
   "cell_type": "code",
   "execution_count": 632,
   "metadata": {},
   "outputs": [
    {
     "data": {
      "text/plain": [
       "(numpy.ndarray, numpy.ndarray, numpy.ndarray)"
      ]
     },
     "execution_count": 632,
     "metadata": {},
     "output_type": "execute_result"
    }
   ],
   "source": [
    "type(Cust_Pred), type(y_test), type(X_test)"
   ]
  },
  {
   "cell_type": "code",
   "execution_count": 634,
   "metadata": {},
   "outputs": [
    {
     "data": {
      "text/plain": [
       "((18673, 1), (18673, 1), (18673, 4))"
      ]
     },
     "execution_count": 634,
     "metadata": {},
     "output_type": "execute_result"
    }
   ],
   "source": [
    "Cust_Pred_Class.shape, Act_test_Class.shape, Data_X_test.shape"
   ]
  },
  {
   "cell_type": "code",
   "execution_count": 635,
   "metadata": {},
   "outputs": [],
   "source": [
    "Cust_Pred_Class=pd.DataFrame(Cust_Pred,columns=['Predicted class by Model'])"
   ]
  },
  {
   "cell_type": "code",
   "execution_count": 636,
   "metadata": {},
   "outputs": [],
   "source": [
    "Act_test_Class=pd.DataFrame(y_test,columns=['class'])"
   ]
  },
  {
   "cell_type": "code",
   "execution_count": 637,
   "metadata": {},
   "outputs": [],
   "source": [
    "Data_X_test=pd.DataFrame(X_test,columns=['signup_time-purchase_time', 'purchase_value', 'age', 'N[device_id]'])"
   ]
  },
  {
   "cell_type": "code",
   "execution_count": 633,
   "metadata": {},
   "outputs": [
    {
     "data": {
      "text/plain": [
       "(pandas.core.frame.DataFrame,\n",
       " pandas.core.frame.DataFrame,\n",
       " pandas.core.frame.DataFrame)"
      ]
     },
     "execution_count": 633,
     "metadata": {},
     "output_type": "execute_result"
    }
   ],
   "source": [
    "type(Cust_Pred_Class), type(Act_test_Class), type(Data_X_test)"
   ]
  },
  {
   "cell_type": "code",
   "execution_count": 639,
   "metadata": {},
   "outputs": [],
   "source": [
    "Cust_Predict=pd.concat([Data_X_test,Act_test_Class,Cust_Pred_Class],axis=1)"
   ]
  },
  {
   "cell_type": "code",
   "execution_count": 640,
   "metadata": {},
   "outputs": [
    {
     "data": {
      "text/plain": [
       "(pandas.core.frame.DataFrame, (18673, 6))"
      ]
     },
     "execution_count": 640,
     "metadata": {},
     "output_type": "execute_result"
    }
   ],
   "source": [
    "type(Cust_Predict), Cust_Predict.shape"
   ]
  },
  {
   "cell_type": "code",
   "execution_count": 641,
   "metadata": {},
   "outputs": [
    {
     "data": {
      "text/html": [
       "<div>\n",
       "<style scoped>\n",
       "    .dataframe tbody tr th:only-of-type {\n",
       "        vertical-align: middle;\n",
       "    }\n",
       "\n",
       "    .dataframe tbody tr th {\n",
       "        vertical-align: top;\n",
       "    }\n",
       "\n",
       "    .dataframe thead th {\n",
       "        text-align: right;\n",
       "    }\n",
       "</style>\n",
       "<table border=\"1\" class=\"dataframe\">\n",
       "  <thead>\n",
       "    <tr style=\"text-align: right;\">\n",
       "      <th></th>\n",
       "      <th>signup_time-purchase_time</th>\n",
       "      <th>purchase_value</th>\n",
       "      <th>age</th>\n",
       "      <th>N[device_id]</th>\n",
       "      <th>class</th>\n",
       "      <th>Predicted class by Model</th>\n",
       "    </tr>\n",
       "  </thead>\n",
       "  <tbody>\n",
       "    <tr>\n",
       "      <th>18668</th>\n",
       "      <td>116284</td>\n",
       "      <td>50</td>\n",
       "      <td>31</td>\n",
       "      <td>1</td>\n",
       "      <td>0</td>\n",
       "      <td>0</td>\n",
       "    </tr>\n",
       "    <tr>\n",
       "      <th>18669</th>\n",
       "      <td>32049</td>\n",
       "      <td>18</td>\n",
       "      <td>22</td>\n",
       "      <td>1</td>\n",
       "      <td>0</td>\n",
       "      <td>0</td>\n",
       "    </tr>\n",
       "    <tr>\n",
       "      <th>18670</th>\n",
       "      <td>14539</td>\n",
       "      <td>45</td>\n",
       "      <td>21</td>\n",
       "      <td>1</td>\n",
       "      <td>0</td>\n",
       "      <td>0</td>\n",
       "    </tr>\n",
       "    <tr>\n",
       "      <th>18671</th>\n",
       "      <td>77542</td>\n",
       "      <td>16</td>\n",
       "      <td>31</td>\n",
       "      <td>1</td>\n",
       "      <td>0</td>\n",
       "      <td>0</td>\n",
       "    </tr>\n",
       "    <tr>\n",
       "      <th>18672</th>\n",
       "      <td>165499</td>\n",
       "      <td>34</td>\n",
       "      <td>19</td>\n",
       "      <td>1</td>\n",
       "      <td>0</td>\n",
       "      <td>0</td>\n",
       "    </tr>\n",
       "  </tbody>\n",
       "</table>\n",
       "</div>"
      ],
      "text/plain": [
       "       signup_time-purchase_time  purchase_value  age  N[device_id]  class  \\\n",
       "18668                     116284              50   31             1      0   \n",
       "18669                      32049              18   22             1      0   \n",
       "18670                      14539              45   21             1      0   \n",
       "18671                      77542              16   31             1      0   \n",
       "18672                     165499              34   19             1      0   \n",
       "\n",
       "       Predicted class by Model  \n",
       "18668                         0  \n",
       "18669                         0  \n",
       "18670                         0  \n",
       "18671                         0  \n",
       "18672                         0  "
      ]
     },
     "execution_count": 641,
     "metadata": {},
     "output_type": "execute_result"
    }
   ],
   "source": [
    "Cust_Predict.tail()"
   ]
  },
  {
   "cell_type": "code",
   "execution_count": 642,
   "metadata": {},
   "outputs": [
    {
     "data": {
      "text/plain": [
       "0"
      ]
     },
     "execution_count": 642,
     "metadata": {},
     "output_type": "execute_result"
    }
   ],
   "source": [
    "Cust_Predict[\"Predicted class by Model\"].isnull().sum()"
   ]
  },
  {
   "cell_type": "code",
   "execution_count": 643,
   "metadata": {},
   "outputs": [
    {
     "data": {
      "text/plain": [
       "Predicted class by Model     0\n",
       "class                        0\n",
       "N[device_id]                 0\n",
       "age                          0\n",
       "purchase_value               0\n",
       "signup_time-purchase_time    0\n",
       "dtype: int64"
      ]
     },
     "execution_count": 643,
     "metadata": {},
     "output_type": "execute_result"
    }
   ],
   "source": [
    "np.sum(Cust_Predict.isnull()).sort_values(ascending = False)"
   ]
  },
  {
   "cell_type": "markdown",
   "metadata": {},
   "source": [
    "Let us extract all Data. Cost to the customer is $8* wrongFraudulent + purchase value of all frauds that missed"
   ]
  },
  {
   "cell_type": "markdown",
   "metadata": {},
   "source": [
    "Fradulent Transactions are our Positive Class 1. Normal Transaction is our Negative Class 0. \n",
    "False Negatives is where the transactions are normal but our Model predicted as Fradulent. This will result in temporary lost sale.We take the total number of transactions and multiple by $8. \n",
    "False Positives is where the transactions are Fradulent but our Model predcited as Normal which is a LOSS to the customers. We add all the Purchase Value of these Transactions. "
   ]
  },
  {
   "cell_type": "code",
   "execution_count": 644,
   "metadata": {},
   "outputs": [],
   "source": [
    "FalseNegatives=Cust_Predict[( Cust_Predict[\"class\"]==0) & (Cust_Predict[\"Predicted class by Model\"]==1)]"
   ]
  },
  {
   "cell_type": "code",
   "execution_count": 647,
   "metadata": {},
   "outputs": [
    {
     "data": {
      "text/html": [
       "<div>\n",
       "<style scoped>\n",
       "    .dataframe tbody tr th:only-of-type {\n",
       "        vertical-align: middle;\n",
       "    }\n",
       "\n",
       "    .dataframe tbody tr th {\n",
       "        vertical-align: top;\n",
       "    }\n",
       "\n",
       "    .dataframe thead th {\n",
       "        text-align: right;\n",
       "    }\n",
       "</style>\n",
       "<table border=\"1\" class=\"dataframe\">\n",
       "  <thead>\n",
       "    <tr style=\"text-align: right;\">\n",
       "      <th></th>\n",
       "      <th>signup_time-purchase_time</th>\n",
       "      <th>purchase_value</th>\n",
       "      <th>age</th>\n",
       "      <th>N[device_id]</th>\n",
       "      <th>class</th>\n",
       "      <th>Predicted class by Model</th>\n",
       "    </tr>\n",
       "  </thead>\n",
       "  <tbody>\n",
       "    <tr>\n",
       "      <th>18531</th>\n",
       "      <td>14296</td>\n",
       "      <td>61</td>\n",
       "      <td>52</td>\n",
       "      <td>1</td>\n",
       "      <td>0</td>\n",
       "      <td>1</td>\n",
       "    </tr>\n",
       "    <tr>\n",
       "      <th>18582</th>\n",
       "      <td>90623</td>\n",
       "      <td>24</td>\n",
       "      <td>33</td>\n",
       "      <td>1</td>\n",
       "      <td>0</td>\n",
       "      <td>1</td>\n",
       "    </tr>\n",
       "    <tr>\n",
       "      <th>18626</th>\n",
       "      <td>130620</td>\n",
       "      <td>11</td>\n",
       "      <td>21</td>\n",
       "      <td>1</td>\n",
       "      <td>0</td>\n",
       "      <td>1</td>\n",
       "    </tr>\n",
       "    <tr>\n",
       "      <th>18637</th>\n",
       "      <td>99078</td>\n",
       "      <td>46</td>\n",
       "      <td>33</td>\n",
       "      <td>1</td>\n",
       "      <td>0</td>\n",
       "      <td>1</td>\n",
       "    </tr>\n",
       "    <tr>\n",
       "      <th>18651</th>\n",
       "      <td>142181</td>\n",
       "      <td>28</td>\n",
       "      <td>36</td>\n",
       "      <td>1</td>\n",
       "      <td>0</td>\n",
       "      <td>1</td>\n",
       "    </tr>\n",
       "  </tbody>\n",
       "</table>\n",
       "</div>"
      ],
      "text/plain": [
       "       signup_time-purchase_time  purchase_value  age  N[device_id]  class  \\\n",
       "18531                      14296              61   52             1      0   \n",
       "18582                      90623              24   33             1      0   \n",
       "18626                     130620              11   21             1      0   \n",
       "18637                      99078              46   33             1      0   \n",
       "18651                     142181              28   36             1      0   \n",
       "\n",
       "       Predicted class by Model  \n",
       "18531                         1  \n",
       "18582                         1  \n",
       "18626                         1  \n",
       "18637                         1  \n",
       "18651                         1  "
      ]
     },
     "execution_count": 647,
     "metadata": {},
     "output_type": "execute_result"
    }
   ],
   "source": [
    "FalseNegatives.tail()"
   ]
  },
  {
   "cell_type": "code",
   "execution_count": 645,
   "metadata": {},
   "outputs": [],
   "source": [
    "FalsePositives=Cust_Predict[( Cust_Predict[\"class\"]==1) & (Cust_Predict[\"Predicted class by Model\"]==0)]"
   ]
  },
  {
   "cell_type": "code",
   "execution_count": 646,
   "metadata": {},
   "outputs": [
    {
     "data": {
      "text/html": [
       "<div>\n",
       "<style scoped>\n",
       "    .dataframe tbody tr th:only-of-type {\n",
       "        vertical-align: middle;\n",
       "    }\n",
       "\n",
       "    .dataframe tbody tr th {\n",
       "        vertical-align: top;\n",
       "    }\n",
       "\n",
       "    .dataframe thead th {\n",
       "        text-align: right;\n",
       "    }\n",
       "</style>\n",
       "<table border=\"1\" class=\"dataframe\">\n",
       "  <thead>\n",
       "    <tr style=\"text-align: right;\">\n",
       "      <th></th>\n",
       "      <th>signup_time-purchase_time</th>\n",
       "      <th>purchase_value</th>\n",
       "      <th>age</th>\n",
       "      <th>N[device_id]</th>\n",
       "      <th>class</th>\n",
       "      <th>Predicted class by Model</th>\n",
       "    </tr>\n",
       "  </thead>\n",
       "  <tbody>\n",
       "    <tr>\n",
       "      <th>47</th>\n",
       "      <td>105948</td>\n",
       "      <td>38</td>\n",
       "      <td>26</td>\n",
       "      <td>1</td>\n",
       "      <td>1</td>\n",
       "      <td>0</td>\n",
       "    </tr>\n",
       "    <tr>\n",
       "      <th>56</th>\n",
       "      <td>105813</td>\n",
       "      <td>18</td>\n",
       "      <td>29</td>\n",
       "      <td>1</td>\n",
       "      <td>1</td>\n",
       "      <td>0</td>\n",
       "    </tr>\n",
       "    <tr>\n",
       "      <th>73</th>\n",
       "      <td>162440</td>\n",
       "      <td>89</td>\n",
       "      <td>35</td>\n",
       "      <td>1</td>\n",
       "      <td>1</td>\n",
       "      <td>0</td>\n",
       "    </tr>\n",
       "    <tr>\n",
       "      <th>142</th>\n",
       "      <td>106829</td>\n",
       "      <td>45</td>\n",
       "      <td>42</td>\n",
       "      <td>1</td>\n",
       "      <td>1</td>\n",
       "      <td>0</td>\n",
       "    </tr>\n",
       "    <tr>\n",
       "      <th>168</th>\n",
       "      <td>62606</td>\n",
       "      <td>17</td>\n",
       "      <td>21</td>\n",
       "      <td>2</td>\n",
       "      <td>1</td>\n",
       "      <td>0</td>\n",
       "    </tr>\n",
       "  </tbody>\n",
       "</table>\n",
       "</div>"
      ],
      "text/plain": [
       "     signup_time-purchase_time  purchase_value  age  N[device_id]  class  \\\n",
       "47                      105948              38   26             1      1   \n",
       "56                      105813              18   29             1      1   \n",
       "73                      162440              89   35             1      1   \n",
       "142                     106829              45   42             1      1   \n",
       "168                      62606              17   21             2      1   \n",
       "\n",
       "     Predicted class by Model  \n",
       "47                          0  \n",
       "56                          0  \n",
       "73                          0  \n",
       "142                         0  \n",
       "168                         0  "
      ]
     },
     "execution_count": 646,
     "metadata": {},
     "output_type": "execute_result"
    }
   ],
   "source": [
    "FalsePositives.head()"
   ]
  },
  {
   "cell_type": "markdown",
   "metadata": {},
   "source": [
    "Now let us take our Best Model that gave us a best RECALL to calculate the cost and verify the transactions. "
   ]
  },
  {
   "cell_type": "code",
   "execution_count": 649,
   "metadata": {},
   "outputs": [
    {
     "data": {
      "text/plain": [
       "array([[16112,   784],\n",
       "       [  790,   987]], dtype=int64)"
      ]
     },
     "execution_count": 649,
     "metadata": {},
     "output_type": "execute_result"
    }
   ],
   "source": [
    "knnclf_CM"
   ]
  },
  {
   "cell_type": "code",
   "execution_count": 650,
   "metadata": {},
   "outputs": [
    {
     "name": "stdout",
     "output_type": "stream",
     "text": [
      "<class 'pandas.core.frame.DataFrame'>\n",
      "Int64Index: 784 entries, 20 to 18651\n",
      "Data columns (total 6 columns):\n",
      "signup_time-purchase_time    784 non-null int64\n",
      "purchase_value               784 non-null int64\n",
      "age                          784 non-null int64\n",
      "N[device_id]                 784 non-null int64\n",
      "class                        784 non-null int64\n",
      "Predicted class by Model     784 non-null int64\n",
      "dtypes: int64(6)\n",
      "memory usage: 42.9 KB\n",
      "<class 'pandas.core.frame.DataFrame'>\n",
      "Int64Index: 790 entries, 47 to 18656\n",
      "Data columns (total 6 columns):\n",
      "signup_time-purchase_time    790 non-null int64\n",
      "purchase_value               790 non-null int64\n",
      "age                          790 non-null int64\n",
      "N[device_id]                 790 non-null int64\n",
      "class                        790 non-null int64\n",
      "Predicted class by Model     790 non-null int64\n",
      "dtypes: int64(6)\n",
      "memory usage: 43.2 KB\n"
     ]
    },
    {
     "data": {
      "text/plain": [
       "(None, None)"
      ]
     },
     "execution_count": 650,
     "metadata": {},
     "output_type": "execute_result"
    }
   ],
   "source": [
    "FalseNegatives.info(), FalsePositives.info()\n"
   ]
  },
  {
   "cell_type": "code",
   "execution_count": 651,
   "metadata": {},
   "outputs": [
    {
     "name": "stdout",
     "output_type": "stream",
     "text": [
      "Total number of FalsePositives :  790\n",
      "CostOfFalsePositive=           : $ 6320\n"
     ]
    }
   ],
   "source": [
    "print('Total number of FalsePositives : ', len(FalsePositives.index))\n",
    "print('CostOfFalsePositive=           : $', len(FalsePositives.index)*8)\n"
   ]
  },
  {
   "cell_type": "code",
   "execution_count": 652,
   "metadata": {},
   "outputs": [
    {
     "name": "stdout",
     "output_type": "stream",
     "text": [
      "Total number of FalseNegatives :  784\n",
      "CostOfFalseNegative =          : $ 29939\n"
     ]
    }
   ],
   "source": [
    "print('Total number of FalseNegatives : ', len(FalseNegatives.index))\n",
    "print('CostOfFalseNegative =          : $',np.sum(FalsePositives.purchase_value))"
   ]
  },
  {
   "cell_type": "code",
   "execution_count": 654,
   "metadata": {},
   "outputs": [
    {
     "name": "stdout",
     "output_type": "stream",
     "text": [
      "totalCost =          : $ 36259\n"
     ]
    }
   ],
   "source": [
    "print('totalCost =          : $', (CostOfFalsePositive +CostOfFalseNegative))"
   ]
  }
 ],
 "metadata": {
  "kernelspec": {
   "display_name": "Python 3",
   "language": "python",
   "name": "python3"
  },
  "language_info": {
   "codemirror_mode": {
    "name": "ipython",
    "version": 3
   },
   "file_extension": ".py",
   "mimetype": "text/x-python",
   "name": "python",
   "nbconvert_exporter": "python",
   "pygments_lexer": "ipython3",
   "version": "3.7.1"
  }
 },
 "nbformat": 4,
 "nbformat_minor": 2
}
